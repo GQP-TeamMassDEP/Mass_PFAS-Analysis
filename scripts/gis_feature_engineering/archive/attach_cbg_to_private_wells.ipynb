{
  "nbformat": 4,
  "nbformat_minor": 0,
  "metadata": {
    "colab": {
      "name": "attach_cbg.ipynb",
      "provenance": [],
      "collapsed_sections": []
    },
    "kernelspec": {
      "name": "python3",
      "display_name": "Python 3"
    },
    "language_info": {
      "name": "python"
    }
  },
  "cells": [
    {
      "cell_type": "code",
      "metadata": {
        "colab": {
          "base_uri": "https://localhost:8080/"
        },
        "id": "QI-U9z1CI0Ki",
        "outputId": "9d368a33-c885-4747-a058-16a2479434f2"
      },
      "source": [
        "!git clone https://***AccessToken***@github.com/GQP-TeamMassDEP/private-well-storage.git"
      ],
      "execution_count": 23,
      "outputs": [
        {
          "output_type": "stream",
          "name": "stdout",
          "text": [
            "fatal: destination path 'private-well-storage' already exists and is not an empty directory.\n"
          ]
        }
      ]
    },
    {
      "cell_type": "code",
      "metadata": {
        "id": "ZJaaPeEILhs2"
      },
      "source": [
        "!pip install geopandas Rtree"
      ],
      "execution_count": null,
      "outputs": []
    },
    {
      "cell_type": "code",
      "metadata": {
        "id": "Ajq10cNrJT9M"
      },
      "source": [
        "import pandas as pd\n",
        "import geopandas as gpd"
      ],
      "execution_count": 1,
      "outputs": []
    },
    {
      "cell_type": "code",
      "metadata": {
        "id": "WyU-IcCXJVur"
      },
      "source": [
        "private_well_locations = pd.read_excel('/content/private-well-storage/PWO Well ID_XY_WPI.xlsx')\n",
        "cbg_gdf = gpd.read_file('/content/private-well-storage/tl_2010_25_bg10.zip')"
      ],
      "execution_count": 2,
      "outputs": []
    },
    {
      "cell_type": "code",
      "metadata": {
        "colab": {
          "base_uri": "https://localhost:8080/"
        },
        "id": "tTJLDY96MJsF",
        "outputId": "5017c982-e14f-4295-a93b-ada879337ce1"
      },
      "source": [
        "# turn into geodataframe\n",
        "private_well_gdf = gpd.GeoDataFrame(\n",
        "    private_well_locations,\n",
        "    geometry=gpd.points_from_xy(private_well_locations.longitude, private_well_locations.latitude),\n",
        "    crs={\"init\":\"EPSG:4326\"})"
      ],
      "execution_count": 3,
      "outputs": [
        {
          "output_type": "stream",
          "name": "stderr",
          "text": [
            "/usr/local/lib/python3.7/dist-packages/pyproj/crs/crs.py:131: FutureWarning: '+init=<authority>:<code>' syntax is deprecated. '<authority>:<code>' is the preferred initialization method. When making the change, be mindful of axis order changes: https://pyproj4.github.io/pyproj/stable/gotchas.html#axis-order-changes-in-proj-6\n",
            "  in_crs_string = _prepare_from_proj_string(in_crs_string)\n"
          ]
        }
      ]
    },
    {
      "cell_type": "code",
      "metadata": {
        "colab": {
          "base_uri": "https://localhost:8080/"
        },
        "id": "La7Dw7CGJj30",
        "outputId": "df0aaae2-dbee-44fe-ac14-790170eb99ae"
      },
      "source": [
        "pointInPoly = gpd.sjoin(private_well_gdf, cbg_gdf[['geometry', 'GEOID10']], op='within') "
      ],
      "execution_count": 6,
      "outputs": [
        {
          "output_type": "stream",
          "name": "stderr",
          "text": [
            "/usr/local/lib/python3.7/dist-packages/IPython/core/interactiveshell.py:2822: FutureWarning: The `op` parameter is deprecated and will be removed in a future release. Please use the `predicate` parameter instead.\n",
            "  if self.run_code(code, result):\n",
            "/usr/local/lib/python3.7/dist-packages/ipykernel_launcher.py:1: UserWarning: CRS mismatch between the CRS of left geometries and the CRS of right geometries.\n",
            "Use `to_crs()` to reproject one of the input geometries to match the CRS of the other.\n",
            "\n",
            "Left CRS: +init=epsg:4326 +type=crs\n",
            "Right CRS: EPSG:4269\n",
            "\n",
            "  \"\"\"Entry point for launching an IPython kernel.\n"
          ]
        }
      ]
    },
    {
      "cell_type": "code",
      "metadata": {
        "colab": {
          "base_uri": "https://localhost:8080/"
        },
        "id": "FAdIzsSzKgZD",
        "outputId": "cc6123eb-9306-4760-ef43-fa90db4f50cf"
      },
      "source": [
        "pointInPoly.shape[0] == private_well_locations.shape[0]"
      ],
      "execution_count": 9,
      "outputs": [
        {
          "output_type": "execute_result",
          "data": {
            "text/plain": [
              "True"
            ]
          },
          "metadata": {},
          "execution_count": 9
        }
      ]
    }
  ]
}