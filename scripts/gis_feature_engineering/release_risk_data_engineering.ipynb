{
 "cells": [
  {
   "cell_type": "markdown",
   "metadata": {},
   "source": [
    "# Notebook for creating GIS features for release risk model\n",
    "\n",
    "All data is developed at the Census Block Group (CBG) level.\n",
    "\n",
    "Response: Presence of disposal sites.\n",
    "\n",
    "Predictors created:\n",
    "* Num of firestations\n",
    "* Num of industrial sites\n",
    "* Land area\n",
    "* Water Area\n",
    "* Airports \n",
    "* Army Bases \n",
    "* Highways (OSM) \n",
    "* Population Density \n",
    "* Number of Businesses (Look at MassDEP website) \n",
    "\n",
    "Features to create:\n",
    "* Firefighter training facilities \n",
    "\n",
    "Maybe stay within CBGs of counties where we have disposal sites - hopefully will do it. Maybe use private well cbgs only. \n",
    "\n",
    "****\n",
    "Notes on feature creation:\n",
    "- Number of potential sources: Point-within-polygon sum calculation\n",
    "Disposal site data is skewed towards non-environmental type releases. More along the lines of car crashes, and oils spills. \n",
    "\n",
    "****"
   ]
  },
  {
   "cell_type": "code",
   "execution_count": 1,
   "metadata": {},
   "outputs": [],
   "source": [
    "import pandas as pd\n",
    "import geopandas as gpd\n",
    "import numpy as np\n",
    "import model_utils\n",
    "import warnings\n",
    "warnings.filterwarnings('ignore')"
   ]
  },
  {
   "cell_type": "code",
   "execution_count": 2,
   "metadata": {},
   "outputs": [],
   "source": [
    "# Read in CBG polygon as geodataframe\n",
    "cbg_gdf = gpd.read_file(f'zip://../../data/tl_2010_25_bg10.zip')\n",
    "cbg_gdf['GEOID10'] = cbg_gdf['GEOID10'].astype(np.int64).astype(str).str.zfill(12)\n",
    "modeling_dataset = cbg_gdf[['GEOID10', 'NAMELSAD10', 'ALAND10', 'AWATER10', 'INTPTLAT10', 'INTPTLON10', 'geometry']]"
   ]
  },
  {
   "cell_type": "markdown",
   "metadata": {},
   "source": [
    "### Response data\n",
    "* Presence of disposal site in CBG"
   ]
  },
  {
   "cell_type": "code",
   "execution_count": 3,
   "metadata": {},
   "outputs": [],
   "source": [
    "# Read in disposal site location data\n",
    "disposal_sites = pd.read_parquet('../../data/disposal_sites/PFAS_Sites_2021-11-07_geocoded.parquet')\n",
    "\n",
    "# convert coordinate file to gdf\n",
    "# It does not have a coordinate system - so set it.\n",
    "# 4326 makes sense if values show longitudes ~ -70 and  latitudes ~ 41\n",
    "disposal_site_gdf = gpd.GeoDataFrame(\n",
    "    disposal_sites, \n",
    "    geometry=gpd.points_from_xy(disposal_sites.lon, disposal_sites.lat),\n",
    "    crs={\"init\":\"EPSG:4326\"})\n",
    "\n",
    "# gpd.read_file(f'zip://../../data/c21e_pt.zip.zip!C21E_PT.shp') # Is this the correct file??\n",
    "\n",
    "response_data = model_utils.sum_points_in_poly(poly_gdf = cbg_gdf, \n",
    "                                               point_gdf = disposal_site_gdf,\n",
    "                                               col_name = 'disposal_sites',\n",
    "                                               groups = ['GEOID10'])\n",
    "\n",
    "# Attach to modeling dataset\n",
    "modeling_dataset = modeling_dataset.merge(response_data, on = 'GEOID10', how = 'left')\n",
    "modeling_dataset['sum_disposal_sites'] = modeling_dataset['sum_disposal_sites'].replace({np.nan : 0})\n",
    "\n",
    "# Convert multiple to 1 (since classification problem)\n",
    "modeling_dataset['response'] = np.where(modeling_dataset['sum_disposal_sites'] >= 1, 1, 0)"
   ]
  },
  {
   "cell_type": "code",
   "execution_count": 4,
   "metadata": {},
   "outputs": [
    {
     "data": {
      "text/html": [
       "<div>\n",
       "<style scoped>\n",
       "    .dataframe tbody tr th:only-of-type {\n",
       "        vertical-align: middle;\n",
       "    }\n",
       "\n",
       "    .dataframe tbody tr th {\n",
       "        vertical-align: top;\n",
       "    }\n",
       "\n",
       "    .dataframe thead th {\n",
       "        text-align: right;\n",
       "    }\n",
       "</style>\n",
       "<table border=\"1\" class=\"dataframe\">\n",
       "  <thead>\n",
       "    <tr style=\"text-align: right;\">\n",
       "      <th></th>\n",
       "      <th>GEOID10</th>\n",
       "      <th>NAMELSAD10</th>\n",
       "      <th>ALAND10</th>\n",
       "      <th>AWATER10</th>\n",
       "      <th>INTPTLAT10</th>\n",
       "      <th>INTPTLON10</th>\n",
       "      <th>geometry</th>\n",
       "      <th>sum_disposal_sites</th>\n",
       "      <th>response</th>\n",
       "    </tr>\n",
       "  </thead>\n",
       "  <tbody>\n",
       "    <tr>\n",
       "      <th>0</th>\n",
       "      <td>250235251042</td>\n",
       "      <td>Block Group 2</td>\n",
       "      <td>2648651</td>\n",
       "      <td>119260</td>\n",
       "      <td>+41.9751132</td>\n",
       "      <td>-070.9683373</td>\n",
       "      <td>POLYGON ((-70.98402 41.97135, -70.98386 41.971...</td>\n",
       "      <td>0.0</td>\n",
       "      <td>0</td>\n",
       "    </tr>\n",
       "    <tr>\n",
       "      <th>1</th>\n",
       "      <td>250235251044</td>\n",
       "      <td>Block Group 4</td>\n",
       "      <td>4625818</td>\n",
       "      <td>11563</td>\n",
       "      <td>+41.9677679</td>\n",
       "      <td>-070.9881083</td>\n",
       "      <td>POLYGON ((-71.00489 41.96832, -71.00486 41.968...</td>\n",
       "      <td>0.0</td>\n",
       "      <td>0</td>\n",
       "    </tr>\n",
       "  </tbody>\n",
       "</table>\n",
       "</div>"
      ],
      "text/plain": [
       "        GEOID10     NAMELSAD10  ALAND10  AWATER10   INTPTLAT10    INTPTLON10  \\\n",
       "0  250235251042  Block Group 2  2648651    119260  +41.9751132  -070.9683373   \n",
       "1  250235251044  Block Group 4  4625818     11563  +41.9677679  -070.9881083   \n",
       "\n",
       "                                            geometry  sum_disposal_sites  \\\n",
       "0  POLYGON ((-70.98402 41.97135, -70.98386 41.971...                 0.0   \n",
       "1  POLYGON ((-71.00489 41.96832, -71.00486 41.968...                 0.0   \n",
       "\n",
       "   response  \n",
       "0         0  \n",
       "1         0  "
      ]
     },
     "execution_count": 4,
     "metadata": {},
     "output_type": "execute_result"
    }
   ],
   "source": [
    "modeling_dataset.head(2)"
   ]
  },
  {
   "cell_type": "code",
   "execution_count": 5,
   "metadata": {},
   "outputs": [
    {
     "data": {
      "text/html": [
       "<div>\n",
       "<style scoped>\n",
       "    .dataframe tbody tr th:only-of-type {\n",
       "        vertical-align: middle;\n",
       "    }\n",
       "\n",
       "    .dataframe tbody tr th {\n",
       "        vertical-align: top;\n",
       "    }\n",
       "\n",
       "    .dataframe thead th {\n",
       "        text-align: right;\n",
       "    }\n",
       "</style>\n",
       "<table border=\"1\" class=\"dataframe\">\n",
       "  <thead>\n",
       "    <tr style=\"text-align: right;\">\n",
       "      <th></th>\n",
       "      <th>ALAND10</th>\n",
       "      <th>AWATER10</th>\n",
       "      <th>sum_disposal_sites</th>\n",
       "      <th>response</th>\n",
       "    </tr>\n",
       "  </thead>\n",
       "  <tbody>\n",
       "    <tr>\n",
       "      <th>count</th>\n",
       "      <td>4.985000e+03</td>\n",
       "      <td>4.985000e+03</td>\n",
       "      <td>4985.000000</td>\n",
       "      <td>4985.000000</td>\n",
       "    </tr>\n",
       "    <tr>\n",
       "      <th>mean</th>\n",
       "      <td>4.052569e+06</td>\n",
       "      <td>1.431030e+06</td>\n",
       "      <td>0.010231</td>\n",
       "      <td>0.008425</td>\n",
       "    </tr>\n",
       "    <tr>\n",
       "      <th>std</th>\n",
       "      <td>1.047237e+07</td>\n",
       "      <td>3.687699e+07</td>\n",
       "      <td>0.120591</td>\n",
       "      <td>0.091411</td>\n",
       "    </tr>\n",
       "    <tr>\n",
       "      <th>min</th>\n",
       "      <td>0.000000e+00</td>\n",
       "      <td>0.000000e+00</td>\n",
       "      <td>0.000000</td>\n",
       "      <td>0.000000</td>\n",
       "    </tr>\n",
       "    <tr>\n",
       "      <th>25%</th>\n",
       "      <td>2.520430e+05</td>\n",
       "      <td>0.000000e+00</td>\n",
       "      <td>0.000000</td>\n",
       "      <td>0.000000</td>\n",
       "    </tr>\n",
       "    <tr>\n",
       "      <th>50%</th>\n",
       "      <td>8.454730e+05</td>\n",
       "      <td>6.313000e+03</td>\n",
       "      <td>0.000000</td>\n",
       "      <td>0.000000</td>\n",
       "    </tr>\n",
       "    <tr>\n",
       "      <th>75%</th>\n",
       "      <td>3.188137e+06</td>\n",
       "      <td>1.302360e+05</td>\n",
       "      <td>0.000000</td>\n",
       "      <td>0.000000</td>\n",
       "    </tr>\n",
       "    <tr>\n",
       "      <th>max</th>\n",
       "      <td>1.452006e+08</td>\n",
       "      <td>2.152192e+09</td>\n",
       "      <td>3.000000</td>\n",
       "      <td>1.000000</td>\n",
       "    </tr>\n",
       "  </tbody>\n",
       "</table>\n",
       "</div>"
      ],
      "text/plain": [
       "            ALAND10      AWATER10  sum_disposal_sites     response\n",
       "count  4.985000e+03  4.985000e+03         4985.000000  4985.000000\n",
       "mean   4.052569e+06  1.431030e+06            0.010231     0.008425\n",
       "std    1.047237e+07  3.687699e+07            0.120591     0.091411\n",
       "min    0.000000e+00  0.000000e+00            0.000000     0.000000\n",
       "25%    2.520430e+05  0.000000e+00            0.000000     0.000000\n",
       "50%    8.454730e+05  6.313000e+03            0.000000     0.000000\n",
       "75%    3.188137e+06  1.302360e+05            0.000000     0.000000\n",
       "max    1.452006e+08  2.152192e+09            3.000000     1.000000"
      ]
     },
     "execution_count": 5,
     "metadata": {},
     "output_type": "execute_result"
    }
   ],
   "source": [
    "modeling_dataset.describe()"
   ]
  },
  {
   "cell_type": "markdown",
   "metadata": {},
   "source": [
    "***"
   ]
  },
  {
   "cell_type": "markdown",
   "metadata": {},
   "source": [
    "## Predictors"
   ]
  },
  {
   "cell_type": "markdown",
   "metadata": {},
   "source": [
    "Area hierarchies"
   ]
  },
  {
   "cell_type": "code",
   "execution_count": 8,
   "metadata": {},
   "outputs": [],
   "source": [
    "modeling_dataset['county'] = modeling_dataset['GEOID10'].str[:5]\n",
    "\n",
    "modeling_dataset['places'] = modeling_dataset['GEOID10'].str[:7]"
   ]
  },
  {
   "cell_type": "markdown",
   "metadata": {},
   "source": [
    "Firestations"
   ]
  },
  {
   "cell_type": "code",
   "execution_count": 9,
   "metadata": {},
   "outputs": [],
   "source": [
    "# Firestations\n",
    "firestation_gdf = gpd.read_file(f'zip://../../data/features/firefacilities_pt.zip')\n",
    "\n",
    "# Get sum of points in CBG\n",
    "firestation_data = model_utils.sum_points_in_poly(poly_gdf = cbg_gdf, \n",
    "                                                   point_gdf = firestation_gdf,\n",
    "                                                   col_name = 'firestations',\n",
    "                                                   groups = ['GEOID10'])\n",
    "\n",
    "# Attach to modeling dataset\n",
    "modeling_dataset = modeling_dataset.merge(firestation_data, on = 'GEOID10', how = 'left')\n",
    "modeling_dataset['sum_firestations'] = modeling_dataset['sum_firestations'].replace({np.nan : 0})"
   ]
  },
  {
   "cell_type": "markdown",
   "metadata": {},
   "source": [
    "Industry Sources"
   ]
  },
  {
   "cell_type": "code",
   "execution_count": 10,
   "metadata": {
    "tags": []
   },
   "outputs": [],
   "source": [
    "# Industrial sites\n",
    "src_pt_df = pd.read_csv(f'../../data/features/BAW PFAS Likely Industry List 04-30-2020 - qryPFAS_High.csv')"
   ]
  },
  {
   "cell_type": "code",
   "execution_count": 11,
   "metadata": {},
   "outputs": [],
   "source": [
    "# src_pt_df has latitude and longitude incorrect formatting. Fix formatting\n",
    "src_pt_df['LATITUDE'] = src_pt_df['LATITUDE'].astype(str)\n",
    "src_pt_df['LONGITUDE'] = src_pt_df['LONGITUDE'].astype(str)\n",
    "src_pt_df['LATITUDE'] = (src_pt_df['LATITUDE'].str[:2] + '.' + src_pt_df['LATITUDE'].str[2:]).astype(float)\n",
    "src_pt_df['LONGITUDE'] = ('-' + src_pt_df['LONGITUDE'].str[:2] + '.' + src_pt_df['LONGITUDE'].str[2:]).astype(float)\n",
    "\n",
    "# convert coordinate file to gdf\n",
    "# It does not have a coordinate system - so set it.\n",
    "# 4326 makes sense if values show longitudes ~ -70 and  latitudes ~ 41\n",
    "\n",
    "src_pt_gdf = gpd.GeoDataFrame(\n",
    "    src_pt_df, \n",
    "    geometry=gpd.points_from_xy(src_pt_df.LONGITUDE, src_pt_df.LATITUDE),\n",
    "    crs={\"init\":\"EPSG:4326\"})\n",
    "\n",
    "src_pt_data = model_utils.sum_points_in_poly(poly_gdf = cbg_gdf, \n",
    "                                           point_gdf = src_pt_gdf,\n",
    "                                           col_name = 'industry_sites',\n",
    "                                           groups = ['GEOID10', 'NAICS_DESC'])\n",
    "\n",
    "# column names for all industries (NAICS_DESC)\n",
    "industry_cols = src_pt_data.columns\n",
    "\n",
    "# reset index for merge\n",
    "src_pt_data = src_pt_data.reset_index()\n",
    "\n",
    "# Attach to modeling dataset\n",
    "modeling_dataset = modeling_dataset.merge(src_pt_data, on = 'GEOID10', how = 'left')\n",
    "modeling_dataset[industry_cols] = modeling_dataset[industry_cols].replace({np.nan : 0})"
   ]
  },
  {
   "cell_type": "markdown",
   "metadata": {},
   "source": [
    "Population Density"
   ]
  },
  {
   "cell_type": "code",
   "execution_count": 12,
   "metadata": {},
   "outputs": [],
   "source": [
    "pop_dens_df = pd.read_csv(f'../../data/features/pop_density_cbg_acs_2018_9_2.csv')\n",
    "\n",
    "pop_dens_df['GEOID10'] = pop_dens_df['GEOID10'].astype(np.int64).astype(str).str.zfill(12)\n",
    "\n",
    "# Attach to modeling dataset\n",
    "modeling_dataset = modeling_dataset.merge(pop_dens_df, on = 'GEOID10', how = 'left')\n",
    "modeling_dataset['pop_density_acs_2018'] = modeling_dataset['pop_density_acs_2018'].replace({np.nan : 0})"
   ]
  },
  {
   "cell_type": "markdown",
   "metadata": {},
   "source": [
    "Airports"
   ]
  },
  {
   "cell_type": "code",
   "execution_count": 13,
   "metadata": {},
   "outputs": [],
   "source": [
    "airports_gdf = gpd.read_file(f'zip://../../data/features/Airports.zip')"
   ]
  },
  {
   "cell_type": "code",
   "execution_count": 14,
   "metadata": {},
   "outputs": [],
   "source": [
    "# Get sum of points in CBG\n",
    "airports_data = model_utils.sum_points_in_poly(poly_gdf = cbg_gdf, \n",
    "                                                   point_gdf = airports_gdf,\n",
    "                                                   col_name = 'airports',\n",
    "                                                   groups = ['GEOID10'])\n",
    "\n",
    "# Attach to modeling dataset\n",
    "modeling_dataset = modeling_dataset.merge(airports_data, on = 'GEOID10', how = 'left')\n",
    "modeling_dataset['sum_airports'] = modeling_dataset['sum_airports'].replace({np.nan : 0})"
   ]
  },
  {
   "cell_type": "markdown",
   "metadata": {},
   "source": [
    "Army Bases"
   ]
  },
  {
   "cell_type": "code",
   "execution_count": 15,
   "metadata": {},
   "outputs": [],
   "source": [
    "army_bases_gdf = gpd.read_file(f'zip://../../data/features/FY20_MIRTA_Points.zip')"
   ]
  },
  {
   "cell_type": "code",
   "execution_count": 16,
   "metadata": {},
   "outputs": [],
   "source": [
    "# Get sum of points in CBG\n",
    "army_data = model_utils.sum_points_in_poly(poly_gdf = cbg_gdf, \n",
    "                                                   point_gdf = army_bases_gdf,\n",
    "                                                   col_name = 'army_bases',\n",
    "                                                   groups = ['GEOID10'])\n",
    "\n",
    "# Attach to modeling dataset\n",
    "modeling_dataset = modeling_dataset.merge(army_data, on = 'GEOID10', how = 'left')\n",
    "modeling_dataset['sum_army_bases'] = modeling_dataset['sum_army_bases'].replace({np.nan : 0})"
   ]
  },
  {
   "cell_type": "markdown",
   "metadata": {},
   "source": [
    "Highways"
   ]
  },
  {
   "cell_type": "code",
   "execution_count": 17,
   "metadata": {},
   "outputs": [],
   "source": [
    "highways_gdf = gpd.read_file(f'zip://../../data/features/CENSUS2010TIGERROADS_ARC.zip')[['TLID', 'geometry']]"
   ]
  },
  {
   "cell_type": "code",
   "execution_count": 18,
   "metadata": {},
   "outputs": [],
   "source": [
    "line_sum_series = model_utils.sum_lines_in_poly(lines_gdf = highways_gdf, \n",
    "                              poly_gdf = cbg_gdf)"
   ]
  },
  {
   "cell_type": "code",
   "execution_count": 19,
   "metadata": {},
   "outputs": [],
   "source": [
    "modeling_dataset['sum_highways'] = line_sum_series"
   ]
  },
  {
   "cell_type": "markdown",
   "metadata": {},
   "source": [
    "Parcel Use Codes\n",
    "* Use codes: https://www.mass.gov/doc/property-type-classification-codes-non-arms-length-codes-and-sales-report-spreadsheet/download\n",
    "* 97% of parcels are within 1 CBG, so we can just spatially join"
   ]
  },
  {
   "cell_type": "code",
   "execution_count": 20,
   "metadata": {},
   "outputs": [],
   "source": [
    "tax_parcels_gdf = gpd.read_file(f'zip://../../data/features/TAX_PARCELS.zip')"
   ]
  },
  {
   "cell_type": "code",
   "execution_count": 21,
   "metadata": {},
   "outputs": [],
   "source": [
    "tax_parcels_gdf = tax_parcels_gdf.to_crs(\"EPSG:4326\")"
   ]
  },
  {
   "cell_type": "code",
   "execution_count": 22,
   "metadata": {},
   "outputs": [],
   "source": [
    "tax_parcels_gdf['USE_CODE_CLASS_CODE'] = tax_parcels_gdf['USE_CODE'].astype(str).str[:1]"
   ]
  },
  {
   "cell_type": "code",
   "execution_count": 23,
   "metadata": {},
   "outputs": [],
   "source": [
    "# Create classifications of parcels\n",
    "mask_multiple_use = (tax_parcels_gdf['USE_CODE_CLASS_CODE'] == '0')\n",
    "mask_residential = (tax_parcels_gdf['USE_CODE_CLASS_CODE'] == '1')\n",
    "mask_open_space = (tax_parcels_gdf['USE_CODE_CLASS_CODE'] == '2')\n",
    "mask_commercial = (tax_parcels_gdf['USE_CODE_CLASS_CODE'] == '3')\n",
    "mask_industrial = (tax_parcels_gdf['USE_CODE_CLASS_CODE'] == '4')\n",
    "mask_private_prop = (tax_parcels_gdf['USE_CODE_CLASS_CODE'] == '5')\n",
    "mask_forest = (tax_parcels_gdf['USE_CODE_CLASS_CODE'] == '6')\n",
    "mask_agricultural = (tax_parcels_gdf['USE_CODE_CLASS_CODE'] == '7')\n",
    "mask_recreational = (tax_parcels_gdf['USE_CODE_CLASS_CODE'] == '8')\n",
    "mask_exempt = (tax_parcels_gdf['USE_CODE_CLASS_CODE'] == '9')\n",
    "\n",
    "tax_parcels_gdf.loc[mask_multiple_use, 'USE_CODE_CLASS'] = 'MULTIPLE-USE' \n",
    "tax_parcels_gdf.loc[mask_residential, 'USE_CODE_CLASS'] = 'RESIDENTIAL' \n",
    "tax_parcels_gdf.loc[mask_open_space, 'USE_CODE_CLASS'] = 'OPEN-SPACE' \n",
    "tax_parcels_gdf.loc[mask_commercial, 'USE_CODE_CLASS'] = 'COMMERCIAL' \n",
    "tax_parcels_gdf.loc[mask_industrial, 'USE_CODE_CLASS'] = 'INDUSTRIAL' \n",
    "tax_parcels_gdf.loc[mask_private_prop, 'USE_CODE_CLASS'] = 'PRIVATE-PROPERTY' \n",
    "tax_parcels_gdf.loc[mask_forest, 'USE_CODE_CLASS'] = 'FOREST' \n",
    "tax_parcels_gdf.loc[mask_agricultural, 'USE_CODE_CLASS'] = 'AGRICULTURAL' \n",
    "tax_parcels_gdf.loc[mask_recreational, 'USE_CODE_CLASS'] = 'RECREATIONAL' \n",
    "tax_parcels_gdf.loc[mask_exempt, 'USE_CODE_CLASS'] = 'EXEMPT'"
   ]
  },
  {
   "cell_type": "code",
   "execution_count": 24,
   "metadata": {},
   "outputs": [],
   "source": [
    "# No Private Property data\n",
    "land_use_cols =['MULTIPLE-USE' \n",
    "                ,'RESIDENTIAL' \n",
    "                ,'OPEN-SPACE' \n",
    "                ,'COMMERCIAL' \n",
    "                ,'INDUSTRIAL' \n",
    "                ,'FOREST' \n",
    "                ,'AGRICULTURAL' \n",
    "                , 'RECREATIONAL' \n",
    "                ,'EXEMPT']"
   ]
  },
  {
   "cell_type": "code",
   "execution_count": 25,
   "metadata": {},
   "outputs": [],
   "source": [
    "tp_intersection = tax_parcels_gdf.overlay(cbg_gdf, how = 'intersection')"
   ]
  },
  {
   "cell_type": "code",
   "execution_count": 26,
   "metadata": {},
   "outputs": [],
   "source": [
    "# Find the area related to each class for each CBG\n",
    "tp_grp = tp_intersection.groupby(['GEOID10', 'USE_CODE_CLASS'])['SHAPE_AREA'].sum()\n",
    "tp_grp = pd.DataFrame(tp_grp).reset_index()"
   ]
  },
  {
   "cell_type": "code",
   "execution_count": 27,
   "metadata": {},
   "outputs": [],
   "source": [
    "# Make into a relative measure\n",
    "tp_sum = pd.DataFrame(tp_grp.groupby(['GEOID10'])['SHAPE_AREA'].sum()).reset_index()"
   ]
  },
  {
   "cell_type": "code",
   "execution_count": 28,
   "metadata": {},
   "outputs": [],
   "source": [
    "tp_perc = tp_grp.merge(tp_sum, on = 'GEOID10')"
   ]
  },
  {
   "cell_type": "code",
   "execution_count": 29,
   "metadata": {},
   "outputs": [],
   "source": [
    "tp_perc['CLASS_AREA_PERC'] = tp_perc['SHAPE_AREA_x'] / tp_perc['SHAPE_AREA_y'] * 100\n",
    "tp_perc = tp_perc[['GEOID10', 'USE_CODE_CLASS', 'CLASS_AREA_PERC']]"
   ]
  },
  {
   "cell_type": "code",
   "execution_count": 30,
   "metadata": {},
   "outputs": [],
   "source": [
    "tp_perc = tp_perc.pivot(index='GEOID10', columns='USE_CODE_CLASS', values='CLASS_AREA_PERC').replace({np.nan : 0})\n",
    "tp_perc = tp_perc.reset_index()"
   ]
  },
  {
   "cell_type": "code",
   "execution_count": 31,
   "metadata": {},
   "outputs": [],
   "source": [
    "modeling_dataset = modeling_dataset.merge(tp_perc, on = 'GEOID10', how = 'left')\n",
    "modeling_dataset[land_use_cols] = modeling_dataset[land_use_cols].replace({np.nan : 0})"
   ]
  },
  {
   "cell_type": "markdown",
   "metadata": {},
   "source": [
    "****\n",
    "****"
   ]
  },
  {
   "cell_type": "markdown",
   "metadata": {},
   "source": [
    "### Filter data to relevant areas"
   ]
  },
  {
   "cell_type": "code",
   "execution_count": 32,
   "metadata": {},
   "outputs": [],
   "source": [
    "private_well_service_areas = gpd.read_file('zip://../../data/private_well_service.zip')"
   ]
  },
  {
   "cell_type": "code",
   "execution_count": 33,
   "metadata": {},
   "outputs": [
    {
     "name": "stdout",
     "output_type": "stream",
     "text": [
      "Wall time: 1.47 s\n"
     ]
    }
   ],
   "source": [
    "%%time\n",
    "private_well_service_areas = private_well_service_areas.to_crs(\"EPSG:4326\")\n",
    "\n",
    "# Intersection to determine CBGs that service private wells\n",
    "\n",
    "# relevant_cbgs = cbg_gdf.overlay(private_well_service_areas, how = 'intersection')\n",
    "# relevant_cbgs.to_file('../../data/release_risk_filtering_data_cbgs.geojson', driver='GeoJSON')"
   ]
  },
  {
   "cell_type": "code",
   "execution_count": 34,
   "metadata": {},
   "outputs": [],
   "source": [
    "relevant_cbgs = gpd.read_file('zip://../../data/release_risk_filtering_data_cbgs.zip')"
   ]
  },
  {
   "cell_type": "code",
   "execution_count": 35,
   "metadata": {},
   "outputs": [],
   "source": [
    "filter_cbgs = list(relevant_cbgs['GEOID10'])\n",
    "filtered_modeling_dataset = modeling_dataset[modeling_dataset['GEOID10'].isin(filter_cbgs)]"
   ]
  },
  {
   "cell_type": "code",
   "execution_count": 36,
   "metadata": {},
   "outputs": [
    {
     "data": {
      "text/plain": [
       "(2299, 52)"
      ]
     },
     "execution_count": 36,
     "metadata": {},
     "output_type": "execute_result"
    }
   ],
   "source": [
    "filtered_modeling_dataset.shape"
   ]
  },
  {
   "cell_type": "code",
   "execution_count": 37,
   "metadata": {
    "tags": []
   },
   "outputs": [
    {
     "data": {
      "text/html": [
       "<div>\n",
       "<style scoped>\n",
       "    .dataframe tbody tr th:only-of-type {\n",
       "        vertical-align: middle;\n",
       "    }\n",
       "\n",
       "    .dataframe tbody tr th {\n",
       "        vertical-align: top;\n",
       "    }\n",
       "\n",
       "    .dataframe thead th {\n",
       "        text-align: right;\n",
       "    }\n",
       "</style>\n",
       "<table border=\"1\" class=\"dataframe\">\n",
       "  <thead>\n",
       "    <tr style=\"text-align: right;\">\n",
       "      <th></th>\n",
       "      <th>GEOID10</th>\n",
       "      <th>NAMELSAD10</th>\n",
       "      <th>ALAND10</th>\n",
       "      <th>AWATER10</th>\n",
       "      <th>INTPTLAT10</th>\n",
       "      <th>INTPTLON10</th>\n",
       "      <th>geometry</th>\n",
       "      <th>sum_disposal_sites</th>\n",
       "      <th>response</th>\n",
       "      <th>county</th>\n",
       "      <th>...</th>\n",
       "      <th>sum_highways</th>\n",
       "      <th>AGRICULTURAL</th>\n",
       "      <th>COMMERCIAL</th>\n",
       "      <th>EXEMPT</th>\n",
       "      <th>FOREST</th>\n",
       "      <th>INDUSTRIAL</th>\n",
       "      <th>MULTIPLE-USE</th>\n",
       "      <th>OPEN-SPACE</th>\n",
       "      <th>RECREATIONAL</th>\n",
       "      <th>RESIDENTIAL</th>\n",
       "    </tr>\n",
       "  </thead>\n",
       "  <tbody>\n",
       "    <tr>\n",
       "      <th>2</th>\n",
       "      <td>250235252031</td>\n",
       "      <td>Block Group 1</td>\n",
       "      <td>2367037</td>\n",
       "      <td>62136</td>\n",
       "      <td>+42.0051872</td>\n",
       "      <td>-070.9629934</td>\n",
       "      <td>POLYGON ((-70.95998 42.00710, -70.95848 42.006...</td>\n",
       "      <td>0.0</td>\n",
       "      <td>0</td>\n",
       "      <td>25023</td>\n",
       "      <td>...</td>\n",
       "      <td>0.104643</td>\n",
       "      <td>0.000000</td>\n",
       "      <td>2.168028</td>\n",
       "      <td>13.464491</td>\n",
       "      <td>6.605395</td>\n",
       "      <td>0.340688</td>\n",
       "      <td>2.094458</td>\n",
       "      <td>0.0</td>\n",
       "      <td>0.0</td>\n",
       "      <td>75.326940</td>\n",
       "    </tr>\n",
       "    <tr>\n",
       "      <th>5</th>\n",
       "      <td>250235101004</td>\n",
       "      <td>Block Group 4</td>\n",
       "      <td>1264335</td>\n",
       "      <td>4841</td>\n",
       "      <td>+42.1159859</td>\n",
       "      <td>-071.0150870</td>\n",
       "      <td>POLYGON ((-71.02515 42.11744, -71.02228 42.118...</td>\n",
       "      <td>0.0</td>\n",
       "      <td>0</td>\n",
       "      <td>25023</td>\n",
       "      <td>...</td>\n",
       "      <td>0.060472</td>\n",
       "      <td>0.000000</td>\n",
       "      <td>8.777727</td>\n",
       "      <td>18.670316</td>\n",
       "      <td>0.000000</td>\n",
       "      <td>22.785765</td>\n",
       "      <td>0.000000</td>\n",
       "      <td>0.0</td>\n",
       "      <td>0.0</td>\n",
       "      <td>49.766192</td>\n",
       "    </tr>\n",
       "    <tr>\n",
       "      <th>6</th>\n",
       "      <td>250235101001</td>\n",
       "      <td>Block Group 1</td>\n",
       "      <td>780921</td>\n",
       "      <td>448</td>\n",
       "      <td>+42.1205088</td>\n",
       "      <td>-071.0063537</td>\n",
       "      <td>POLYGON ((-71.00199 42.12640, -71.00195 42.126...</td>\n",
       "      <td>0.0</td>\n",
       "      <td>0</td>\n",
       "      <td>25023</td>\n",
       "      <td>...</td>\n",
       "      <td>0.081192</td>\n",
       "      <td>0.000000</td>\n",
       "      <td>0.000000</td>\n",
       "      <td>0.237058</td>\n",
       "      <td>0.000000</td>\n",
       "      <td>0.292122</td>\n",
       "      <td>0.000000</td>\n",
       "      <td>0.0</td>\n",
       "      <td>0.0</td>\n",
       "      <td>99.470820</td>\n",
       "    </tr>\n",
       "    <tr>\n",
       "      <th>8</th>\n",
       "      <td>250235021022</td>\n",
       "      <td>Block Group 2</td>\n",
       "      <td>5507262</td>\n",
       "      <td>0</td>\n",
       "      <td>+42.0999824</td>\n",
       "      <td>-070.9011797</td>\n",
       "      <td>POLYGON ((-70.88879 42.10738, -70.88826 42.099...</td>\n",
       "      <td>0.0</td>\n",
       "      <td>0</td>\n",
       "      <td>25023</td>\n",
       "      <td>...</td>\n",
       "      <td>0.189978</td>\n",
       "      <td>0.587848</td>\n",
       "      <td>0.272041</td>\n",
       "      <td>6.891629</td>\n",
       "      <td>0.000000</td>\n",
       "      <td>1.285071</td>\n",
       "      <td>0.257443</td>\n",
       "      <td>0.0</td>\n",
       "      <td>0.0</td>\n",
       "      <td>90.705968</td>\n",
       "    </tr>\n",
       "    <tr>\n",
       "      <th>9</th>\n",
       "      <td>250235062043</td>\n",
       "      <td>Block Group 3</td>\n",
       "      <td>1969145</td>\n",
       "      <td>71242</td>\n",
       "      <td>+42.0959972</td>\n",
       "      <td>-070.6607532</td>\n",
       "      <td>POLYGON ((-70.65080 42.08668, -70.65165 42.086...</td>\n",
       "      <td>0.0</td>\n",
       "      <td>0</td>\n",
       "      <td>25023</td>\n",
       "      <td>...</td>\n",
       "      <td>0.102837</td>\n",
       "      <td>0.000000</td>\n",
       "      <td>0.209224</td>\n",
       "      <td>8.772981</td>\n",
       "      <td>0.000000</td>\n",
       "      <td>81.733147</td>\n",
       "      <td>0.035358</td>\n",
       "      <td>0.0</td>\n",
       "      <td>0.0</td>\n",
       "      <td>9.249291</td>\n",
       "    </tr>\n",
       "  </tbody>\n",
       "</table>\n",
       "<p>5 rows × 52 columns</p>\n",
       "</div>"
      ],
      "text/plain": [
       "        GEOID10     NAMELSAD10  ALAND10  AWATER10   INTPTLAT10    INTPTLON10  \\\n",
       "2  250235252031  Block Group 1  2367037     62136  +42.0051872  -070.9629934   \n",
       "5  250235101004  Block Group 4  1264335      4841  +42.1159859  -071.0150870   \n",
       "6  250235101001  Block Group 1   780921       448  +42.1205088  -071.0063537   \n",
       "8  250235021022  Block Group 2  5507262         0  +42.0999824  -070.9011797   \n",
       "9  250235062043  Block Group 3  1969145     71242  +42.0959972  -070.6607532   \n",
       "\n",
       "                                            geometry  sum_disposal_sites  \\\n",
       "2  POLYGON ((-70.95998 42.00710, -70.95848 42.006...                 0.0   \n",
       "5  POLYGON ((-71.02515 42.11744, -71.02228 42.118...                 0.0   \n",
       "6  POLYGON ((-71.00199 42.12640, -71.00195 42.126...                 0.0   \n",
       "8  POLYGON ((-70.88879 42.10738, -70.88826 42.099...                 0.0   \n",
       "9  POLYGON ((-70.65080 42.08668, -70.65165 42.086...                 0.0   \n",
       "\n",
       "   response county  ... sum_highways  AGRICULTURAL  COMMERCIAL     EXEMPT  \\\n",
       "2         0  25023  ...     0.104643      0.000000    2.168028  13.464491   \n",
       "5         0  25023  ...     0.060472      0.000000    8.777727  18.670316   \n",
       "6         0  25023  ...     0.081192      0.000000    0.000000   0.237058   \n",
       "8         0  25023  ...     0.189978      0.587848    0.272041   6.891629   \n",
       "9         0  25023  ...     0.102837      0.000000    0.209224   8.772981   \n",
       "\n",
       "     FOREST  INDUSTRIAL  MULTIPLE-USE  OPEN-SPACE  RECREATIONAL  RESIDENTIAL  \n",
       "2  6.605395    0.340688      2.094458         0.0           0.0    75.326940  \n",
       "5  0.000000   22.785765      0.000000         0.0           0.0    49.766192  \n",
       "6  0.000000    0.292122      0.000000         0.0           0.0    99.470820  \n",
       "8  0.000000    1.285071      0.257443         0.0           0.0    90.705968  \n",
       "9  0.000000   81.733147      0.035358         0.0           0.0     9.249291  \n",
       "\n",
       "[5 rows x 52 columns]"
      ]
     },
     "execution_count": 37,
     "metadata": {},
     "output_type": "execute_result"
    }
   ],
   "source": [
    "filtered_modeling_dataset.head()"
   ]
  },
  {
   "cell_type": "markdown",
   "metadata": {},
   "source": [
    "***\n",
    "***"
   ]
  },
  {
   "cell_type": "markdown",
   "metadata": {},
   "source": [
    "Write out modeling dataset"
   ]
  },
  {
   "cell_type": "code",
   "execution_count": 38,
   "metadata": {
    "tags": []
   },
   "outputs": [],
   "source": [
    "# Write out as shapefiles\n",
    "modeling_dataset.to_file(f'../../data/modeling_data/release_risk/full_release_risk_modeling_dataset.shp')\n",
    "filtered_modeling_dataset.to_file(f'../../data/modeling_data/release_risk/filtered_release_risk_modeling_dataset.shp')"
   ]
  },
  {
   "cell_type": "code",
   "execution_count": 41,
   "metadata": {},
   "outputs": [],
   "source": [
    "# Write out as normal files\n",
    "filtered_modeling_dataset.drop(columns = ['geometry'], inplace = True)\n",
    "modeling_dataset.drop(columns = ['geometry'], inplace = True)\n",
    "\n",
    "modeling_dataset.to_csv(f'../../data/modeling_data/release_risk/full_release_risk_modeling_dataset.csv', index = False)\n",
    "filtered_modeling_dataset.to_csv(f'../../data/modeling_data/release_risk/filtered_release_risk_modeling_dataset.csv', index = False)"
   ]
  }
 ],
 "metadata": {
  "kernelspec": {
   "display_name": "Python 3",
   "language": "python",
   "name": "python3"
  },
  "language_info": {
   "codemirror_mode": {
    "name": "ipython",
    "version": 3
   },
   "file_extension": ".py",
   "mimetype": "text/x-python",
   "name": "python",
   "nbconvert_exporter": "python",
   "pygments_lexer": "ipython3",
   "version": "3.8.8"
  }
 },
 "nbformat": 4,
 "nbformat_minor": 4
}
