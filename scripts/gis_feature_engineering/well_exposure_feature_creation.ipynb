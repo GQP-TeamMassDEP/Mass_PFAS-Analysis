{
 "cells": [
  {
   "cell_type": "markdown",
   "metadata": {
    "tags": []
   },
   "source": [
    "# Example notebook for creating GIS features for well exposure model\n",
    "\n",
    "Features to create:\n",
    "* Type of soil using polygon layer for a given well location\n",
    "* Slope from a source to well\n",
    "\n",
    "\n",
    "****\n",
    "Notes on feature creation:\n",
    "\n",
    "- Type of soil using polygon layer: Point-within-polygon calculation\n",
    "\n",
    "- Slope from a source to well\n",
    "    * Point-within-polygon to get slope @ well pt & source pt from elevation polygon map\n",
    "    * Calculation to subtract elevations\n",
    "    * If multiple sources -- what do we want? Slope of nearest source? Average slope of sources?\n",
    "****"
   ]
  },
  {
   "cell_type": "markdown",
   "metadata": {},
   "source": [
    "Features to Explore:\n",
    "    - Slope Aspect"
   ]
  },
  {
   "cell_type": "markdown",
   "metadata": {},
   "source": [
    "Features Created:\n",
    "* Slope phase\n",
    "* Soil series (primary --> tertiary)\n",
    "* Soil texture (primary --> tertiary)\n",
    "* Map Unit groups (See Legend.pdf last page)"
   ]
  },
  {
   "cell_type": "markdown",
   "metadata": {},
   "source": [
    "Features ALREADY MADE:\n",
    "* Soil Classification - MUSYM\n",
    "\n",
    "* Bedrock depth - BROCKDEPMI\n",
    "\n",
    "* water table depth (annual min) - WTDEPANNMI\n",
    "\n",
    "* the flooding/ponding frequency ones\n",
    "    * dominant - FLODFREQDC\n",
    "    * maximum - FLODFREQMA\n",
    "    * ponding freq - PONDFREQPR\n",
    "\n",
    "* drainage class\n",
    "    * dominant - DRCLASSDCD\n",
    "    * wettest - DRCLASSWET\n",
    "\n",
    "* hydro group - HYDGRPDCD\n",
    "\n",
    "* slope - SLOPE\n",
    "\n",
    "* slope gradient \n",
    "    * (dominant) - SLOPEGRADD\n",
    "    * (weighted average) - SLOPEGRADW"
   ]
  },
  {
   "cell_type": "code",
   "execution_count": 2,
   "metadata": {},
   "outputs": [],
   "source": [
    "import pandas as pd\n",
    "import geopandas as gpd\n",
    "import numpy as np\n",
    "import model_utils"
   ]
  },
  {
   "cell_type": "code",
   "execution_count": 48,
   "metadata": {},
   "outputs": [],
   "source": [
    "created_features = ['map_unit_groups', \n",
    "                    'slope_phase', \n",
    "                    'primary_series', 'secondary_series', 'tertiary_series',\n",
    "                    'primary_texture', 'secondary_texture', 'tertiary_texture',\n",
    "                    'extra_desc',\n",
    "                    'elevation',\n",
    "                    'slope_aspect']\n",
    "\n",
    "existing_features = [\"MUSYM\",\n",
    "                     \"MUNAME\",\n",
    "                     \"BROCKDEPMI\",\n",
    "                     \"WTDEPANNMI\",\n",
    "                     \"FLODFREQDC\", \"FLODFREQMA\", \"PONDFREQPR\", \n",
    "                     \"DRCLASSDCD\", \"DRCLASSWET\",\n",
    "                     \"HYDGRPDCD\",\n",
    "                     \"SLOPE\",\n",
    "                     \"SLOPEGRADD\", \"SLOPEGRADW\"]"
   ]
  },
  {
   "cell_type": "markdown",
   "metadata": {},
   "source": [
    "## Private Well Sampling Lab Reports"
   ]
  },
  {
   "cell_type": "code",
   "execution_count": 49,
   "metadata": {
    "tags": []
   },
   "outputs": [],
   "source": [
    "private_well_gdf = gpd.read_file('../../data/modeling_data/well_exposure/base_samples/private_well_gdf.geojson')\n",
    "\n",
    "\n",
    "# get all unique private wells with their coordinates\n",
    "private_well_locations = private_well_gdf[['geometry']]\n",
    "private_well_locations = private_well_locations.drop_duplicates().reset_index(drop = True)\n",
    "\n",
    "orig_private_well_locations = private_well_locations.copy()"
   ]
  },
  {
   "cell_type": "code",
   "execution_count": 50,
   "metadata": {},
   "outputs": [],
   "source": [
    "private_well_gdf.rename(columns = {'date_sampled_well_well' : 'date_sampled_well'}, inplace = True)"
   ]
  },
  {
   "cell_type": "code",
   "execution_count": 51,
   "metadata": {},
   "outputs": [
    {
     "data": {
      "text/plain": [
       "(456, 21)"
      ]
     },
     "execution_count": 51,
     "metadata": {},
     "output_type": "execute_result"
    }
   ],
   "source": [
    "private_well_gdf.shape"
   ]
  },
  {
   "cell_type": "code",
   "execution_count": 52,
   "metadata": {},
   "outputs": [
    {
     "data": {
      "text/plain": [
       "(221, 1)"
      ]
     },
     "execution_count": 52,
     "metadata": {},
     "output_type": "execute_result"
    }
   ],
   "source": [
    "private_well_locations.shape"
   ]
  },
  {
   "cell_type": "markdown",
   "metadata": {},
   "source": [
    "#### Attach geographic features dependent upon coordinate location "
   ]
  },
  {
   "cell_type": "markdown",
   "metadata": {},
   "source": [
    "Elevation"
   ]
  },
  {
   "cell_type": "code",
   "execution_count": 53,
   "metadata": {},
   "outputs": [],
   "source": [
    "elevation = []\n",
    "for location in private_well_locations['geometry']:\n",
    "    elevation.append(model_utils.get_elevation(location.y, location.x))\n",
    "    \n",
    "private_well_locations['elevation'] = elevation"
   ]
  },
  {
   "cell_type": "code",
   "execution_count": 54,
   "metadata": {},
   "outputs": [
    {
     "data": {
      "text/plain": [
       "(221, 2)"
      ]
     },
     "execution_count": 54,
     "metadata": {},
     "output_type": "execute_result"
    }
   ],
   "source": [
    "private_well_locations.shape"
   ]
  },
  {
   "cell_type": "markdown",
   "metadata": {},
   "source": [
    "Soil"
   ]
  },
  {
   "cell_type": "code",
   "execution_count": 3,
   "metadata": {},
   "outputs": [],
   "source": [
    "soil_df = gpd.read_file(\"zip://../../data/features/soil_features.zip\")"
   ]
  },
  {
   "cell_type": "code",
   "execution_count": 56,
   "metadata": {
    "tags": []
   },
   "outputs": [
    {
     "name": "stderr",
     "output_type": "stream",
     "text": [
      "C:\\Users\\dcher\\anaconda3\\lib\\site-packages\\IPython\\core\\interactiveshell.py:3357: FutureWarning: The `op` parameter is deprecated and will be removed in a future release. Please use the `predicate` parameter instead.\n",
      "  if (await self.run_code(code, result,  async_=asy)):\n"
     ]
    }
   ],
   "source": [
    "private_well_locations = gpd.sjoin(private_well_locations, soil_df, op='within')\n",
    "private_well_locations.drop(columns = ['index_right'], inplace = True)"
   ]
  },
  {
   "cell_type": "code",
   "execution_count": 57,
   "metadata": {},
   "outputs": [
    {
     "data": {
      "text/plain": [
       "(220, 23)"
      ]
     },
     "execution_count": 57,
     "metadata": {},
     "output_type": "execute_result"
    }
   ],
   "source": [
    "private_well_locations.shape"
   ]
  },
  {
   "cell_type": "markdown",
   "metadata": {},
   "source": [
    "Slope aspect"
   ]
  },
  {
   "cell_type": "code",
   "execution_count": 58,
   "metadata": {},
   "outputs": [],
   "source": [
    "private_well_locations['slope_aspect'] = model_utils.get_slope_aspect(raster_path = '../../data/features/slope_aspect/aspect_compressed_5000_4700.tif',\n",
    "                                                                      locations_df = private_well_locations)\n",
    "private_well_locations['slope_aspect'] = private_well_locations['slope_aspect'].replace({-9999 : 0})"
   ]
  },
  {
   "cell_type": "code",
   "execution_count": 59,
   "metadata": {},
   "outputs": [],
   "source": [
    "for feature in created_features + existing_features:\n",
    "    private_well_locations.rename(columns = {feature : f'{feature}_well'}, inplace = True)"
   ]
  },
  {
   "cell_type": "code",
   "execution_count": 60,
   "metadata": {},
   "outputs": [
    {
     "data": {
      "text/plain": [
       "(220, 24)"
      ]
     },
     "execution_count": 60,
     "metadata": {},
     "output_type": "execute_result"
    }
   ],
   "source": [
    "private_well_locations.shape"
   ]
  },
  {
   "cell_type": "code",
   "execution_count": 61,
   "metadata": {},
   "outputs": [
    {
     "data": {
      "text/html": [
       "<div>\n",
       "<style scoped>\n",
       "    .dataframe tbody tr th:only-of-type {\n",
       "        vertical-align: middle;\n",
       "    }\n",
       "\n",
       "    .dataframe tbody tr th {\n",
       "        vertical-align: top;\n",
       "    }\n",
       "\n",
       "    .dataframe thead th {\n",
       "        text-align: right;\n",
       "    }\n",
       "</style>\n",
       "<table border=\"1\" class=\"dataframe\">\n",
       "  <thead>\n",
       "    <tr style=\"text-align: right;\">\n",
       "      <th></th>\n",
       "      <th>geometry</th>\n",
       "      <th>elevation_well</th>\n",
       "      <th>MUSYM_well</th>\n",
       "      <th>BROCKDEPMI_well</th>\n",
       "      <th>WTDEPANNMI_well</th>\n",
       "      <th>FLODFREQDC_well</th>\n",
       "      <th>FLODFREQMA_well</th>\n",
       "      <th>PONDFREQPR_well</th>\n",
       "      <th>DRCLASSDCD_well</th>\n",
       "      <th>DRCLASSWET_well</th>\n",
       "      <th>...</th>\n",
       "      <th>map_unit_groups_well</th>\n",
       "      <th>slope_phase_well</th>\n",
       "      <th>primary_series_well</th>\n",
       "      <th>secondary_series_well</th>\n",
       "      <th>tertiary_series_well</th>\n",
       "      <th>primary_texture_well</th>\n",
       "      <th>secondary_texture_well</th>\n",
       "      <th>tertiary_texture_well</th>\n",
       "      <th>extra_desc_well</th>\n",
       "      <th>slope_aspect_well</th>\n",
       "    </tr>\n",
       "  </thead>\n",
       "  <tbody>\n",
       "    <tr>\n",
       "      <th>0</th>\n",
       "      <td>POINT (-72.47534 42.64166)</td>\n",
       "      <td>76</td>\n",
       "      <td>230A</td>\n",
       "      <td>NaN</td>\n",
       "      <td>NaN</td>\n",
       "      <td>None</td>\n",
       "      <td>None</td>\n",
       "      <td>0-14%</td>\n",
       "      <td>Well drained</td>\n",
       "      <td>Well drained</td>\n",
       "      <td>...</td>\n",
       "      <td>Excessively drained to somewhat poorly drained...</td>\n",
       "      <td>0 to 3 percent slopes</td>\n",
       "      <td>unadilla</td>\n",
       "      <td>nan</td>\n",
       "      <td>nan</td>\n",
       "      <td>silt loam</td>\n",
       "      <td>nan</td>\n",
       "      <td>nan</td>\n",
       "      <td>nan</td>\n",
       "      <td>0.0</td>\n",
       "    </tr>\n",
       "    <tr>\n",
       "      <th>1</th>\n",
       "      <td>POINT (-72.47399 42.64249)</td>\n",
       "      <td>79</td>\n",
       "      <td>230A</td>\n",
       "      <td>NaN</td>\n",
       "      <td>NaN</td>\n",
       "      <td>None</td>\n",
       "      <td>None</td>\n",
       "      <td>0-14%</td>\n",
       "      <td>Well drained</td>\n",
       "      <td>Well drained</td>\n",
       "      <td>...</td>\n",
       "      <td>Excessively drained to somewhat poorly drained...</td>\n",
       "      <td>0 to 3 percent slopes</td>\n",
       "      <td>unadilla</td>\n",
       "      <td>nan</td>\n",
       "      <td>nan</td>\n",
       "      <td>silt loam</td>\n",
       "      <td>nan</td>\n",
       "      <td>nan</td>\n",
       "      <td>nan</td>\n",
       "      <td>135.0</td>\n",
       "    </tr>\n",
       "  </tbody>\n",
       "</table>\n",
       "<p>2 rows × 24 columns</p>\n",
       "</div>"
      ],
      "text/plain": [
       "                     geometry  elevation_well MUSYM_well  BROCKDEPMI_well  \\\n",
       "0  POINT (-72.47534 42.64166)              76       230A              NaN   \n",
       "1  POINT (-72.47399 42.64249)              79       230A              NaN   \n",
       "\n",
       "   WTDEPANNMI_well FLODFREQDC_well FLODFREQMA_well PONDFREQPR_well  \\\n",
       "0              NaN            None            None           0-14%   \n",
       "1              NaN            None            None           0-14%   \n",
       "\n",
       "  DRCLASSDCD_well DRCLASSWET_well  ...  \\\n",
       "0    Well drained    Well drained  ...   \n",
       "1    Well drained    Well drained  ...   \n",
       "\n",
       "                                map_unit_groups_well       slope_phase_well  \\\n",
       "0  Excessively drained to somewhat poorly drained...  0 to 3 percent slopes   \n",
       "1  Excessively drained to somewhat poorly drained...  0 to 3 percent slopes   \n",
       "\n",
       "   primary_series_well  secondary_series_well tertiary_series_well  \\\n",
       "0             unadilla                    nan                  nan   \n",
       "1             unadilla                    nan                  nan   \n",
       "\n",
       "  primary_texture_well secondary_texture_well tertiary_texture_well  \\\n",
       "0            silt loam                    nan                   nan   \n",
       "1            silt loam                    nan                   nan   \n",
       "\n",
       "  extra_desc_well slope_aspect_well  \n",
       "0             nan               0.0  \n",
       "1             nan             135.0  \n",
       "\n",
       "[2 rows x 24 columns]"
      ]
     },
     "execution_count": 61,
     "metadata": {},
     "output_type": "execute_result"
    }
   ],
   "source": [
    "private_well_locations.head(2)"
   ]
  },
  {
   "cell_type": "markdown",
   "metadata": {},
   "source": [
    "###### Create final private well geodataframe"
   ]
  },
  {
   "cell_type": "code",
   "execution_count": 62,
   "metadata": {},
   "outputs": [],
   "source": [
    "private_well_gdf = private_well_gdf.merge(private_well_locations, on = ['geometry'])"
   ]
  },
  {
   "cell_type": "code",
   "execution_count": 63,
   "metadata": {},
   "outputs": [
    {
     "data": {
      "text/plain": [
       "(423, 44)"
      ]
     },
     "execution_count": 63,
     "metadata": {},
     "output_type": "execute_result"
    }
   ],
   "source": [
    "private_well_gdf.shape"
   ]
  },
  {
   "cell_type": "code",
   "execution_count": 64,
   "metadata": {},
   "outputs": [
    {
     "data": {
      "text/plain": [
       "Index(['RTN', 'date_sampled_well', 'sample_id', 'lab', 'Matrix', 'lat', 'lon',\n",
       "       'NEtFOSAA_well', 'PFBS_well', 'PFDA_well', 'PFDoA_well', 'PFHpA_well',\n",
       "       'PFHxA_well', 'PFHxS_well', 'PFNA_well', 'PFOA_well', 'PFOS_well',\n",
       "       'PFTA_well', 'PFTrDA_well', 'PFUnA_well', 'geometry', 'elevation_well',\n",
       "       'MUSYM_well', 'BROCKDEPMI_well', 'WTDEPANNMI_well', 'FLODFREQDC_well',\n",
       "       'FLODFREQMA_well', 'PONDFREQPR_well', 'DRCLASSDCD_well',\n",
       "       'DRCLASSWET_well', 'HYDGRPDCD_well', 'SLOPE_well', 'SLOPEGRADD_well',\n",
       "       'SLOPEGRADW_well', 'map_unit_groups_well', 'slope_phase_well',\n",
       "       'primary_series_well', 'secondary_series_well', 'tertiary_series_well',\n",
       "       'primary_texture_well', 'secondary_texture_well',\n",
       "       'tertiary_texture_well', 'extra_desc_well', 'slope_aspect_well'],\n",
       "      dtype='object')"
      ]
     },
     "execution_count": 64,
     "metadata": {},
     "output_type": "execute_result"
    }
   ],
   "source": [
    "private_well_gdf.columns"
   ]
  },
  {
   "cell_type": "markdown",
   "metadata": {},
   "source": [
    "## Disposal Site Source Sampling Reports"
   ]
  },
  {
   "cell_type": "code",
   "execution_count": 65,
   "metadata": {
    "tags": []
   },
   "outputs": [],
   "source": [
    "# turn into geodataframe\n",
    "disposal_source_gdf = gpd.read_file('../../data/modeling_data/well_exposure/base_samples/diposal_source_gdf.geojson')\n",
    "\n",
    "# get all unique disposal sources with their coordinates\n",
    "disposal_source_locations = disposal_source_gdf[['geometry']]\n",
    "disposal_source_locations = disposal_source_locations.drop_duplicates().reset_index(drop = True)"
   ]
  },
  {
   "cell_type": "code",
   "execution_count": 66,
   "metadata": {},
   "outputs": [
    {
     "data": {
      "text/plain": [
       "Index(['level_0_DS', 'RTN', 'index_DS', 'report', 'lab', 'sample_id', 'Matrix',\n",
       "       'date_sampled_ds', 'lat', 'lon', 'NEtFOSAA_DS', 'PFBS_DS', 'PFDA_DS',\n",
       "       'PFDoA_DS', 'PFHpA_DS', 'PFHxA_DS', 'PFHxS_DS', 'PFNA_DS', 'PFOA_DS',\n",
       "       'PFOS_DS', 'PFTA_DS', 'PFTrDA_DS', 'PFUnA_DS', 'geometry'],\n",
       "      dtype='object')"
      ]
     },
     "execution_count": 66,
     "metadata": {},
     "output_type": "execute_result"
    }
   ],
   "source": [
    "disposal_source_gdf.columns"
   ]
  },
  {
   "cell_type": "code",
   "execution_count": 67,
   "metadata": {},
   "outputs": [
    {
     "data": {
      "text/plain": [
       "(18, 24)"
      ]
     },
     "execution_count": 67,
     "metadata": {},
     "output_type": "execute_result"
    }
   ],
   "source": [
    "disposal_source_gdf.shape"
   ]
  },
  {
   "cell_type": "code",
   "execution_count": 68,
   "metadata": {},
   "outputs": [
    {
     "data": {
      "text/plain": [
       "(18, 1)"
      ]
     },
     "execution_count": 68,
     "metadata": {},
     "output_type": "execute_result"
    }
   ],
   "source": [
    "disposal_source_locations.shape"
   ]
  },
  {
   "cell_type": "markdown",
   "metadata": {},
   "source": [
    "#### Attach geographic features dependent upon coordinate location "
   ]
  },
  {
   "cell_type": "markdown",
   "metadata": {},
   "source": [
    "Elevation"
   ]
  },
  {
   "cell_type": "code",
   "execution_count": 69,
   "metadata": {},
   "outputs": [],
   "source": [
    "elevation = []\n",
    "for location in disposal_source_locations['geometry']:\n",
    "    elevation.append(model_utils.get_elevation(location.y, location.x))\n",
    "    \n",
    "disposal_source_locations['elevation'] = elevation"
   ]
  },
  {
   "cell_type": "markdown",
   "metadata": {},
   "source": [
    "Soil"
   ]
  },
  {
   "cell_type": "code",
   "execution_count": 70,
   "metadata": {
    "tags": []
   },
   "outputs": [
    {
     "name": "stderr",
     "output_type": "stream",
     "text": [
      "C:\\Users\\dcher\\anaconda3\\lib\\site-packages\\IPython\\core\\interactiveshell.py:3357: FutureWarning: The `op` parameter is deprecated and will be removed in a future release. Please use the `predicate` parameter instead.\n",
      "  if (await self.run_code(code, result,  async_=asy)):\n"
     ]
    }
   ],
   "source": [
    "disposal_source_locations = gpd.sjoin(disposal_source_locations, soil_df, op='within')\n",
    "disposal_source_locations.drop(columns = ['index_right'], inplace = True)"
   ]
  },
  {
   "cell_type": "markdown",
   "metadata": {},
   "source": [
    "Slope aspect\n",
    "* Raster is about 50m * 50m"
   ]
  },
  {
   "cell_type": "code",
   "execution_count": 71,
   "metadata": {},
   "outputs": [],
   "source": [
    "disposal_source_locations['slope_aspect'] = model_utils.get_slope_aspect(raster_path = '../../data/features/slope_aspect/aspect_compressed_5000_4700.tif',\n",
    "                                                                      locations_df = disposal_source_locations)\n",
    "disposal_source_locations['slope_aspect'] = disposal_source_locations['slope_aspect'].replace({-9999 : 0})"
   ]
  },
  {
   "cell_type": "code",
   "execution_count": 72,
   "metadata": {},
   "outputs": [],
   "source": [
    "for feature in created_features + existing_features:\n",
    "    disposal_source_locations.rename(columns = {feature : f'{feature}_ds'}, inplace = True)"
   ]
  },
  {
   "cell_type": "code",
   "execution_count": 73,
   "metadata": {},
   "outputs": [
    {
     "data": {
      "text/html": [
       "<div>\n",
       "<style scoped>\n",
       "    .dataframe tbody tr th:only-of-type {\n",
       "        vertical-align: middle;\n",
       "    }\n",
       "\n",
       "    .dataframe tbody tr th {\n",
       "        vertical-align: top;\n",
       "    }\n",
       "\n",
       "    .dataframe thead th {\n",
       "        text-align: right;\n",
       "    }\n",
       "</style>\n",
       "<table border=\"1\" class=\"dataframe\">\n",
       "  <thead>\n",
       "    <tr style=\"text-align: right;\">\n",
       "      <th></th>\n",
       "      <th>geometry</th>\n",
       "      <th>elevation_ds</th>\n",
       "      <th>MUSYM_ds</th>\n",
       "      <th>BROCKDEPMI_ds</th>\n",
       "      <th>WTDEPANNMI_ds</th>\n",
       "      <th>FLODFREQDC_ds</th>\n",
       "      <th>FLODFREQMA_ds</th>\n",
       "      <th>PONDFREQPR_ds</th>\n",
       "      <th>DRCLASSDCD_ds</th>\n",
       "      <th>DRCLASSWET_ds</th>\n",
       "      <th>...</th>\n",
       "      <th>map_unit_groups_ds</th>\n",
       "      <th>slope_phase_ds</th>\n",
       "      <th>primary_series_ds</th>\n",
       "      <th>secondary_series_ds</th>\n",
       "      <th>tertiary_series_ds</th>\n",
       "      <th>primary_texture_ds</th>\n",
       "      <th>secondary_texture_ds</th>\n",
       "      <th>tertiary_texture_ds</th>\n",
       "      <th>extra_desc_ds</th>\n",
       "      <th>slope_aspect_ds</th>\n",
       "    </tr>\n",
       "  </thead>\n",
       "  <tbody>\n",
       "    <tr>\n",
       "      <th>0</th>\n",
       "      <td>POINT (-73.23162 42.52141)</td>\n",
       "      <td>342</td>\n",
       "      <td>505C</td>\n",
       "      <td>NaN</td>\n",
       "      <td>NaN</td>\n",
       "      <td>None</td>\n",
       "      <td>None</td>\n",
       "      <td>0-14%</td>\n",
       "      <td>Well drained</td>\n",
       "      <td>Well drained</td>\n",
       "      <td>...</td>\n",
       "      <td>Excessively drained to somewhat poorly drained...</td>\n",
       "      <td>8 to 15 percent slopes</td>\n",
       "      <td>nellis</td>\n",
       "      <td>nan</td>\n",
       "      <td>nan</td>\n",
       "      <td>loam</td>\n",
       "      <td>nan</td>\n",
       "      <td>nan</td>\n",
       "      <td>nan</td>\n",
       "      <td>0.0</td>\n",
       "    </tr>\n",
       "    <tr>\n",
       "      <th>1</th>\n",
       "      <td>POINT (-71.49556 42.38547)</td>\n",
       "      <td>69</td>\n",
       "      <td>256A</td>\n",
       "      <td>NaN</td>\n",
       "      <td>69.0</td>\n",
       "      <td>None</td>\n",
       "      <td>None</td>\n",
       "      <td>0-14%</td>\n",
       "      <td>Moderately well drained</td>\n",
       "      <td>Moderately well drained</td>\n",
       "      <td>...</td>\n",
       "      <td>Excessively drained to somewhat poorly drained...</td>\n",
       "      <td>0 to 3 percent slopes</td>\n",
       "      <td>deerfield</td>\n",
       "      <td>nan</td>\n",
       "      <td>nan</td>\n",
       "      <td>loamy sand</td>\n",
       "      <td>nan</td>\n",
       "      <td>nan</td>\n",
       "      <td>nan</td>\n",
       "      <td>0.0</td>\n",
       "    </tr>\n",
       "  </tbody>\n",
       "</table>\n",
       "<p>2 rows × 24 columns</p>\n",
       "</div>"
      ],
      "text/plain": [
       "                     geometry  elevation_ds MUSYM_ds  BROCKDEPMI_ds  \\\n",
       "0  POINT (-73.23162 42.52141)           342     505C            NaN   \n",
       "1  POINT (-71.49556 42.38547)            69     256A            NaN   \n",
       "\n",
       "   WTDEPANNMI_ds FLODFREQDC_ds FLODFREQMA_ds PONDFREQPR_ds  \\\n",
       "0            NaN          None          None         0-14%   \n",
       "1           69.0          None          None         0-14%   \n",
       "\n",
       "             DRCLASSDCD_ds            DRCLASSWET_ds  ...  \\\n",
       "0             Well drained             Well drained  ...   \n",
       "1  Moderately well drained  Moderately well drained  ...   \n",
       "\n",
       "                                  map_unit_groups_ds          slope_phase_ds  \\\n",
       "0  Excessively drained to somewhat poorly drained...  8 to 15 percent slopes   \n",
       "1  Excessively drained to somewhat poorly drained...   0 to 3 percent slopes   \n",
       "\n",
       "   primary_series_ds  secondary_series_ds tertiary_series_ds  \\\n",
       "0             nellis                  nan                nan   \n",
       "1          deerfield                  nan                nan   \n",
       "\n",
       "  primary_texture_ds secondary_texture_ds tertiary_texture_ds extra_desc_ds  \\\n",
       "0               loam                  nan                 nan           nan   \n",
       "1         loamy sand                  nan                 nan           nan   \n",
       "\n",
       "  slope_aspect_ds  \n",
       "0             0.0  \n",
       "1             0.0  \n",
       "\n",
       "[2 rows x 24 columns]"
      ]
     },
     "execution_count": 73,
     "metadata": {},
     "output_type": "execute_result"
    }
   ],
   "source": [
    "disposal_source_locations.head(2)"
   ]
  },
  {
   "cell_type": "code",
   "execution_count": 74,
   "metadata": {},
   "outputs": [],
   "source": [
    "disposal_source_gdf = disposal_source_gdf.merge(disposal_source_locations, on = ['geometry'])"
   ]
  },
  {
   "cell_type": "code",
   "execution_count": 75,
   "metadata": {},
   "outputs": [
    {
     "data": {
      "text/plain": [
       "(17, 47)"
      ]
     },
     "execution_count": 75,
     "metadata": {},
     "output_type": "execute_result"
    }
   ],
   "source": [
    "disposal_source_gdf.shape"
   ]
  },
  {
   "cell_type": "markdown",
   "metadata": {},
   "source": [
    "## Merge datasets\n",
    "* Merge based on RTN\n",
    "* Possibly look at places that are close by distance?? Then possibly attach to private wells\n",
    "    * Look at max of current connection"
   ]
  },
  {
   "cell_type": "code",
   "execution_count": 76,
   "metadata": {},
   "outputs": [],
   "source": [
    "PFAS_disposal_site_info = pd.read_parquet('../../data/disposal_sites/PFAS_Sites_2021-11-07_geocoded.parquet')"
   ]
  },
  {
   "cell_type": "code",
   "execution_count": 77,
   "metadata": {},
   "outputs": [],
   "source": [
    "PFAS_disposal_site_info = PFAS_disposal_site_info[['RTN', 'Notif_Date']]"
   ]
  },
  {
   "cell_type": "code",
   "execution_count": 78,
   "metadata": {},
   "outputs": [
    {
     "data": {
      "text/plain": [
       "array(['1-0021289', '2-0020439', '2-0020923', '2-0021045', '2-0021075',\n",
       "       '3-0036649', '3-0036774', '4-0027571'], dtype=object)"
      ]
     },
     "execution_count": 78,
     "metadata": {},
     "output_type": "execute_result"
    }
   ],
   "source": [
    "private_well_gdf['RTN'].unique()"
   ]
  },
  {
   "cell_type": "code",
   "execution_count": 79,
   "metadata": {},
   "outputs": [
    {
     "data": {
      "text/plain": [
       "array(['1-0021230', '2-0020439', '2-0021045', '2-0021072', '2-0021075',\n",
       "       '2-0021116', '2-0021349', '2-0021383', '2-0021446', '2-0021455',\n",
       "       '2-0021541', '3-0036118', '3-0036649', '3-0036899', '3-0036926',\n",
       "       '4-0027571', '2-0021682'], dtype=object)"
      ]
     },
     "execution_count": 79,
     "metadata": {},
     "output_type": "execute_result"
    }
   ],
   "source": [
    "disposal_source_gdf['RTN'].unique()"
   ]
  },
  {
   "cell_type": "code",
   "execution_count": 80,
   "metadata": {},
   "outputs": [],
   "source": [
    "final_df = private_well_gdf.merge(disposal_source_gdf, on = 'RTN')"
   ]
  },
  {
   "cell_type": "code",
   "execution_count": 81,
   "metadata": {},
   "outputs": [
    {
     "data": {
      "text/plain": [
       "(219, 90)"
      ]
     },
     "execution_count": 81,
     "metadata": {},
     "output_type": "execute_result"
    }
   ],
   "source": [
    "final_df.shape"
   ]
  },
  {
   "cell_type": "markdown",
   "metadata": {},
   "source": [
    "##### After attaching create additional features\n",
    "    * Slope from Disposal Site to Well\n",
    "    * Days since release\n",
    "    * Distance from disposal site to well\n",
    "    * Direction (bearing) from disposal site to well (0 to 360)"
   ]
  },
  {
   "cell_type": "code",
   "execution_count": 82,
   "metadata": {},
   "outputs": [],
   "source": [
    "# Slope from Disposal Site to Well\n",
    "final_df['elevation_ds_to_well'] = final_df['elevation_ds'] - final_df['elevation_well']"
   ]
  },
  {
   "cell_type": "code",
   "execution_count": 83,
   "metadata": {},
   "outputs": [],
   "source": [
    "final_df = final_df.merge(PFAS_disposal_site_info, on = 'RTN')"
   ]
  },
  {
   "cell_type": "code",
   "execution_count": 84,
   "metadata": {},
   "outputs": [],
   "source": [
    "final_df['date_sampled_ds']= pd.to_datetime(final_df['date_sampled_ds'])\n",
    "final_df['date_sampled_well']= pd.to_datetime(final_df['date_sampled_well'])\n",
    "final_df['Notif_Date']= pd.to_datetime(final_df['Notif_Date'])\n",
    "final_df['days_since_release'] = (final_df['date_sampled_well'] - final_df['Notif_Date']).astype('timedelta64[D]')"
   ]
  },
  {
   "cell_type": "code",
   "execution_count": 85,
   "metadata": {},
   "outputs": [],
   "source": [
    "# final_df['days_since_release'] = np.where(final_df['date_sampled_ds'] == '01/01/2001', None, final_df['days_since_release'])\n",
    "final_df['days_since_release'] = np.where(final_df['date_sampled_well'] == '01/01/2001', None, final_df['days_since_release'])"
   ]
  },
  {
   "cell_type": "code",
   "execution_count": 86,
   "metadata": {},
   "outputs": [],
   "source": [
    "# Distance from disposal site to well\n",
    "# Get bearing from disposal site to each\n",
    "distance_lst = []\n",
    "bearing_lst = []\n",
    "for r in final_df.iterrows():\n",
    "    \n",
    "    well_x = float(r[1]['geometry_x'].x)\n",
    "    well_y = float(r[1]['geometry_x'].y)\n",
    "    \n",
    "    ds_x = float(r[1]['geometry_y'].x)\n",
    "    ds_y = float(r[1]['geometry_y'].y)\n",
    "    \n",
    "    dist = np.square(ds_x - well_x) + np.square(ds_y - well_y)\n",
    "    \n",
    "    bearing = model_utils.get_bearing(ds_y, ds_x, well_y, well_x)\n",
    "    \n",
    "    bearing_lst.append(bearing)\n",
    "    distance_lst.append(dist)"
   ]
  },
  {
   "cell_type": "code",
   "execution_count": 87,
   "metadata": {},
   "outputs": [],
   "source": [
    "final_df['distance_ds_to_well'] = distance_lst\n",
    "final_df['bearing_ds_to_well'] = bearing_lst"
   ]
  },
  {
   "cell_type": "code",
   "execution_count": 88,
   "metadata": {},
   "outputs": [
    {
     "data": {
      "text/html": [
       "<div>\n",
       "<style scoped>\n",
       "    .dataframe tbody tr th:only-of-type {\n",
       "        vertical-align: middle;\n",
       "    }\n",
       "\n",
       "    .dataframe tbody tr th {\n",
       "        vertical-align: top;\n",
       "    }\n",
       "\n",
       "    .dataframe thead th {\n",
       "        text-align: right;\n",
       "    }\n",
       "</style>\n",
       "<table border=\"1\" class=\"dataframe\">\n",
       "  <thead>\n",
       "    <tr style=\"text-align: right;\">\n",
       "      <th></th>\n",
       "      <th>RTN</th>\n",
       "      <th>date_sampled_well</th>\n",
       "      <th>sample_id_x</th>\n",
       "      <th>lab_x</th>\n",
       "      <th>Matrix_x</th>\n",
       "      <th>lat_x</th>\n",
       "      <th>lon_x</th>\n",
       "      <th>NEtFOSAA_well</th>\n",
       "      <th>PFBS_well</th>\n",
       "      <th>PFDA_well</th>\n",
       "      <th>...</th>\n",
       "      <th>primary_texture_ds</th>\n",
       "      <th>secondary_texture_ds</th>\n",
       "      <th>tertiary_texture_ds</th>\n",
       "      <th>extra_desc_ds</th>\n",
       "      <th>slope_aspect_ds</th>\n",
       "      <th>elevation_ds_to_well</th>\n",
       "      <th>Notif_Date</th>\n",
       "      <th>days_since_release</th>\n",
       "      <th>distance_ds_to_well</th>\n",
       "      <th>bearing_ds_to_well</th>\n",
       "    </tr>\n",
       "  </thead>\n",
       "  <tbody>\n",
       "    <tr>\n",
       "      <th>0</th>\n",
       "      <td>2-0020439</td>\n",
       "      <td>2019-07-30</td>\n",
       "      <td>107-WP</td>\n",
       "      <td>SGS</td>\n",
       "      <td>DW - Drinking Water</td>\n",
       "      <td>42.386142</td>\n",
       "      <td>-71.484495</td>\n",
       "      <td>0.915</td>\n",
       "      <td>0.721537</td>\n",
       "      <td>0.95</td>\n",
       "      <td>...</td>\n",
       "      <td>loamy sand</td>\n",
       "      <td>nan</td>\n",
       "      <td>nan</td>\n",
       "      <td>nan</td>\n",
       "      <td>0.0</td>\n",
       "      <td>5</td>\n",
       "      <td>2018-01-24</td>\n",
       "      <td>552.0</td>\n",
       "      <td>0.000123</td>\n",
       "      <td>85.295672</td>\n",
       "    </tr>\n",
       "    <tr>\n",
       "      <th>1</th>\n",
       "      <td>2-0020439</td>\n",
       "      <td>2019-07-30</td>\n",
       "      <td>115-WP</td>\n",
       "      <td>SGS</td>\n",
       "      <td>DW - Drinking Water</td>\n",
       "      <td>42.385724</td>\n",
       "      <td>-71.484219</td>\n",
       "      <td>0.915</td>\n",
       "      <td>0.874766</td>\n",
       "      <td>0.95</td>\n",
       "      <td>...</td>\n",
       "      <td>loamy sand</td>\n",
       "      <td>nan</td>\n",
       "      <td>nan</td>\n",
       "      <td>nan</td>\n",
       "      <td>0.0</td>\n",
       "      <td>5</td>\n",
       "      <td>2018-01-24</td>\n",
       "      <td>552.0</td>\n",
       "      <td>0.000129</td>\n",
       "      <td>88.258785</td>\n",
       "    </tr>\n",
       "  </tbody>\n",
       "</table>\n",
       "<p>2 rows × 95 columns</p>\n",
       "</div>"
      ],
      "text/plain": [
       "         RTN date_sampled_well sample_id_x lab_x             Matrix_x  \\\n",
       "0  2-0020439        2019-07-30      107-WP   SGS  DW - Drinking Water   \n",
       "1  2-0020439        2019-07-30      115-WP   SGS  DW - Drinking Water   \n",
       "\n",
       "       lat_x      lon_x  NEtFOSAA_well  PFBS_well  PFDA_well  ...  \\\n",
       "0  42.386142 -71.484495          0.915   0.721537       0.95  ...   \n",
       "1  42.385724 -71.484219          0.915   0.874766       0.95  ...   \n",
       "\n",
       "   primary_texture_ds  secondary_texture_ds  tertiary_texture_ds  \\\n",
       "0          loamy sand                   nan                  nan   \n",
       "1          loamy sand                   nan                  nan   \n",
       "\n",
       "   extra_desc_ds  slope_aspect_ds  elevation_ds_to_well  Notif_Date  \\\n",
       "0            nan              0.0                     5  2018-01-24   \n",
       "1            nan              0.0                     5  2018-01-24   \n",
       "\n",
       "   days_since_release  distance_ds_to_well  bearing_ds_to_well  \n",
       "0               552.0             0.000123           85.295672  \n",
       "1               552.0             0.000129           88.258785  \n",
       "\n",
       "[2 rows x 95 columns]"
      ]
     },
     "execution_count": 88,
     "metadata": {},
     "output_type": "execute_result"
    }
   ],
   "source": [
    "final_df.head(2)"
   ]
  },
  {
   "cell_type": "code",
   "execution_count": 89,
   "metadata": {},
   "outputs": [
    {
     "data": {
      "text/plain": [
       "(219, 95)"
      ]
     },
     "execution_count": 89,
     "metadata": {},
     "output_type": "execute_result"
    }
   ],
   "source": [
    "final_df.shape"
   ]
  },
  {
   "cell_type": "code",
   "execution_count": 90,
   "metadata": {},
   "outputs": [],
   "source": [
    "final_df = final_df.drop(columns = ['geometry_x', 'geometry_y'])\n",
    "\n",
    "final_df = final_df.reset_index(drop = True)\n",
    "\n",
    "final_df = pd.DataFrame(final_df)\n",
    "\n",
    "final_df.to_csv('../../data/modeling_data/well_exposure/well_exposure_modeling_dataset.csv')"
   ]
  },
  {
   "cell_type": "code",
   "execution_count": 91,
   "metadata": {
    "tags": []
   },
   "outputs": [
    {
     "name": "stderr",
     "output_type": "stream",
     "text": [
      "<ipython-input-91-8f13c132c110>:1: UserWarning: this is an initial implementation of Parquet/Feather file support and associated metadata.  This is tracking version 0.1.0 of the metadata specification at https://github.com/geopandas/geo-arrow-spec\n",
      "\n",
      "This metadata specification does not yet make stability promises.  We do not yet recommend using this in a production setting unless you are able to rewrite your Parquet/Feather files.\n",
      "\n",
      "To further ignore this warning, you can do: \n",
      "import warnings; warnings.filterwarnings('ignore', message='.*initial implementation of Parquet.*')\n",
      "  private_well_gdf.drop(columns = ['geometry']).to_parquet('../../data/modeling_data/well_exposure/well_exposure_private_well.parquet')\n"
     ]
    }
   ],
   "source": [
    "private_well_gdf.drop(columns = ['geometry']).to_parquet('../../data/modeling_data/well_exposure/well_exposure_private_well.parquet')\n",
    "private_well_gdf.to_file('../../data/modeling_data/well_exposure/well_exposure_private_well.geojson', driver='GeoJSON')"
   ]
  },
  {
   "cell_type": "code",
   "execution_count": 92,
   "metadata": {
    "tags": []
   },
   "outputs": [
    {
     "name": "stderr",
     "output_type": "stream",
     "text": [
      "<ipython-input-92-a79743b2d4c2>:1: UserWarning: this is an initial implementation of Parquet/Feather file support and associated metadata.  This is tracking version 0.1.0 of the metadata specification at https://github.com/geopandas/geo-arrow-spec\n",
      "\n",
      "This metadata specification does not yet make stability promises.  We do not yet recommend using this in a production setting unless you are able to rewrite your Parquet/Feather files.\n",
      "\n",
      "To further ignore this warning, you can do: \n",
      "import warnings; warnings.filterwarnings('ignore', message='.*initial implementation of Parquet.*')\n",
      "  disposal_source_gdf.drop(columns = ['geometry']).to_parquet('../../data/modeling_data/well_exposure/well_exposure_disposal_source.parquet')\n"
     ]
    }
   ],
   "source": [
    "disposal_source_gdf.drop(columns = ['geometry']).to_parquet('../../data/modeling_data/well_exposure/well_exposure_disposal_source.parquet')\n",
    "disposal_source_gdf.to_file('../../data/modeling_data/well_exposure/well_exposure_disposal_source.geojson', driver='GeoJSON')"
   ]
  },
  {
   "cell_type": "markdown",
   "metadata": {},
   "source": [
    "***\n",
    "***"
   ]
  }
 ],
 "metadata": {
  "kernelspec": {
   "display_name": "Python 3",
   "language": "python",
   "name": "python3"
  },
  "language_info": {
   "codemirror_mode": {
    "name": "ipython",
    "version": 3
   },
   "file_extension": ".py",
   "mimetype": "text/x-python",
   "name": "python",
   "nbconvert_exporter": "python",
   "pygments_lexer": "ipython3",
   "version": "3.8.8"
  }
 },
 "nbformat": 4,
 "nbformat_minor": 4
}
