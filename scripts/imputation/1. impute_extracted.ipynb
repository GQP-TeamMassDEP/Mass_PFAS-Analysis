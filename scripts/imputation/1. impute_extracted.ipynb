{
 "cells": [
  {
   "cell_type": "markdown",
   "id": "a3e86297-5e13-4354-a77b-ba21ebefbb73",
   "metadata": {},
   "source": [
    "# Imputation Pipeline"
   ]
  },
  {
   "cell_type": "markdown",
   "id": "3798847d-ef87-45ec-9b5b-3e4d67fcd09b",
   "metadata": {},
   "source": [
    "* Remove Trip & Field Blanks\n",
    "* Use dilution factor (for afff data)\n",
    "* Rename compounds based on acronyms\n",
    "* ROS in R\n",
    "* 1/2 MDL/RL Imputation\n",
    "    * If RL is missing - fill in with approximates"
   ]
  },
  {
   "cell_type": "code",
   "execution_count": 1,
   "id": "09baf74d-78b8-41b4-8b86-36fa8ddd655d",
   "metadata": {},
   "outputs": [],
   "source": [
    "import pandas as pd\n",
    "import numpy as np\n",
    "import rpy2.robjects as robjects\n",
    "import os\n",
    "import imputation_utils\n",
    "import warnings\n",
    "warnings.filterwarnings('ignore')"
   ]
  },
  {
   "cell_type": "markdown",
   "id": "b1b8cc7b",
   "metadata": {},
   "source": [
    "### Inputs"
   ]
  },
  {
   "cell_type": "code",
   "execution_count": 20,
   "id": "ff05f933-c8c7-4f21-bb70-59b1583ab380",
   "metadata": {},
   "outputs": [],
   "source": [
    "run constants.py"
   ]
  },
  {
   "cell_type": "code",
   "execution_count": 9,
   "id": "4264dbca-5a4c-4b08-a5bd-ac604e7856a1",
   "metadata": {},
   "outputs": [],
   "source": [
    "extracted_df = pd.read_csv(extracted_df_path)"
   ]
  },
  {
   "cell_type": "markdown",
   "id": "b3a5f43e-7e56-487b-9259-1c7dccebe3b2",
   "metadata": {},
   "source": [
    "#### Data manipulation\n",
    "Remove all blanks, mid, effluent, and treatment values"
   ]
  },
  {
   "cell_type": "code",
   "execution_count": 10,
   "id": "a3f99b29-50e5-4630-8ddb-4b1d12a1e630",
   "metadata": {},
   "outputs": [],
   "source": [
    "extracted_df = imputation_utils.remove_blanks(df = extracted_df, \n",
    "                                             matrix_col = 'Matrix',\n",
    "                                              report_col = 'report',\n",
    "                                              address_col = 'address', \n",
    "                                             sample_id_col = 'sample_id')"
   ]
  },
  {
   "cell_type": "markdown",
   "id": "6050cab9-2fb9-42ac-98ce-1b9343ff80e8",
   "metadata": {},
   "source": [
    "Create censored column"
   ]
  },
  {
   "cell_type": "code",
   "execution_count": 11,
   "id": "664ff2fa-ab7a-4c71-86e3-d0dce86767c0",
   "metadata": {},
   "outputs": [],
   "source": [
    "extracted_df = imputation_utils.create_censored_col(df = extracted_df,\n",
    "                                                     result_col = 'Result',\n",
    "                                                     output_col = 'Result_val',\n",
    "                                                     limit_col = 'limit')"
   ]
  },
  {
   "cell_type": "markdown",
   "id": "9abe9c33-401e-4d1c-9956-354ff58a5d9b",
   "metadata": {},
   "source": [
    "Convert measurement columns to numeric"
   ]
  },
  {
   "cell_type": "code",
   "execution_count": 12,
   "id": "235f7598-5594-434b-ba2e-a1dc7c336ebd",
   "metadata": {},
   "outputs": [],
   "source": [
    "measurement_cols = [\"Result\",\"RL\",\"MCL\",\"MDL\",\"Result_val\", \"limit\"]\n",
    "for col in measurement_cols:\n",
    "    extracted_df[col] = pd.to_numeric(extracted_df[col], errors = 'coerce')"
   ]
  },
  {
   "cell_type": "markdown",
   "id": "d8964cc1-ad30-4da0-b846-c3c63db11452",
   "metadata": {},
   "source": [
    "Convert microgram/l -> nanogram/l\n",
    "* g/kg & ng/g are within our realm of values "
   ]
  },
  {
   "cell_type": "code",
   "execution_count": 13,
   "id": "22d7efd4-b383-4712-aabc-d103d7f87676",
   "metadata": {},
   "outputs": [],
   "source": [
    "extracted_df = imputation_utils.convert_units(df = extracted_df,\n",
    "                                              units_col = 'Units',\n",
    "                                              matrix_col = 'Matrix',\n",
    "                                              measurement_cols = [\"Result\",\"RL\",\"MCL\",\"MDL\",\"Result_val\", \"limit\"])"
   ]
  },
  {
   "cell_type": "markdown",
   "id": "cafd58a0-6173-49f7-88e3-a698318dbe9d",
   "metadata": {},
   "source": [
    "Convert by dilution factor"
   ]
  },
  {
   "cell_type": "code",
   "execution_count": 14,
   "id": "2a0b15a1-b5a0-4b1c-86f8-e0a77275dd35",
   "metadata": {},
   "outputs": [],
   "source": [
    "extracted_df = imputation_utils.dilute_measurements(df = extracted_df,\n",
    "                                                     dilution_factor_col = 'DF',\n",
    "                                                     measurement_cols = [\"Result\",\"RL\",\"MCL\",\"MDL\",\"Result_val\", \"limit\"])"
   ]
  },
  {
   "cell_type": "markdown",
   "id": "59c82d85-7e11-47bf-9615-f7a8b531154e",
   "metadata": {},
   "source": [
    "Combine consist compound acronyms"
   ]
  },
  {
   "cell_type": "code",
   "execution_count": 15,
   "id": "1c5b826b-5f04-49cf-bc24-8f23e4753a5d",
   "metadata": {},
   "outputs": [],
   "source": [
    "# Only care about PFAS18\n",
    "extracted_df['Acronym'] = extracted_df['Acronym'].replace({'N-MeFOSAA' : 'NMeFOSAA',\n",
    "                                                           'N-EtFOSAA' : 'NEtFOSAA'})"
   ]
  },
  {
   "cell_type": "markdown",
   "id": "e65089e8-c569-4f00-88f7-7b2e5ac23831",
   "metadata": {},
   "source": [
    "Check if RL existing is an issue. If so - impute RL"
   ]
  },
  {
   "cell_type": "code",
   "execution_count": 16,
   "id": "a1d9bcd2-4951-4552-8a86-67c0ab76b619",
   "metadata": {},
   "outputs": [
    {
     "name": "stdout",
     "output_type": "stream",
     "text": [
      "No RL issues. All good for imputation!\n"
     ]
    }
   ],
   "source": [
    "extracted_df = imputation_utils.check_RL(df = extracted_df,\n",
    "                                          rl_col = 'RL',\n",
    "                                          output_col = 'Result_val')"
   ]
  },
  {
   "cell_type": "code",
   "execution_count": 17,
   "id": "58aa5500-6519-4d97-95cb-222a588b3fc1",
   "metadata": {},
   "outputs": [
    {
     "data": {
      "text/plain": [
       "(21260, 24)"
      ]
     },
     "execution_count": 17,
     "metadata": {},
     "output_type": "execute_result"
    }
   ],
   "source": [
    "extracted_df.shape"
   ]
  },
  {
   "cell_type": "markdown",
   "id": "4fcfcda4-e283-41a6-9b93-61a9d09a3d47",
   "metadata": {},
   "source": [
    "#### ROS\n",
    "\n",
    "ROS needs to be done on separate compounds with their separate matrices\n",
    "* AFFF should be done separately"
   ]
  },
  {
   "cell_type": "code",
   "execution_count": 12,
   "id": "82e1c3f0-3dca-4441-8713-3b6ac6905b9e",
   "metadata": {},
   "outputs": [],
   "source": [
    "# Sort values by Result_val (for ROS)\n",
    "extracted_df = extracted_df.sort_values('Result_val')"
   ]
  },
  {
   "cell_type": "code",
   "execution_count": 13,
   "id": "397d9d26-171d-48e1-886e-cfedf4cfdb78",
   "metadata": {},
   "outputs": [],
   "source": [
    "# Separate AFFF from other sources\n",
    "# Separate water from soil sources\n",
    "afff_idxs = extracted_df['folder'].str.lower().str.contains('afff')\n",
    "water_idxs = (~extracted_df['folder'].str.lower().str.contains('afff')) & ((extracted_df['Matrix'].str.lower().str.contains('water')) | (extracted_df['Matrix'].str.lower().str.contains('dw')))\n",
    "soil_idxs = (~extracted_df['folder'].str.lower().str.contains('afff')) & (extracted_df['Matrix'].str.lower().str.contains('so'))"
   ]
  },
  {
   "cell_type": "code",
   "execution_count": 14,
   "id": "15243b64-52a4-4ab4-bde8-1afbdc87d656",
   "metadata": {},
   "outputs": [
    {
     "data": {
      "text/plain": [
       "True"
      ]
     },
     "execution_count": 14,
     "metadata": {},
     "output_type": "execute_result"
    }
   ],
   "source": [
    "extracted_df.shape[0] == water_idxs.sum() + afff_idxs.sum() + soil_idxs.sum()"
   ]
  },
  {
   "cell_type": "markdown",
   "id": "c48ef080-91d9-4600-80c8-f3259d437cdb",
   "metadata": {},
   "source": [
    "Create directories if they don't exist"
   ]
  },
  {
   "cell_type": "code",
   "execution_count": 15,
   "id": "66bd5d4d-583f-40d5-b668-902347e11fe6",
   "metadata": {},
   "outputs": [],
   "source": [
    "paths = [f'{ros_folder}/ros/input',\n",
    "         f'{ros_folder}/ros/output',\n",
    "         f'{ros_folder}/ros/analysis' ,\n",
    "         f'{ros_folder}/imputed'] \n",
    "\n",
    "for path in paths:\n",
    "    # Check whether the specified path exists or not\n",
    "    isExist = os.path.exists(path)\n",
    "\n",
    "    if not isExist:\n",
    "      # Create a new directory because it does not exist \n",
    "      os.makedirs(path)"
   ]
  },
  {
   "cell_type": "markdown",
   "id": "d44f117c-13e3-4c53-b40f-cd0a4412d359",
   "metadata": {},
   "source": [
    "Separate files for ROS or impute using 1/2 limit"
   ]
  },
  {
   "cell_type": "code",
   "execution_count": 16,
   "id": "5d3ec3d1-73ed-44dd-895a-05a69be6ee87",
   "metadata": {},
   "outputs": [],
   "source": [
    "df_imputation_dict = {'afff' : extracted_df[afff_idxs],\n",
    "                      'water' : extracted_df[water_idxs],\n",
    "                      'soil' : extracted_df[soil_idxs]\n",
    "                     }"
   ]
  },
  {
   "cell_type": "code",
   "execution_count": 18,
   "id": "92c0e9d1-d7f6-45e7-a50e-1fe6cee8bded",
   "metadata": {
    "tags": []
   },
   "outputs": [
    {
     "name": "stdout",
     "output_type": "stream",
     "text": [
      "afff ADONA :\n",
      "100.0 % ND - Not included in analysis\n",
      "count    0.0\n",
      "mean     NaN\n",
      "std      NaN\n",
      "min      NaN\n",
      "25%      NaN\n",
      "50%      NaN\n",
      "75%      NaN\n",
      "max      NaN\n",
      "Name: Result, dtype: float64\n",
      "afff NEtFOSAA :\n",
      "100.0 % ND - Not included in analysis\n",
      "count    0.0\n",
      "mean     NaN\n",
      "std      NaN\n",
      "min      NaN\n",
      "25%      NaN\n",
      "50%      NaN\n",
      "75%      NaN\n",
      "max      NaN\n",
      "Name: Result, dtype: float64\n",
      "afff 11Cl-PF 3OUdS :\n",
      "100.0 % ND - Not included in analysis\n",
      "count    0.0\n",
      "mean     NaN\n",
      "std      NaN\n",
      "min      NaN\n",
      "25%      NaN\n",
      "50%      NaN\n",
      "75%      NaN\n",
      "max      NaN\n",
      "Name: Result, dtype: float64\n",
      "afff NMeFOSAA :\n",
      "100.0 % ND - Not included in analysis\n",
      "count    0.0\n",
      "mean     NaN\n",
      "std      NaN\n",
      "min      NaN\n",
      "25%      NaN\n",
      "50%      NaN\n",
      "75%      NaN\n",
      "max      NaN\n",
      "Name: Result, dtype: float64\n",
      "afff PFTrDA :\n",
      "100.0 % ND - Not included in analysis\n",
      "count    0.0\n",
      "mean     NaN\n",
      "std      NaN\n",
      "min      NaN\n",
      "25%      NaN\n",
      "50%      NaN\n",
      "75%      NaN\n",
      "max      NaN\n",
      "Name: Result, dtype: float64\n",
      "afff 9Cl-PF 3ONS :\n",
      "100.0 % ND - Not included in analysis\n",
      "count    0.0\n",
      "mean     NaN\n",
      "std      NaN\n",
      "min      NaN\n",
      "25%      NaN\n",
      "50%      NaN\n",
      "75%      NaN\n",
      "max      NaN\n",
      "Name: Result, dtype: float64\n",
      "afff HFPO-DA :\n",
      "100.0 % ND - Not included in analysis\n",
      "count    0.0\n",
      "mean     NaN\n",
      "std      NaN\n",
      "min      NaN\n",
      "25%      NaN\n",
      "50%      NaN\n",
      "75%      NaN\n",
      "max      NaN\n",
      "Name: Result, dtype: float64\n",
      "water PFTA :\n",
      "99.81 % ND - Not included in analysis\n",
      "count    2.000000\n",
      "mean     3.750000\n",
      "std      2.234457\n",
      "min      2.170000\n",
      "25%      2.960000\n",
      "50%      3.750000\n",
      "75%      4.540000\n",
      "max      5.330000\n",
      "Name: Result, dtype: float64\n",
      "water ADONA :\n",
      "100.0 % ND - Not included in analysis\n",
      "count    0.0\n",
      "mean     NaN\n",
      "std      NaN\n",
      "min      NaN\n",
      "25%      NaN\n",
      "50%      NaN\n",
      "75%      NaN\n",
      "max      NaN\n",
      "Name: Result, dtype: float64\n",
      "water NEtFOSAA :\n",
      "99.35 % ND - Not included in analysis\n",
      "count    7.000000\n",
      "mean     3.910714\n",
      "std      2.128283\n",
      "min      0.645000\n",
      "25%      2.785000\n",
      "50%      4.150000\n",
      "75%      5.180000\n",
      "max      6.650000\n",
      "Name: Result, dtype: float64\n",
      "water 11Cl-PF 3OUdS :\n",
      "100.0 % ND - Not included in analysis\n",
      "count    0.0\n",
      "mean     NaN\n",
      "std      NaN\n",
      "min      NaN\n",
      "25%      NaN\n",
      "50%      NaN\n",
      "75%      NaN\n",
      "max      NaN\n",
      "Name: Result, dtype: float64\n",
      "water NMeFOSAA :\n",
      "99.35 % ND - Not included in analysis\n",
      "count    7.000000\n",
      "mean     3.166143\n",
      "std      1.827849\n",
      "min      0.547000\n",
      "25%      1.983000\n",
      "50%      3.480000\n",
      "75%      4.385000\n",
      "max      5.400000\n",
      "Name: Result, dtype: float64\n",
      "water PFTrDA :\n",
      "99.72 % ND - Not included in analysis\n",
      "count    3.000000\n",
      "mean     2.623333\n",
      "std      1.080386\n",
      "min      1.960000\n",
      "25%      2.000000\n",
      "50%      2.040000\n",
      "75%      2.955000\n",
      "max      3.870000\n",
      "Name: Result, dtype: float64\n",
      "water 9Cl-PF 3ONS :\n",
      "99.66 % ND - Not included in analysis\n",
      "count    2.000\n",
      "mean     0.361\n",
      "std      0.000\n",
      "min      0.361\n",
      "25%      0.361\n",
      "50%      0.361\n",
      "75%      0.361\n",
      "max      0.361\n",
      "Name: Result, dtype: float64\n",
      "water HFPO-DA :\n",
      "100.0 % ND - Not included in analysis\n",
      "count    0.0\n",
      "mean     NaN\n",
      "std      NaN\n",
      "min      NaN\n",
      "25%      NaN\n",
      "50%      NaN\n",
      "75%      NaN\n",
      "max      NaN\n",
      "Name: Result, dtype: float64\n",
      "soil ADONA :\n",
      "100.0 % ND - Not included in analysis\n",
      "count    0.0\n",
      "mean     NaN\n",
      "std      NaN\n",
      "min      NaN\n",
      "25%      NaN\n",
      "50%      NaN\n",
      "75%      NaN\n",
      "max      NaN\n",
      "Name: Result, dtype: float64\n",
      "soil 11Cl-PF 3OUdS :\n",
      "100.0 % ND - Not included in analysis\n",
      "count    0.0\n",
      "mean     NaN\n",
      "std      NaN\n",
      "min      NaN\n",
      "25%      NaN\n",
      "50%      NaN\n",
      "75%      NaN\n",
      "max      NaN\n",
      "Name: Result, dtype: float64\n",
      "soil NMeFOSAA :\n",
      "96.95 % ND - Not included in analysis\n",
      "count    6.000000\n",
      "mean     1.557000\n",
      "std      1.065201\n",
      "min      0.692000\n",
      "25%      1.040000\n",
      "50%      1.145000\n",
      "75%      1.587500\n",
      "max      3.620000\n",
      "Name: Result, dtype: float64\n",
      "soil 9Cl-PF 3ONS :\n",
      "100.0 % ND - Not included in analysis\n",
      "count    0.0\n",
      "mean     NaN\n",
      "std      NaN\n",
      "min      NaN\n",
      "25%      NaN\n",
      "50%      NaN\n",
      "75%      NaN\n",
      "max      NaN\n",
      "Name: Result, dtype: float64\n",
      "soil HFPO-DA :\n",
      "100.0 % ND - Not included in analysis\n",
      "count    0.0\n",
      "mean     NaN\n",
      "std      NaN\n",
      "min      NaN\n",
      "25%      NaN\n",
      "50%      NaN\n",
      "75%      NaN\n",
      "max      NaN\n",
      "Name: Result, dtype: float64\n"
     ]
    }
   ],
   "source": [
    "too_many_non_detects = []\n",
    "for matrix_type in df_imputation_dict:\n",
    "    \n",
    "    df = df_imputation_dict[matrix_type].copy()\n",
    "    \n",
    "    for acronym in extracted_df['Acronym'].unique():\n",
    "\n",
    "        # filter\n",
    "        df_filtered = df[df['Acronym'] == acronym]\n",
    "\n",
    "        #If % of values ND < 80% output df as csv into new folder for ROS\n",
    "        perc_non_detects = df_filtered['Result_val_cen'].sum() / df_filtered.shape[0]\n",
    "        if (perc_non_detects <= 0.8) & (matrix_type != 'afff'):\n",
    "            df_filtered.to_csv(f'{ros_folder}/ros/input/{matrix_type}_{acronym}.csv')\n",
    "\n",
    "        # else use 1/2 limit\n",
    "        else:\n",
    "            # If non-detect < non-detect threshold OR detected samples do not exceed 20 ng/l \n",
    "            if ((perc_non_detects) < non_detect_threshold) | (df_filtered['Result'].describe()['max'] > 20):\n",
    "                df_filtered['Result_val'] = np.where(df_filtered['Result_val_cen'] == 1, df_filtered['Result_val'] / 2, df_filtered['Result_val'])\n",
    "                df_filtered.to_csv(f'{ros_folder}/imputed/{matrix_type}_{acronym}.csv')\n",
    "            else:\n",
    "                print(matrix_type, acronym, ':')\n",
    "                print(round(perc_non_detects * 100, 2), '% ND - Not included in analysis')\n",
    "                print(df_filtered['Result'].describe())\n",
    "    "
   ]
  },
  {
   "cell_type": "code",
   "execution_count": 19,
   "id": "ef5d4ee0-e422-4ea3-b232-d81a2aac8587",
   "metadata": {},
   "outputs": [
    {
     "name": "stdout",
     "output_type": "stream",
     "text": [
      "# files for ros imputation : 14\n",
      "# files that were 1/2 imputed : 20\n"
     ]
    }
   ],
   "source": [
    "path, dirs, files = next(os.walk(f\"{ros_folder}/ros/input\"))\n",
    "print('# files for ros imputation :', len(files))\n",
    "\n",
    "path, dirs, files = next(os.walk(f\"{ros_folder}/imputed\"))\n",
    "print('# files that were 1/2 imputed :', len(files))"
   ]
  },
  {
   "cell_type": "code",
   "execution_count": 21,
   "id": "e97e9962-ca2d-4e71-aeba-f0329eb5a3eb",
   "metadata": {},
   "outputs": [
    {
     "data": {
      "text/html": [
       "\n",
       "        <span>ListVector with 2 elements.</span>\n",
       "        <table>\n",
       "        <tbody>\n",
       "        \n",
       "          <tr>\n",
       "            <th>\n",
       "            value\n",
       "            </th>\n",
       "            <td>\n",
       "            <rpy2.rinterface_lib.sexp.NULLType object at 0x000002BE9055F740> [RTYPES.NILSXP]\n",
       "            </td>\n",
       "          </tr>\n",
       "        \n",
       "          <tr>\n",
       "            <th>\n",
       "            visible\n",
       "            </th>\n",
       "            <td>\n",
       "            <rpy2.rinterface.BoolSexpVector object at 0x000002BE9502AEC0> [RTYPES.LGLSXP]\n",
       "            </td>\n",
       "          </tr>\n",
       "        \n",
       "        </tbody>\n",
       "        </table>\n",
       "        "
      ],
      "text/plain": [
       "<rpy2.robjects.vectors.ListVector object at 0x000002BE93F9BA80> [RTYPES.VECSXP]\n",
       "R classes: ('list',)\n",
       "[NULLType, BoolSexpVector]\n",
       "  value: <class 'rpy2.rinterface_lib.sexp.NULLType'>\n",
       "  <rpy2.rinterface_lib.sexp.NULLType object at 0x000002BE9055F740> [RTYPES.NILSXP]\n",
       "  visible: <class 'rpy2.rinterface.BoolSexpVector'>\n",
       "  <rpy2.rinterface.BoolSexpVector object at 0x000002BE95715F80> [RTYPES.LGLSXP]"
      ]
     },
     "execution_count": 21,
     "metadata": {},
     "output_type": "execute_result"
    }
   ],
   "source": [
    "robjects.globalenv['ros_analysis_location'] = f\"{ros_folder}/ros/analysis\"\n",
    "robjects.globalenv['ros_inputs_location'] = f\"{ros_folder}/ros/input\"\n",
    "robjects.globalenv['ros_outputs_location'] = f\"{ros_folder}/output\"\n",
    "\n",
    "r_source = robjects.r['source']\n",
    "r_source(\"./ros.R\")"
   ]
  },
  {
   "cell_type": "code",
   "execution_count": 22,
   "id": "967a6fe6-95dc-4027-a3a5-8a41372ca4d3",
   "metadata": {
    "tags": []
   },
   "outputs": [],
   "source": [
    "# Read data back in after ROS. Overwrite with ROS modeled data\n",
    "path, dirs, files = next(os.walk(f\"{ros_folder}/ros/output\"))\n",
    "\n",
    "for file in files:\n",
    "    matrix_type = file.split('_')[0]\n",
    "    acronym = file.split('_')[1].split('.')[0]\n",
    "    \n",
    "    ros_df = pd.read_csv(path + '/' + file)\n",
    "    \n",
    "    data = df_imputation_dict[matrix_type]\n",
    "    data_filtered = data[data['Acronym'] == acronym]\n",
    "    \n",
    "    data_filtered = data_filtered.reset_index()\n",
    "\n",
    "    # Overwrite with ROS modeled sample\n",
    "    data_filtered['Result_val'] = ros_df['modeled']\n",
    "    \n",
    "    # Error in ROS - Dropped censored values that exceed max of uncensored values. Use 1/2 imputation for these places.\n",
    "    data_filtered['Result_val'] = np.where(data_filtered['Result_val'].isna(), data_filtered['limit'] / 2, data_filtered['Result_val'])\n",
    "    \n",
    "    # write out to imputed folder\n",
    "    data_filtered.to_csv(f'{ros_folder}/imputed/{matrix_type}_{acronym}.csv')"
   ]
  }
 ],
 "metadata": {
  "kernelspec": {
   "display_name": "Python 3",
   "language": "python",
   "name": "python3"
  },
  "language_info": {
   "codemirror_mode": {
    "name": "ipython",
    "version": 3
   },
   "file_extension": ".py",
   "mimetype": "text/x-python",
   "name": "python",
   "nbconvert_exporter": "python",
   "pygments_lexer": "ipython3",
   "version": "3.8.8"
  }
 },
 "nbformat": 4,
 "nbformat_minor": 5
}
