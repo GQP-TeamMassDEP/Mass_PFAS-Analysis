{
 "cells": [
  {
   "cell_type": "markdown",
   "metadata": {},
   "source": [
    "Functions to prepare inputs for model dataset creation"
   ]
  },
  {
   "cell_type": "code",
   "execution_count": null,
   "id": "9a4669c6-6750-4a5c-a92c-46fe5b6a5080",
   "metadata": {},
   "outputs": [],
   "source": [
    "import pandas as pd\n",
    "import numpy as np\n",
    "import geopandas as gpd\n",
    "import imputation_utils"
   ]
  },
  {
   "cell_type": "code",
   "execution_count": null,
   "metadata": {},
   "outputs": [],
   "source": [
    "run constants.py"
   ]
  },
  {
   "cell_type": "code",
   "execution_count": null,
   "id": "aec11912-fa81-4e4f-9a73-bf31c12403cf",
   "metadata": {},
   "outputs": [],
   "source": [
    "df = pd.read_csv(f'{disposal_sites_dict['file_location']}.csv')"
   ]
  },
  {
   "cell_type": "markdown",
   "id": "0dd36710-6e4c-4fb7-a542-0dcae8dc7e3d",
   "metadata": {},
   "source": [
    "Make df into correct format"
   ]
  },
  {
   "cell_type": "code",
   "execution_count": null,
   "id": "3adc8630-9bad-40af-91ea-86a4f17dd0e0",
   "metadata": {},
   "outputs": [],
   "source": [
    "addresses = df[[disposal_sites_dict['address_col'], disposal_sites_dict['town_col'], disposal_sites_dict['state_col']]].drop_duplicates()\n",
    "addresses['full_address'] = addresses[disposal_sites_dict['address_col']] + ', ' + addresses[disposal_sites_dict['town_col']] + ' ' + addresses[disposal_sites_dict['state_col']]"
   ]
  },
  {
   "cell_type": "markdown",
   "metadata": {},
   "source": [
    "Geocode locations"
   ]
  },
  {
   "cell_type": "code",
   "execution_count": null,
   "id": "c7bd19e0-fc42-450e-b782-e25e4b558e63",
   "metadata": {},
   "outputs": [],
   "source": [
    "lats, lons = imputation_utils.geocode(addresses, address_col = 'full_address')\n",
    "addresses['lat'] = lats\n",
    "addresses['lon'] = lons"
   ]
  },
  {
   "cell_type": "code",
   "execution_count": null,
   "id": "a1d710ea-a037-417c-b32b-2ea0476e9f27",
   "metadata": {},
   "outputs": [
    {
     "data": {
      "text/html": [
       "<div>\n",
       "<style scoped>\n",
       "    .dataframe tbody tr th:only-of-type {\n",
       "        vertical-align: middle;\n",
       "    }\n",
       "\n",
       "    .dataframe tbody tr th {\n",
       "        vertical-align: top;\n",
       "    }\n",
       "\n",
       "    .dataframe thead th {\n",
       "        text-align: right;\n",
       "    }\n",
       "</style>\n",
       "<table border=\"1\" class=\"dataframe\">\n",
       "  <thead>\n",
       "    <tr style=\"text-align: right;\">\n",
       "      <th></th>\n",
       "      <th>Address</th>\n",
       "      <th>Town</th>\n",
       "      <th>full_address</th>\n",
       "      <th>lat</th>\n",
       "      <th>lon</th>\n",
       "    </tr>\n",
       "  </thead>\n",
       "  <tbody>\n",
       "    <tr>\n",
       "      <th>33</th>\n",
       "      <td>30 SPECTACLE POND ROAD</td>\n",
       "      <td>AYER</td>\n",
       "      <td>30 SPECTACLE POND ROAD, AYER MA</td>\n",
       "      <td>NaN</td>\n",
       "      <td>NaN</td>\n",
       "    </tr>\n",
       "    <tr>\n",
       "      <th>34</th>\n",
       "      <td>NO ADDRESS</td>\n",
       "      <td>WORCESTER</td>\n",
       "      <td>NO ADDRESS, WORCESTER MA</td>\n",
       "      <td>NaN</td>\n",
       "      <td>NaN</td>\n",
       "    </tr>\n",
       "    <tr>\n",
       "      <th>42</th>\n",
       "      <td>BENNETT BROOK</td>\n",
       "      <td>LITTLETON</td>\n",
       "      <td>BENNETT BROOK, LITTLETON MA</td>\n",
       "      <td>NaN</td>\n",
       "      <td>NaN</td>\n",
       "    </tr>\n",
       "  </tbody>\n",
       "</table>\n",
       "</div>"
      ],
      "text/plain": [
       "                   Address       Town                     full_address  lat  \\\n",
       "33  30 SPECTACLE POND ROAD       AYER  30 SPECTACLE POND ROAD, AYER MA  NaN   \n",
       "34              NO ADDRESS  WORCESTER         NO ADDRESS, WORCESTER MA  NaN   \n",
       "42           BENNETT BROOK  LITTLETON      BENNETT BROOK, LITTLETON MA  NaN   \n",
       "\n",
       "    lon  \n",
       "33  NaN  \n",
       "34  NaN  \n",
       "42  NaN  "
      ]
     },
     "metadata": {},
     "output_type": "display_data"
    }
   ],
   "source": [
    "# Manually fill-in the places that couldn't be reverse geocoded\n",
    "addresses[addresses['lat'].isna()]"
   ]
  },
  {
   "cell_type": "markdown",
   "id": "906c5306-ffab-4f60-9445-7dcb3b5d2afb",
   "metadata": {},
   "source": [
    "Overwrite with correct lats and lons. Used Google maps to get lat/lon coordinates\n",
    "* Notice that the numbers are specific to the index"
   ]
  },
  {
   "cell_type": "code",
   "execution_count": null,
   "id": "c8d7f2ff-ff91-4e68-be9a-7eb7a42bd021",
   "metadata": {},
   "outputs": [],
   "source": [
    "addresses.loc[33,'lon'] = -71.5269418\n",
    "addresses.loc[33,'lat'] = 42.5565774"
   ]
  },
  {
   "cell_type": "code",
   "execution_count": null,
   "id": "7bf0cc3f-653e-4a45-bd0d-7a2996736472",
   "metadata": {},
   "outputs": [],
   "source": [
    "addresses.loc[34,'lon'] = -71.8428431\n",
    "addresses.loc[34,'lat'] = 42.2753779"
   ]
  },
  {
   "cell_type": "code",
   "execution_count": null,
   "id": "48d4d431-097a-4fb0-9b47-514fb5482e12",
   "metadata": {},
   "outputs": [],
   "source": [
    "addresses.loc[42,'lon'] = -71.5500131\n",
    "addresses.loc[42,'lat'] = 42.542443"
   ]
  },
  {
   "cell_type": "markdown",
   "id": "53e24edd-bb5c-410b-b132-0bf530d425d9",
   "metadata": {},
   "source": [
    "Attach to original dataset"
   ]
  },
  {
   "cell_type": "code",
   "execution_count": null,
   "id": "3eda4fbe-1cdb-478f-87f4-b0a007c8f3f8",
   "metadata": {},
   "outputs": [],
   "source": [
    "df = df.merge(addresses, on = [disposal_sites_dict['address_col'], disposal_sites_dict['town_col'], disposal_sites_dict['state_col']])"
   ]
  },
  {
   "cell_type": "code",
   "execution_count": null,
   "id": "ff4b4abc-fe8c-4168-b321-5225cb0040cc",
   "metadata": {},
   "outputs": [
    {
     "data": {
      "text/html": [
       "<div>\n",
       "<style scoped>\n",
       "    .dataframe tbody tr th:only-of-type {\n",
       "        vertical-align: middle;\n",
       "    }\n",
       "\n",
       "    .dataframe tbody tr th {\n",
       "        vertical-align: top;\n",
       "    }\n",
       "\n",
       "    .dataframe thead th {\n",
       "        text-align: right;\n",
       "    }\n",
       "</style>\n",
       "<table border=\"1\" class=\"dataframe\">\n",
       "  <thead>\n",
       "    <tr style=\"text-align: right;\">\n",
       "      <th></th>\n",
       "      <th>Extracted</th>\n",
       "      <th>RTN</th>\n",
       "      <th>Town</th>\n",
       "      <th>Site_Name</th>\n",
       "      <th>Address</th>\n",
       "      <th>Notif_Date</th>\n",
       "      <th>Disposition</th>\n",
       "      <th>Chemical</th>\n",
       "      <th>Source or receptor data</th>\n",
       "      <th>Source Type</th>\n",
       "      <th>full_address</th>\n",
       "      <th>lat</th>\n",
       "      <th>lon</th>\n",
       "    </tr>\n",
       "  </thead>\n",
       "  <tbody>\n",
       "    <tr>\n",
       "      <th>0</th>\n",
       "      <td>Extracted</td>\n",
       "      <td>1-0021230</td>\n",
       "      <td>LANESBOROUGH</td>\n",
       "      <td>LANESBOROUGH WATER SUPPLY WELL #1</td>\n",
       "      <td>20 BRIDGE STREET</td>\n",
       "      <td>12/9/2020</td>\n",
       "      <td>LESS</td>\n",
       "      <td>PFOS &amp; PFAS</td>\n",
       "      <td>Source lab reports</td>\n",
       "      <td>Other</td>\n",
       "      <td>20 BRIDGE STREET, LANESBOROUGH MA</td>\n",
       "      <td>42.521411</td>\n",
       "      <td>-73.231620</td>\n",
       "    </tr>\n",
       "    <tr>\n",
       "      <th>1</th>\n",
       "      <td>Extracted</td>\n",
       "      <td>1-0021289</td>\n",
       "      <td>NORTHFIELD</td>\n",
       "      <td>FOUR STAR FARMS</td>\n",
       "      <td>496 PINE MEADOW ROAD</td>\n",
       "      <td>4/5/2021</td>\n",
       "      <td>LESS</td>\n",
       "      <td>PFAS</td>\n",
       "      <td>Receptor lab reports</td>\n",
       "      <td>NaN</td>\n",
       "      <td>496 PINE MEADOW ROAD, NORTHFIELD MA</td>\n",
       "      <td>42.636395</td>\n",
       "      <td>-72.482138</td>\n",
       "    </tr>\n",
       "  </tbody>\n",
       "</table>\n",
       "</div>"
      ],
      "text/plain": [
       "   Extracted        RTN          Town                          Site_Name  \\\n",
       "0  Extracted  1-0021230  LANESBOROUGH  LANESBOROUGH WATER SUPPLY WELL #1   \n",
       "1  Extracted  1-0021289    NORTHFIELD                    FOUR STAR FARMS   \n",
       "\n",
       "                Address Notif_Date Disposition     Chemical  \\\n",
       "0      20 BRIDGE STREET  12/9/2020        LESS  PFOS & PFAS   \n",
       "1  496 PINE MEADOW ROAD   4/5/2021        LESS         PFAS   \n",
       "\n",
       "  Source or receptor data Source Type                         full_address  \\\n",
       "0      Source lab reports       Other    20 BRIDGE STREET, LANESBOROUGH MA   \n",
       "1    Receptor lab reports         NaN  496 PINE MEADOW ROAD, NORTHFIELD MA   \n",
       "\n",
       "         lat        lon  \n",
       "0  42.521411 -73.231620  \n",
       "1  42.636395 -72.482138  "
      ]
     },
     "metadata": {},
     "output_type": "display_data"
    }
   ],
   "source": [
    "df.head(2)"
   ]
  },
  {
   "cell_type": "markdown",
   "id": "c0e83728-a55d-4ae5-a78c-2957487a7cc4",
   "metadata": {},
   "source": [
    "### Output as geocoded dataset"
   ]
  },
  {
   "cell_type": "code",
   "execution_count": null,
   "id": "a2ee382e-77aa-472c-945d-a46c051ddc64",
   "metadata": {},
   "outputs": [],
   "source": [
    "df.to_csv(f'{disposal_sites_output}.csv', index = False)"
   ]
  },
  {
   "cell_type": "code",
   "execution_count": null,
   "id": "d6c5f96f",
   "metadata": {},
   "outputs": [
    {
     "name": "stderr",
     "output_type": "stream",
     "text": [
      "C:\\Users\\dcher\\anaconda3\\lib\\site-packages\\pyproj\\crs\\crs.py:131: FutureWarning: '+init=<authority>:<code>' syntax is deprecated. '<authority>:<code>' is the preferred initialization method. When making the change, be mindful of axis order changes: https://pyproj4.github.io/pyproj/stable/gotchas.html#axis-order-changes-in-proj-6\n",
      "  in_crs_string = _prepare_from_proj_string(in_crs_string)\n"
     ]
    }
   ],
   "source": [
    "df_gdf = gpd.GeoDataFrame(\n",
    "    df,\n",
    "    geometry=gpd.points_from_xy(df.lon, df.lat),\n",
    "    crs={\"init\":\"EPSG:4326\"})"
   ]
  },
  {
   "cell_type": "code",
   "execution_count": null,
   "id": "771ca478",
   "metadata": {},
   "outputs": [],
   "source": [
    "df_gdf.to_file(f'{disposal_sites_output}.geojson', driver= 'GeoJSON')"
   ]
  }
 ],
 "metadata": {
  "language_info": {
   "name": "python"
  },
  "orig_nbformat": 4
 },
 "nbformat": 4,
 "nbformat_minor": 2
}
