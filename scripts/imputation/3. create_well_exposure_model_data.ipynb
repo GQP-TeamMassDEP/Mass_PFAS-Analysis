{
 "cells": [
  {
   "cell_type": "markdown",
   "id": "b4bc23af-f205-4a21-98a5-411fd2a0ecda",
   "metadata": {},
   "source": [
    "## Create Modeling Datasets"
   ]
  },
  {
   "cell_type": "markdown",
   "id": "3798847d-ef87-45ec-9b5b-3e4d67fcd09b",
   "metadata": {},
   "source": [
    "* Well exposure model\n",
    "    * Only use the largest sample for each location"
   ]
  },
  {
   "cell_type": "code",
   "execution_count": 2,
   "id": "09baf74d-78b8-41b4-8b86-36fa8ddd655d",
   "metadata": {},
   "outputs": [],
   "source": [
    "import pandas as pd\n",
    "import numpy as np\n",
    "import os\n",
    "import imputation_utils\n",
    "import geopandas as gpd\n",
    "import rpy2.robjects as robjects"
   ]
  },
  {
   "cell_type": "code",
   "execution_count": 4,
   "id": "521c0cd9",
   "metadata": {},
   "outputs": [],
   "source": [
    "run constants.py"
   ]
  },
  {
   "cell_type": "markdown",
   "id": "81482c2d-747e-438b-b92b-641182d5acc0",
   "metadata": {},
   "source": [
    "Read in imputed data"
   ]
  },
  {
   "cell_type": "code",
   "execution_count": 5,
   "id": "019f945b-352d-49c7-b7c8-bb6eaa2a4376",
   "metadata": {},
   "outputs": [],
   "source": [
    "# Read in all imputed data\n",
    "path, dirs, files = next(os.walk(f\"{ros_folder}/imputed\"))\n",
    "\n",
    "imputed_data = pd.DataFrame()\n",
    "for file in files:\n",
    "    df = pd.read_csv(f'{ros_folder}/imputed/{file}')\n",
    "    imputed_data = pd.concat([imputed_data,df],axis=0)"
   ]
  },
  {
   "cell_type": "code",
   "execution_count": 6,
   "id": "a393a01b-30a2-458a-ac53-0ea04c9d148d",
   "metadata": {},
   "outputs": [
    {
     "data": {
      "text/plain": [
       "(14304, 26)"
      ]
     },
     "execution_count": 6,
     "metadata": {},
     "output_type": "execute_result"
    }
   ],
   "source": [
    "imputed_data.shape"
   ]
  },
  {
   "cell_type": "markdown",
   "id": "d145459c-dcaa-4c52-ac1a-08bf5d7dfa35",
   "metadata": {},
   "source": [
    "### Source Attribution Datasets"
   ]
  },
  {
   "cell_type": "code",
   "execution_count": 15,
   "id": "c4c69849-3170-4421-855f-3883fd7a9bce",
   "metadata": {},
   "outputs": [],
   "source": [
    "disposal_sites_info = pd.read_csv(f'{disposal_sites_output}.csv')\n",
    "rl_mdl_lookup = pd.read_csv('../../data/Extracted lab report data/RL_MDL_lookup_table.csv')"
   ]
  },
  {
   "cell_type": "code",
   "execution_count": null,
   "id": "bec3466d",
   "metadata": {},
   "outputs": [],
   "source": [
    "df_pfas_vars = pd.read_csv(pfas_dict['file_location'])\n",
    "\n",
    "# Get list of pfas compounds\n",
    "pfas_vars = df_pfas_vars[df_pfas_vars[pfas_dict['pfas_filter_col']] == 1][pfas_dict['acronym_col']]"
   ]
  },
  {
   "cell_type": "markdown",
   "id": "a1397be9-e384-4e1a-8d5f-1eaf9f39ad4a",
   "metadata": {},
   "source": [
    "### Well Exposure Datasets"
   ]
  },
  {
   "cell_type": "markdown",
   "id": "1a157518-6595-48c2-893f-d442a2ca3478",
   "metadata": {},
   "source": [
    "##### Disposal Source\n",
    "* Taking max of each RTN\n",
    "* Make sure 'source' is in folder column to identify source samples"
   ]
  },
  {
   "cell_type": "code",
   "execution_count": 7,
   "id": "a4f2dd6b-f5ce-4d9f-9851-a3c4b4a42a20",
   "metadata": {
    "tags": []
   },
   "outputs": [
    {
     "name": "stderr",
     "output_type": "stream",
     "text": [
      "<ipython-input-7-a6e78d306b02>:5: SettingWithCopyWarning: \n",
      "A value is trying to be set on a copy of a slice from a DataFrame.\n",
      "Try using .loc[row_indexer,col_indexer] = value instead\n",
      "\n",
      "See the caveats in the documentation: https://pandas.pydata.org/pandas-docs/stable/user_guide/indexing.html#returning-a-view-versus-a-copy\n",
      "  disposal_source_df['date_sampled_ds'] =  np.where(disposal_source_df['date_sampled'].isna(), '01/01/2001' , disposal_source_df['date_sampled'])\n"
     ]
    }
   ],
   "source": [
    "# Create well exposure data outputs (only use biggest for source)\n",
    "disposal_source_df = imputed_data[(imputed_data['folder'].str.lower().str.contains('source'))]"
   ]
  },
  {
   "cell_type": "code",
   "execution_count": null,
   "id": "09b596df",
   "metadata": {},
   "outputs": [],
   "source": [
    "# Replace unknown date sampled \n",
    "disposal_source_df['date_sampled_ds'] =  np.where(disposal_source_df['date_sampled'].isna(), '01/01/2001' , disposal_source_df['date_sampled'])"
   ]
  },
  {
   "cell_type": "code",
   "execution_count": 8,
   "id": "8b4c8ef5-b9f4-4353-8e79-39da136f6a1d",
   "metadata": {},
   "outputs": [],
   "source": [
    "# Merge lat/lon information\n",
    "disposal_source_df = disposal_source_df.merge(disposal_sites_info[['RTN', 'lat', 'lon']], on = 'RTN')"
   ]
  },
  {
   "cell_type": "code",
   "execution_count": 9,
   "id": "690cf131-c7ed-47ac-9787-c72c689161c4",
   "metadata": {},
   "outputs": [],
   "source": [
    "# Make sure it is in wide format\n",
    "disposal_source_df_wide = disposal_source_df.pivot_table(index=['RTN', 'report', 'lab' ,'sample_id', 'Matrix' ,'date_sampled_ds', 'lat', 'lon'], columns='Acronym', values='Result_val').reset_index()"
   ]
  },
  {
   "cell_type": "code",
   "execution_count": null,
   "id": "63ba5c99",
   "metadata": {},
   "outputs": [],
   "source": [
    "# Use the maximum sample for each source sample\n",
    "max_disposal_source_df = imputation_utils.create_max_disposal_df(disposal_source_df_wide)"
   ]
  },
  {
   "cell_type": "code",
   "execution_count": 17,
   "id": "7fed50cf-dde3-4db8-bc55-86dba818c006",
   "metadata": {},
   "outputs": [],
   "source": [
    "max_disposal_source_df_wide = imputation_utils.fill_na_with_mdl_rl(df = max_disposal_source_df.reset_index(),\n",
    "                                                   pfas_vars = pfas_vars,\n",
    "                                                   rl_mdl_lookup = rl_mdl_lookup) "
   ]
  },
  {
   "cell_type": "code",
   "execution_count": 18,
   "id": "bee52326-c1d4-41a4-ab0e-62e150f1f475",
   "metadata": {},
   "outputs": [
    {
     "data": {
      "text/plain": [
       "(18, 23)"
      ]
     },
     "execution_count": 18,
     "metadata": {},
     "output_type": "execute_result"
    }
   ],
   "source": [
    "max_disposal_source_df_wide.shape"
   ]
  },
  {
   "cell_type": "code",
   "execution_count": 19,
   "id": "31d204c5-f38f-4d74-8bfc-5efa473b80b1",
   "metadata": {},
   "outputs": [
    {
     "data": {
      "text/plain": [
       "Index(['level_0', 'RTN', 'index', 'report', 'lab', 'sample_id', 'Matrix',\n",
       "       'date_sampled_ds', 'lat', 'lon', 'NEtFOSAA', 'PFBS', 'PFDA', 'PFDoA',\n",
       "       'PFHpA', 'PFHxA', 'PFHxS', 'PFNA', 'PFOA', 'PFOS', 'PFTA', 'PFTrDA',\n",
       "       'PFUnA'],\n",
       "      dtype='object', name='Acronym')"
      ]
     },
     "execution_count": 19,
     "metadata": {},
     "output_type": "execute_result"
    }
   ],
   "source": [
    "max_disposal_source_df_wide.columns"
   ]
  },
  {
   "cell_type": "code",
   "execution_count": null,
   "id": "44c7c3b7",
   "metadata": {},
   "outputs": [],
   "source": [
    "# Fill in based on columns above with all PFAS\n",
    "pfas_list = ['NEtFOSAA', 'PFBS', 'PFDA', 'PFDoA',\n",
    "       'PFHpA', 'PFHxA', 'PFHxS', 'PFNA', 'PFOA', 'PFOS', 'PFTA', 'PFTrDA',\n",
    "       'PFUnA']"
   ]
  },
  {
   "cell_type": "code",
   "execution_count": 20,
   "id": "73890bcc-9a39-4fbb-8b2b-1632623e4ef6",
   "metadata": {},
   "outputs": [],
   "source": [
    "for col in max_disposal_source_df_wide.columns:\n",
    "    if col in pfas_list:\n",
    "        max_disposal_source_df_wide.rename(columns = {col : f'{col}_DS'}, inplace = True)"
   ]
  },
  {
   "cell_type": "markdown",
   "id": "2b0aa923-220c-408e-9434-2754ddb6c120",
   "metadata": {},
   "source": [
    "Make into gdf"
   ]
  },
  {
   "cell_type": "code",
   "execution_count": 21,
   "id": "d7bab898-0b26-4428-9821-88cf7d9d7a5f",
   "metadata": {
    "tags": []
   },
   "outputs": [
    {
     "name": "stderr",
     "output_type": "stream",
     "text": [
      "C:\\Users\\dcher\\anaconda3\\lib\\site-packages\\pyproj\\crs\\crs.py:131: FutureWarning: '+init=<authority>:<code>' syntax is deprecated. '<authority>:<code>' is the preferred initialization method. When making the change, be mindful of axis order changes: https://pyproj4.github.io/pyproj/stable/gotchas.html#axis-order-changes-in-proj-6\n",
      "  in_crs_string = _prepare_from_proj_string(in_crs_string)\n"
     ]
    }
   ],
   "source": [
    "# turn into geodataframe\n",
    "max_disposal_source_gdf = gpd.GeoDataFrame(\n",
    "    max_disposal_source_df_wide, \n",
    "    geometry=gpd.points_from_xy(max_disposal_source_df_wide.lon, max_disposal_source_df_wide.lat),\n",
    "    crs={\"init\":\"EPSG:4326\"})"
   ]
  },
  {
   "cell_type": "code",
   "execution_count": 22,
   "id": "38ee8529-4eae-4ada-b3ff-cf27b413f4c1",
   "metadata": {},
   "outputs": [
    {
     "data": {
      "text/plain": [
       "(18, 24)"
      ]
     },
     "execution_count": 22,
     "metadata": {},
     "output_type": "execute_result"
    }
   ],
   "source": [
    "max_disposal_source_gdf.shape"
   ]
  },
  {
   "cell_type": "markdown",
   "id": "835f3bc8-f3e0-48a1-a52b-b24b0d3c87f7",
   "metadata": {},
   "source": [
    "Write out all files to baseline folder"
   ]
  },
  {
   "cell_type": "code",
   "execution_count": 23,
   "id": "7907670f-ca17-480f-b8dc-58e1b1470718",
   "metadata": {},
   "outputs": [],
   "source": [
    "max_disposal_source_gdf.to_file('../../data/modeling_data/well_exposure/base_samples/diposal_source_gdf.geojson', drive = 'GeoJSON')\n",
    "max_disposal_source_df_wide.to_csv('../../data/modeling_data/well_exposure/base_samples/diposal_source_df.csv')"
   ]
  },
  {
   "cell_type": "markdown",
   "id": "776ec16a-b534-4ed5-8a12-bac42a6214cb",
   "metadata": {},
   "source": [
    "***"
   ]
  },
  {
   "cell_type": "markdown",
   "id": "f829e6aa-a2b4-4c00-8fa2-ba563fcafe42",
   "metadata": {},
   "source": [
    "##### Private Well"
   ]
  },
  {
   "cell_type": "code",
   "execution_count": 24,
   "id": "78d1914f-6eb1-496d-a211-6784cf86da36",
   "metadata": {},
   "outputs": [],
   "source": [
    "private_well_df = imputed_data[(imputed_data['folder'].str.lower().str.contains('well')) | (imputed_data['folder'].str.lower().str.contains('receptor'))]"
   ]
  },
  {
   "cell_type": "code",
   "execution_count": 25,
   "id": "2a616142-279a-4171-849b-75c88755fec0",
   "metadata": {},
   "outputs": [
    {
     "data": {
      "text/plain": [
       "(9202, 26)"
      ]
     },
     "execution_count": 25,
     "metadata": {},
     "output_type": "execute_result"
    }
   ],
   "source": [
    "private_well_df.shape"
   ]
  },
  {
   "cell_type": "code",
   "execution_count": 26,
   "id": "3e51687a-5cee-41e4-9821-dfbdcba57fc8",
   "metadata": {},
   "outputs": [
    {
     "data": {
      "text/plain": [
       "array(['2-0021075', '2-0021045', '3-0036774', '3-0036649', '1-0021289',\n",
       "       '2-0020923', '4-0027571', '2-0020439', '2-0021072', '4-0028856',\n",
       "       '4-0028855'], dtype=object)"
      ]
     },
     "execution_count": 26,
     "metadata": {},
     "output_type": "execute_result"
    }
   ],
   "source": [
    "private_well_df['RTN'].unique()"
   ]
  },
  {
   "cell_type": "code",
   "execution_count": 27,
   "id": "07fbb663-d4b0-4a51-a6b1-47ef872409c5",
   "metadata": {},
   "outputs": [
    {
     "name": "stderr",
     "output_type": "stream",
     "text": [
      "<ipython-input-27-f8cf92ff9aa0>:2: SettingWithCopyWarning: \n",
      "A value is trying to be set on a copy of a slice from a DataFrame.\n",
      "Try using .loc[row_indexer,col_indexer] = value instead\n",
      "\n",
      "See the caveats in the documentation: https://pandas.pydata.org/pandas-docs/stable/user_guide/indexing.html#returning-a-view-versus-a-copy\n",
      "  private_well_df['date_sampled_well'] =  np.where(private_well_df['date_sampled'].isna(), '01/01/2001' , private_well_df['date_sampled'])\n"
     ]
    }
   ],
   "source": [
    "# Replace unknown date sampled \n",
    "private_well_df['date_sampled_well'] =  np.where(private_well_df['date_sampled'].isna(), '01/01/2001' , private_well_df['date_sampled']) "
   ]
  },
  {
   "cell_type": "code",
   "execution_count": 28,
   "id": "1bed52a3-d514-4b4f-babe-0cf30279c648",
   "metadata": {
    "tags": []
   },
   "outputs": [
    {
     "name": "stderr",
     "output_type": "stream",
     "text": [
      "<ipython-input-28-78263a8ffae4>:10: SettingWithCopyWarning: \n",
      "A value is trying to be set on a copy of a slice from a DataFrame.\n",
      "Try using .loc[row_indexer,col_indexer] = value instead\n",
      "\n",
      "See the caveats in the documentation: https://pandas.pydata.org/pandas-docs/stable/user_guide/indexing.html#returning-a-view-versus-a-copy\n",
      "  west_tisbury_wells['sample_id'] = west_tisbury_wells['sample_id'].str.replace('PROPERTY ', '')\n",
      "<ipython-input-28-78263a8ffae4>:11: SettingWithCopyWarning: \n",
      "A value is trying to be set on a copy of a slice from a DataFrame.\n",
      "Try using .loc[row_indexer,col_indexer] = value instead\n",
      "\n",
      "See the caveats in the documentation: https://pandas.pydata.org/pandas-docs/stable/user_guide/indexing.html#returning-a-view-versus-a-copy\n",
      "  west_tisbury_wells['sample_id'] = west_tisbury_wells['sample_id'].str.replace('PROPERTY-', '')\n"
     ]
    }
   ],
   "source": [
    "### PLACE OF POSSIBLE IMPROVEMENT - MORE ACCURATE LAT/LON - On Natick! - https://drive.google.com/drive/search?q=3-0036774%20-%20Natick%20-%20Document_ID_603323.pdf (all the different locations)\n",
    "\n",
    "# West Tisbury - attach using excel table. Use LOC_ID as lat/lon\n",
    "west_tisbury = pd.read_csv('../../data/private_wells/4-0027571_WestTisbury_Key_Table - WestTisbury_Key_Table.csv')\n",
    "locations_updated = pd.read_csv('../../data/private_wells/private_well_locations_filled_in.csv')\n",
    "\n",
    "west_tisbury_wells = locations_updated[locations_updated['report'].str.lower().str.contains('west tisbury')]\n",
    "\n",
    "# Remove the word property - then join to get LOC_ID, and convert to lat/lon\n",
    "west_tisbury_wells['sample_id'] = west_tisbury_wells['sample_id'].str.replace('PROPERTY ', '')\n",
    "west_tisbury_wells['sample_id'] = west_tisbury_wells['sample_id'].str.replace('PROPERTY-', '')\n",
    "\n",
    "west_tisbury_wells_w_loc_id = west_tisbury_wells.merge(west_tisbury[['PLAN_ID', 'LOC_ID']], left_on = 'sample_id', right_on = 'PLAN_ID')\n",
    "\n",
    "west_tisbury_wells_w_loc_id['lon'] = west_tisbury_wells_w_loc_id['LOC_ID'].str.split('_').str[1]\n",
    "west_tisbury_wells_w_loc_id['lat'] = west_tisbury_wells_w_loc_id['LOC_ID'].str.split('_').str[2]"
   ]
  },
  {
   "cell_type": "code",
   "execution_count": 29,
   "id": "490467c0-c9a6-46c0-8b20-d90a522d5bde",
   "metadata": {},
   "outputs": [],
   "source": [
    "wt_wells_gdf = gpd.GeoDataFrame(\n",
    "    west_tisbury_wells_w_loc_id,\n",
    "    geometry=gpd.points_from_xy(west_tisbury_wells_w_loc_id.lon, west_tisbury_wells_w_loc_id.lat),\n",
    "    crs={\"init\":\"EPSG:26986\"})\n",
    "\n",
    "wt_wells_gdf = wt_wells_gdf.to_crs('EPSG:4326')"
   ]
  },
  {
   "cell_type": "code",
   "execution_count": 30,
   "id": "75e825e0-70dc-4aa7-8a24-9452cd884a7d",
   "metadata": {},
   "outputs": [],
   "source": [
    "wt_wells_gdf['lon'] = wt_wells_gdf['geometry'].x\n",
    "wt_wells_gdf['lat'] = wt_wells_gdf['geometry'].y"
   ]
  },
  {
   "cell_type": "code",
   "execution_count": 31,
   "id": "7bc57a3e-3563-4ee0-aecc-32f9ccb30071",
   "metadata": {},
   "outputs": [],
   "source": [
    "wt_wells_df = wt_wells_gdf[['report', 'RTN', 'address', 'sample_id', 'lon','lat']]"
   ]
  },
  {
   "cell_type": "code",
   "execution_count": 32,
   "id": "cf4ab8c6-dd84-4de3-a016-c0485479d04b",
   "metadata": {
    "tags": []
   },
   "outputs": [],
   "source": [
    "# Geocode the rest of the locations (non west-tisbury using the address) - drop if address doesn't exist\n",
    "private_wells = locations_updated[~(locations_updated['report'].str.lower().str.contains('west tisbury'))]\n",
    "\n",
    "private_addresses = private_wells[['address']].drop_duplicates()"
   ]
  },
  {
   "cell_type": "code",
   "execution_count": 34,
   "id": "d307accc-f511-4f5d-8bf1-22e480c96f94",
   "metadata": {},
   "outputs": [
    {
     "name": "stdout",
     "output_type": "stream",
     "text": [
      "22 RUSSET LANE, Stow, MA : No results found\n",
      "30 RUSSET LN, Stow MA : No results found\n",
      "38 Russet Lane, Stow MA : No results found\n"
     ]
    }
   ],
   "source": [
    "private_addresses['lat'], private_addresses['lon'] = imputation_utils.geocode(private_addresses, 'address')"
   ]
  },
  {
   "cell_type": "code",
   "execution_count": 36,
   "id": "3c5aaffb-b7c4-44ad-88a5-00853b1cd907",
   "metadata": {},
   "outputs": [
    {
     "data": {
      "text/html": [
       "<div>\n",
       "<style scoped>\n",
       "    .dataframe tbody tr th:only-of-type {\n",
       "        vertical-align: middle;\n",
       "    }\n",
       "\n",
       "    .dataframe tbody tr th {\n",
       "        vertical-align: top;\n",
       "    }\n",
       "\n",
       "    .dataframe thead th {\n",
       "        text-align: right;\n",
       "    }\n",
       "</style>\n",
       "<table border=\"1\" class=\"dataframe\">\n",
       "  <thead>\n",
       "    <tr style=\"text-align: right;\">\n",
       "      <th></th>\n",
       "      <th>address</th>\n",
       "      <th>lat</th>\n",
       "      <th>lon</th>\n",
       "    </tr>\n",
       "  </thead>\n",
       "  <tbody>\n",
       "    <tr>\n",
       "      <th>47</th>\n",
       "      <td>22 RUSSET LANE, Stow, MA</td>\n",
       "      <td>NaN</td>\n",
       "      <td>NaN</td>\n",
       "    </tr>\n",
       "    <tr>\n",
       "      <th>113</th>\n",
       "      <td>30 RUSSET LN, Stow MA</td>\n",
       "      <td>NaN</td>\n",
       "      <td>NaN</td>\n",
       "    </tr>\n",
       "    <tr>\n",
       "      <th>206</th>\n",
       "      <td>38 Russet Lane, Stow MA</td>\n",
       "      <td>NaN</td>\n",
       "      <td>NaN</td>\n",
       "    </tr>\n",
       "  </tbody>\n",
       "</table>\n",
       "</div>"
      ],
      "text/plain": [
       "                      address  lat  lon\n",
       "47   22 RUSSET LANE, Stow, MA  NaN  NaN\n",
       "113     30 RUSSET LN, Stow MA  NaN  NaN\n",
       "206   38 Russet Lane, Stow MA  NaN  NaN"
      ]
     },
     "execution_count": 36,
     "metadata": {},
     "output_type": "execute_result"
    }
   ],
   "source": [
    "# Manually fill-in the places that couldn't be reverse geocoded\n",
    "private_addresses[private_addresses['lat'].isna()]"
   ]
  },
  {
   "cell_type": "markdown",
   "id": "ac4cc8fd-2eed-44f9-8cc2-9faf35af71ae",
   "metadata": {},
   "source": [
    "Overwrite with correct lats and lons"
   ]
  },
  {
   "cell_type": "code",
   "execution_count": 37,
   "id": "c877c135-2901-4e5f-a273-426f407f28c2",
   "metadata": {},
   "outputs": [],
   "source": [
    "private_addresses.loc[47,'lon'] = -71.5077957\n",
    "private_addresses.loc[47,'lat'] = 42.439586"
   ]
  },
  {
   "cell_type": "code",
   "execution_count": 38,
   "id": "9c5c5e57-db9f-46a2-bb2f-6e36ca2224e0",
   "metadata": {},
   "outputs": [],
   "source": [
    "private_addresses.loc[113,'lon'] = -71.5075817\n",
    "private_addresses.loc[113,'lat'] = 42.4402009"
   ]
  },
  {
   "cell_type": "code",
   "execution_count": 39,
   "id": "0120d5b6-255f-4af6-a1a3-75cbbbbd5aa0",
   "metadata": {},
   "outputs": [],
   "source": [
    "private_addresses.loc[206,'lon'] = -71.507332\n",
    "private_addresses.loc[206,'lat'] = 42.4407338"
   ]
  },
  {
   "cell_type": "markdown",
   "id": "94203f8e-c876-4856-b773-cda606144f72",
   "metadata": {},
   "source": [
    "Merge lat/lons to private well dataset"
   ]
  },
  {
   "cell_type": "code",
   "execution_count": 40,
   "id": "c9dda063-2d86-4bce-8865-dbc1100dbf45",
   "metadata": {},
   "outputs": [],
   "source": [
    "private_wells = private_wells.merge(private_addresses, on = 'address')"
   ]
  },
  {
   "cell_type": "code",
   "execution_count": 41,
   "id": "8bcdc146-d32e-4789-a881-f0c8c4e87e85",
   "metadata": {},
   "outputs": [
    {
     "data": {
      "text/plain": [
       "(388, 6)"
      ]
     },
     "execution_count": 41,
     "metadata": {},
     "output_type": "execute_result"
    }
   ],
   "source": [
    "private_wells.shape"
   ]
  },
  {
   "cell_type": "markdown",
   "id": "a35df783-7377-4372-83a7-ca1d008dc717",
   "metadata": {},
   "source": [
    "Merge lat/lons to private well samples"
   ]
  },
  {
   "cell_type": "code",
   "execution_count": 42,
   "id": "28676ce6-bb7d-4100-8421-25b556a8878d",
   "metadata": {},
   "outputs": [],
   "source": [
    "comb_private_wells = pd.concat([private_wells, wt_wells_df], axis = 0)"
   ]
  },
  {
   "cell_type": "code",
   "execution_count": 43,
   "id": "bd960e2c-5d8f-4d09-bc9e-56a3264c13e1",
   "metadata": {},
   "outputs": [
    {
     "data": {
      "text/plain": [
       "(469, 6)"
      ]
     },
     "execution_count": 43,
     "metadata": {},
     "output_type": "execute_result"
    }
   ],
   "source": [
    "comb_private_wells.shape"
   ]
  },
  {
   "cell_type": "code",
   "execution_count": 44,
   "id": "1bb30fa9-0e21-4be5-996f-40f824088977",
   "metadata": {
    "tags": []
   },
   "outputs": [
    {
     "name": "stderr",
     "output_type": "stream",
     "text": [
      "<ipython-input-44-15d04ebec341>:1: SettingWithCopyWarning: \n",
      "A value is trying to be set on a copy of a slice from a DataFrame.\n",
      "Try using .loc[row_indexer,col_indexer] = value instead\n",
      "\n",
      "See the caveats in the documentation: https://pandas.pydata.org/pandas-docs/stable/user_guide/indexing.html#returning-a-view-versus-a-copy\n",
      "  private_well_df['sample_id'] = private_well_df['sample_id'].str.replace('PROPERTY ', '')\n",
      "<ipython-input-44-15d04ebec341>:2: SettingWithCopyWarning: \n",
      "A value is trying to be set on a copy of a slice from a DataFrame.\n",
      "Try using .loc[row_indexer,col_indexer] = value instead\n",
      "\n",
      "See the caveats in the documentation: https://pandas.pydata.org/pandas-docs/stable/user_guide/indexing.html#returning-a-view-versus-a-copy\n",
      "  private_well_df['sample_id'] = private_well_df['sample_id'].str.replace('PROPERTY-', '')\n"
     ]
    }
   ],
   "source": [
    "private_well_df['sample_id'] = private_well_df['sample_id'].str.replace('PROPERTY ', '')\n",
    "private_well_df['sample_id'] = private_well_df['sample_id'].str.replace('PROPERTY-', '')"
   ]
  },
  {
   "cell_type": "code",
   "execution_count": 45,
   "id": "76fe7daa-855d-45f6-a9c4-51667f99c2f0",
   "metadata": {},
   "outputs": [],
   "source": [
    "merged_private_well_df = private_well_df.merge(comb_private_wells, on = ['report', 'RTN', 'sample_id'])"
   ]
  },
  {
   "cell_type": "code",
   "execution_count": 46,
   "id": "dfbf2912-ea63-4167-ac76-1c5f96b808ae",
   "metadata": {},
   "outputs": [
    {
     "data": {
      "text/plain": [
       "(5294, 30)"
      ]
     },
     "execution_count": 46,
     "metadata": {},
     "output_type": "execute_result"
    }
   ],
   "source": [
    "merged_private_well_df.shape"
   ]
  },
  {
   "cell_type": "code",
   "execution_count": 48,
   "id": "02f5f17d-f49e-4e12-8344-2ccc7f149a5c",
   "metadata": {
    "tags": []
   },
   "outputs": [],
   "source": [
    "# Make sure it is in wide format\n",
    "private_well_df_wide = merged_private_well_df.pivot_table(index=['RTN', 'date_sampled_well', 'sample_id', 'lab' ,'Matrix' ,'lat', 'lon'], columns='Acronym', values='Result_val').reset_index()"
   ]
  },
  {
   "cell_type": "code",
   "execution_count": 49,
   "id": "bf6290d5-f30f-43f4-bb63-93f982161cad",
   "metadata": {},
   "outputs": [],
   "source": [
    "private_well_df_wide_imputed = imputation_utils.fill_na_with_mdl_rl(df = private_well_df_wide,\n",
    "                                                   pfas_vars = pfas_vars,\n",
    "                                                   rl_mdl_lookup = rl_mdl_lookup) "
   ]
  },
  {
   "cell_type": "code",
   "execution_count": 50,
   "id": "a73ab8a4-bfbc-46fb-a004-ed578b849072",
   "metadata": {},
   "outputs": [],
   "source": [
    "for col in private_well_df_wide_imputed.columns:\n",
    "    if col not in ['RTN', 'report', 'lab' ,'sample_id', 'Matrix' ,'date_sampled_ds', 'lat', 'lon']: # For each pfas\n",
    "        private_well_df_wide_imputed.rename(columns = {col : f'{col}_well'}, inplace = True)"
   ]
  },
  {
   "cell_type": "code",
   "execution_count": 51,
   "id": "951bd15e-5d45-4ffa-b5a4-729828068ca2",
   "metadata": {
    "tags": []
   },
   "outputs": [
    {
     "name": "stderr",
     "output_type": "stream",
     "text": [
      "C:\\Users\\dcher\\anaconda3\\lib\\site-packages\\pyproj\\crs\\crs.py:131: FutureWarning: '+init=<authority>:<code>' syntax is deprecated. '<authority>:<code>' is the preferred initialization method. When making the change, be mindful of axis order changes: https://pyproj4.github.io/pyproj/stable/gotchas.html#axis-order-changes-in-proj-6\n",
      "  in_crs_string = _prepare_from_proj_string(in_crs_string)\n"
     ]
    }
   ],
   "source": [
    "# turn into geodataframe\n",
    "private_well_gdf = gpd.GeoDataFrame(\n",
    "    private_well_df_wide_imputed,\n",
    "    geometry=gpd.points_from_xy(private_well_df_wide_imputed.lon, private_well_df_wide_imputed.lat),\n",
    "    crs={\"init\":\"EPSG:4326\"})"
   ]
  },
  {
   "cell_type": "code",
   "execution_count": 52,
   "id": "401e4312-f2ed-487e-8367-21137e467fc3",
   "metadata": {},
   "outputs": [
    {
     "data": {
      "text/plain": [
       "(456, 21)"
      ]
     },
     "execution_count": 52,
     "metadata": {},
     "output_type": "execute_result"
    }
   ],
   "source": [
    "private_well_gdf.shape"
   ]
  },
  {
   "cell_type": "code",
   "execution_count": 53,
   "id": "1bef2793-694f-4078-983b-aefb79aa0a19",
   "metadata": {},
   "outputs": [
    {
     "data": {
      "text/plain": [
       "Index(['RTN', 'date_sampled_well_well', 'sample_id', 'lab', 'Matrix', 'lat',\n",
       "       'lon', 'NEtFOSAA_well', 'PFBS_well', 'PFDA_well', 'PFDoA_well',\n",
       "       'PFHpA_well', 'PFHxA_well', 'PFHxS_well', 'PFNA_well', 'PFOA_well',\n",
       "       'PFOS_well', 'PFTA_well', 'PFTrDA_well', 'PFUnA_well', 'geometry'],\n",
       "      dtype='object', name='Acronym')"
      ]
     },
     "execution_count": 53,
     "metadata": {},
     "output_type": "execute_result"
    }
   ],
   "source": [
    "private_well_gdf.columns"
   ]
  },
  {
   "cell_type": "markdown",
   "id": "f1680e2d-22bc-436b-89d7-fdbd7d8fdad0",
   "metadata": {},
   "source": [
    "Write out all files to baseline folder"
   ]
  },
  {
   "cell_type": "code",
   "execution_count": 54,
   "id": "5f0c5266-c733-4408-9f3c-f23e3cf0b5f4",
   "metadata": {},
   "outputs": [],
   "source": [
    "private_well_gdf.to_file('../../data/modeling_data/well_exposure/base_samples/private_well_gdf.geojson', drive = 'GeoJSON')\n",
    "private_well_df_wide.to_csv('../../data/modeling_data/well_exposure/base_samples/private_well_df.csv')"
   ]
  }
 ],
 "metadata": {
  "kernelspec": {
   "display_name": "Python 3",
   "language": "python",
   "name": "python3"
  },
  "language_info": {
   "codemirror_mode": {
    "name": "ipython",
    "version": 3
   },
   "file_extension": ".py",
   "mimetype": "text/x-python",
   "name": "python",
   "nbconvert_exporter": "python",
   "pygments_lexer": "ipython3",
   "version": "3.8.8"
  }
 },
 "nbformat": 4,
 "nbformat_minor": 5
}
