{
 "cells": [
  {
   "cell_type": "markdown",
   "id": "b4bc23af-f205-4a21-98a5-411fd2a0ecda",
   "metadata": {},
   "source": [
    "## Create Source Attribution Modeling Datasets"
   ]
  },
  {
   "cell_type": "code",
   "execution_count": 5,
   "id": "09baf74d-78b8-41b4-8b86-36fa8ddd655d",
   "metadata": {},
   "outputs": [],
   "source": [
    "import pandas as pd\n",
    "import numpy as np\n",
    "import os\n",
    "import imputation_utils\n",
    "import general_utils\n",
    "import geopandas as gpd\n",
    "import rpy2.robjects as robjects"
   ]
  },
  {
   "cell_type": "code",
   "execution_count": null,
   "id": "b1955a43",
   "metadata": {},
   "outputs": [],
   "source": [
    "# Source data output location\n",
    "source_attribution_modeling_dataset_output_folder = '../../data/modeling_data/source_attribution'\n",
    "\n",
    "# Lookup table to impute missing RL/MDL values\n",
    "rl_mdl_file = ('../../data/Extracted lab report data/RL_MDL_lookup_table.csv')"
   ]
  },
  {
   "cell_type": "code",
   "execution_count": null,
   "id": "9b8956fe",
   "metadata": {},
   "outputs": [],
   "source": [
    "run constants.py"
   ]
  },
  {
   "cell_type": "markdown",
   "id": "81482c2d-747e-438b-b92b-641182d5acc0",
   "metadata": {},
   "source": [
    "Read in imputed data"
   ]
  },
  {
   "cell_type": "code",
   "execution_count": 2,
   "id": "019f945b-352d-49c7-b7c8-bb6eaa2a4376",
   "metadata": {},
   "outputs": [],
   "source": [
    "# Read in all imputed data\n",
    "path, dirs, files = next(os.walk(f\"{ros_folder}/imputed\"))\n",
    "\n",
    "imputed_data = pd.DataFrame()\n",
    "for file in files:\n",
    "    df = pd.read_csv(f'{ros_folder}/imputed/{file}')\n",
    "    imputed_data = pd.concat([imputed_data,df],axis=0)"
   ]
  },
  {
   "cell_type": "code",
   "execution_count": 3,
   "id": "a393a01b-30a2-458a-ac53-0ea04c9d148d",
   "metadata": {},
   "outputs": [
    {
     "data": {
      "text/plain": [
       "(14304, 26)"
      ]
     },
     "execution_count": 3,
     "metadata": {},
     "output_type": "execute_result"
    }
   ],
   "source": [
    "imputed_data.shape"
   ]
  },
  {
   "cell_type": "markdown",
   "id": "d145459c-dcaa-4c52-ac1a-08bf5d7dfa35",
   "metadata": {},
   "source": [
    "### Source Attribution Datasets"
   ]
  },
  {
   "cell_type": "code",
   "execution_count": 4,
   "id": "c4c69849-3170-4421-855f-3883fd7a9bce",
   "metadata": {},
   "outputs": [],
   "source": [
    "disposal_sites_info = pd.read_parquet(f'{disposal_sites_output}.csv')\n",
    "\n",
    "# Lookup table to impute missing RL/MDL values\n",
    "rl_mdl_lookup = pd.read_csv(rl_mdl_file)"
   ]
  },
  {
   "cell_type": "code",
   "execution_count": null,
   "id": "bec3466d",
   "metadata": {},
   "outputs": [],
   "source": [
    "df_pfas_vars = pd.read_csv(pfas_dict['file_location'])\n",
    "\n",
    "# Get list of pfas compounds\n",
    "pfas_vars = df_pfas_vars[df_pfas_vars[pfas_dict['pfas_filter_col']] == 1][pfas_dict['acronym_col']]"
   ]
  },
  {
   "cell_type": "markdown",
   "id": "71e3ed7c-887d-46a1-b735-42f49e5e7f12",
   "metadata": {},
   "source": [
    "Receptor Well data (response)"
   ]
  },
  {
   "cell_type": "markdown",
   "id": "fb206683",
   "metadata": {},
   "source": [
    "* The following code separates receptor from source in imputed data. The 'folder' column has unique values for source v. receptor - therefore we can separate using that measure. \n",
    "* Change as necessary in order to isolate receptor data "
   ]
  },
  {
   "cell_type": "code",
   "execution_count": 5,
   "id": "e4ffea7d-1160-49d3-bba4-a14021eaca96",
   "metadata": {},
   "outputs": [],
   "source": [
    "receptor_lab_reports = ['Raw Reports/Receptor Lab Reports/', \n",
    "                        'Disposal Site Private Well Lab Reports/2-0021075 - Stow - PFAS/',\n",
    "                        'Disposal Site Private Well Lab Reports/2-0021045 - Stow - MA Fire Academy/',\n",
    "                        'Disposal Site Private Well Lab Reports/2-0021072 - PRINCETON - PFAS/',\n",
    "                        'Disposal Site Private Well Lab Reports/2-0020923 - Hudson - 308 Chestnut PFAS/',\n",
    "                        'Disposal Site Private Well Lab Reports/2-0020439 - Hudson - Cranberry PWS/']\n",
    "\n",
    "receptor_df = imputed_data[(imputed_data['folder'].isin(receptor_lab_reports))]"
   ]
  },
  {
   "cell_type": "code",
   "execution_count": null,
   "id": "bafcd255",
   "metadata": {},
   "outputs": [],
   "source": [
    "receptor_df['Units'] = receptor_df['Units'].str.lower()"
   ]
  },
  {
   "cell_type": "code",
   "execution_count": 7,
   "id": "d6206fae-2074-4db1-b829-b25f9c80c481",
   "metadata": {},
   "outputs": [],
   "source": [
    "unique_vars = ['report', 'date_sampled', 'sample_id', 'lab', 'Matrix', 'Units']\n",
    "\n",
    "receptor_df_wide = receptor_df.pivot_table(index=unique_vars, columns='Acronym', values='Result').reset_index()"
   ]
  },
  {
   "cell_type": "code",
   "execution_count": 8,
   "id": "f92c4027-9f28-4e7d-8a99-4b7ac9a24c04",
   "metadata": {},
   "outputs": [],
   "source": [
    "receptor_df_wide = imputation_utils.fill_na_with_mdl_rl(df = receptor_df_wide,\n",
    "                                                   pfas_vars = pfas_vars,\n",
    "                                                   rl_mdl_lookup = rl_mdl_lookup) "
   ]
  },
  {
   "cell_type": "code",
   "execution_count": 11,
   "id": "f915184d-3954-4eeb-9561-df9f1feda96a",
   "metadata": {},
   "outputs": [],
   "source": [
    "receptor_df_wide.to_csv(f'{source_attribution_modeling_dataset_output_folder}/receptor_data.csv')"
   ]
  },
  {
   "cell_type": "markdown",
   "id": "43534a03-5499-4086-ae17-2398b131006c",
   "metadata": {},
   "source": [
    "AFFF"
   ]
  },
  {
   "cell_type": "code",
   "execution_count": 12,
   "id": "07ad9690-06f1-41e7-9b11-2489952be966",
   "metadata": {
    "tags": []
   },
   "outputs": [
    {
     "name": "stderr",
     "output_type": "stream",
     "text": [
      "<ipython-input-12-c00c225a735e>:7: SettingWithCopyWarning: \n",
      "A value is trying to be set on a copy of a slice from a DataFrame.\n",
      "Try using .loc[row_indexer,col_indexer] = value instead\n",
      "\n",
      "See the caveats in the documentation: https://pandas.pydata.org/pandas-docs/stable/user_guide/indexing.html#returning-a-view-versus-a-copy\n",
      "  afff_df['Units'] = afff_df['Units'].str.lower()\n"
     ]
    }
   ],
   "source": [
    "# Attach AFFF disposal source reports (extracting 'AFFF' source type RTNs) to AFFF data in separate extraction\n",
    "AFFF_RTNs = list(disposal_sites_info[disposal_sites_info['Source Type'].str.lower() == 'afff']['RTN'])\n",
    "\n",
    "afff_df = imputed_data[((imputed_data['RTN'].isin(AFFF_RTNs)) & (imputed_data['folder'] == 'Raw Reports/Source Lab Reports/')) \n",
    "                                       | (imputed_data['folder'] == 'AFFF Lab Reports/')]\n",
    "\n",
    "afff_df['Units'] = afff_df['Units'].str.lower()"
   ]
  },
  {
   "cell_type": "code",
   "execution_count": 13,
   "id": "29462372-d2fd-4f0d-8304-f399250c77fb",
   "metadata": {},
   "outputs": [
    {
     "data": {
      "text/plain": [
       "array(['ng/l', 'ng/g'], dtype=object)"
      ]
     },
     "execution_count": 13,
     "metadata": {},
     "output_type": "execute_result"
    }
   ],
   "source": [
    "afff_df['Units'].unique()"
   ]
  },
  {
   "cell_type": "code",
   "execution_count": 14,
   "id": "ebacc6af-f913-4e61-992e-8c4c42b34fe9",
   "metadata": {},
   "outputs": [],
   "source": [
    "unique_vars = ['report', 'date_sampled', 'sample_id', 'lab', 'Matrix', 'Units']\n",
    "\n",
    "afff_df_wide = afff_df.pivot_table(index=unique_vars, columns='Acronym', values='Result').reset_index()"
   ]
  },
  {
   "cell_type": "code",
   "execution_count": 15,
   "id": "269d4949-1d32-4133-b6aa-650d1237c749",
   "metadata": {},
   "outputs": [],
   "source": [
    "afff_df_wide = imputation_utils.fill_na_with_mdl_rl(df = afff_df_wide,\n",
    "                                                   pfas_vars = pfas_vars,\n",
    "                                                   rl_mdl_lookup = rl_mdl_lookup) "
   ]
  },
  {
   "cell_type": "code",
   "execution_count": 18,
   "id": "abf17890-8ab2-4d3a-8b3d-3f9924e10a5d",
   "metadata": {},
   "outputs": [],
   "source": [
    "afff_df_wide.to_csv(f'{source_attribution_modeling_dataset_output_folder}/afff_source.csv')"
   ]
  },
  {
   "cell_type": "markdown",
   "id": "4f17e629-6818-440b-bc4e-ad10aa01cf5f",
   "metadata": {},
   "source": [
    "Airport"
   ]
  },
  {
   "cell_type": "code",
   "execution_count": 19,
   "id": "282ccd7c-6076-47cc-a8a9-dfbe9bf6fc91",
   "metadata": {},
   "outputs": [
    {
     "name": "stderr",
     "output_type": "stream",
     "text": [
      "<ipython-input-19-55a057749f34>:6: SettingWithCopyWarning: \n",
      "A value is trying to be set on a copy of a slice from a DataFrame.\n",
      "Try using .loc[row_indexer,col_indexer] = value instead\n",
      "\n",
      "See the caveats in the documentation: https://pandas.pydata.org/pandas-docs/stable/user_guide/indexing.html#returning-a-view-versus-a-copy\n",
      "  airport_df['Units'] = airport_df['Units'].str.lower()\n"
     ]
    }
   ],
   "source": [
    "# Attach AFFF disposal source reports (extracting 'AFFF' source type RTNs) to AFFF data in separate extraction\n",
    "airport_RTNs = list(disposal_sites_info[disposal_sites_info['Source Type'].str.lower() == 'airport']['RTN'])\n",
    "\n",
    "airport_df = imputed_data[((imputed_data['RTN'].isin(airport_RTNs)) & (imputed_data['folder'] == 'Raw Reports/Source Lab Reports/'))]\n",
    "\n",
    "airport_df['Units'] = airport_df['Units'].str.lower()"
   ]
  },
  {
   "cell_type": "code",
   "execution_count": 20,
   "id": "27b5176d-861e-42c1-bf4c-104f17ada7e1",
   "metadata": {},
   "outputs": [
    {
     "data": {
      "text/plain": [
       "array(['ng/l'], dtype=object)"
      ]
     },
     "execution_count": 20,
     "metadata": {},
     "output_type": "execute_result"
    }
   ],
   "source": [
    "airport_df['Units'].unique()"
   ]
  },
  {
   "cell_type": "code",
   "execution_count": 21,
   "id": "29db9a61-4810-4872-ae87-33200a81529b",
   "metadata": {},
   "outputs": [],
   "source": [
    "unique_vars = ['report', 'date_sampled', 'sample_id', 'lab', 'Matrix', 'Units']\n",
    "\n",
    "airport_df_wide = airport_df.pivot_table(index=unique_vars, columns='Acronym', values='Result').reset_index()"
   ]
  },
  {
   "cell_type": "code",
   "execution_count": 22,
   "id": "10434fbe-5003-4c59-9fc8-9f64676b2140",
   "metadata": {},
   "outputs": [],
   "source": [
    "airport_df_wide = imputation_utils.fill_na_with_mdl_rl(df = airport_df_wide,\n",
    "                                                   pfas_vars = pfas_vars,\n",
    "                                                   rl_mdl_lookup = rl_mdl_lookup) "
   ]
  },
  {
   "cell_type": "code",
   "execution_count": 23,
   "id": "70b45738-f6ce-42b0-b94e-39caf534f56a",
   "metadata": {},
   "outputs": [
    {
     "data": {
      "text/plain": [
       "Acronym\n",
       "report          0\n",
       "date_sampled    0\n",
       "sample_id       0\n",
       "lab             0\n",
       "Matrix          0\n",
       "Units           0\n",
       "PFBS            0\n",
       "PFDA            0\n",
       "PFHpA           0\n",
       "PFHxA           0\n",
       "PFHxS           0\n",
       "PFNA            0\n",
       "PFOA            0\n",
       "PFOS            0\n",
       "PFUnA           0\n",
       "dtype: int64"
      ]
     },
     "execution_count": 23,
     "metadata": {},
     "output_type": "execute_result"
    }
   ],
   "source": [
    "airport_df_wide.isna().sum()"
   ]
  },
  {
   "cell_type": "code",
   "execution_count": 24,
   "id": "11b10118-a260-4aa9-8eab-48faeba940d5",
   "metadata": {},
   "outputs": [
    {
     "data": {
      "text/plain": [
       "(65, 15)"
      ]
     },
     "execution_count": 24,
     "metadata": {},
     "output_type": "execute_result"
    }
   ],
   "source": [
    "airport_df_wide.shape"
   ]
  },
  {
   "cell_type": "code",
   "execution_count": 25,
   "id": "63bebc00-e7d7-4969-9795-4bbdae124821",
   "metadata": {},
   "outputs": [],
   "source": [
    "airport_df_wide.to_csv(f'{source_attribution_modeling_dataset_output_folder}/airport_source.csv')"
   ]
  },
  {
   "cell_type": "markdown",
   "id": "80c28b51-9cdf-4779-b1c7-e06a460e0798",
   "metadata": {},
   "source": [
    "Other"
   ]
  },
  {
   "cell_type": "code",
   "execution_count": 26,
   "id": "98a3fa15-4333-4c29-879b-a4cc5e7311a4",
   "metadata": {},
   "outputs": [
    {
     "name": "stderr",
     "output_type": "stream",
     "text": [
      "<ipython-input-26-a63ab35202f2>:6: SettingWithCopyWarning: \n",
      "A value is trying to be set on a copy of a slice from a DataFrame.\n",
      "Try using .loc[row_indexer,col_indexer] = value instead\n",
      "\n",
      "See the caveats in the documentation: https://pandas.pydata.org/pandas-docs/stable/user_guide/indexing.html#returning-a-view-versus-a-copy\n",
      "  other_df['Units'] = other_df['Units'].str.lower()\n"
     ]
    }
   ],
   "source": [
    "# Attach AFFF disposal source reports (extracting 'AFFF' source type RTNs) to AFFF data in separate extraction\n",
    "other_RTNs = list(disposal_sites_info[disposal_sites_info['Source Type'].str.lower() == 'other']['RTN'])\n",
    "\n",
    "other_df = imputed_data[((imputed_data['RTN'].isin(other_RTNs)) & (imputed_data['folder'] == 'Raw Reports/Source Lab Reports/'))]\n",
    "\n",
    "other_df['Units'] = other_df['Units'].str.lower()"
   ]
  },
  {
   "cell_type": "code",
   "execution_count": 27,
   "id": "9d027283-931f-4114-a859-5e12999e6d3d",
   "metadata": {},
   "outputs": [],
   "source": [
    "unique_vars = ['report', 'date_sampled', 'sample_id', 'lab', 'Matrix', 'Units']\n",
    "\n",
    "other_df_wide = other_df.pivot_table(index=unique_vars, columns='Acronym', values='Result').reset_index()"
   ]
  },
  {
   "cell_type": "code",
   "execution_count": 28,
   "id": "948d6c51-44b8-49e8-a9a1-a081a654650a",
   "metadata": {},
   "outputs": [
    {
     "data": {
      "text/plain": [
       "array(['ng/g', 'ng/l'], dtype=object)"
      ]
     },
     "execution_count": 28,
     "metadata": {},
     "output_type": "execute_result"
    }
   ],
   "source": [
    "other_df['Units'].unique()"
   ]
  },
  {
   "cell_type": "code",
   "execution_count": 29,
   "id": "e09053fa-9394-48a1-801c-a45adfeb4ae0",
   "metadata": {},
   "outputs": [],
   "source": [
    "other_df_wide = imputation_utils.fill_na_with_mdl_rl(df = other_df_wide,\n",
    "                                                   pfas_vars = pfas_vars,\n",
    "                                                   rl_mdl_lookup = rl_mdl_lookup) "
   ]
  },
  {
   "cell_type": "code",
   "execution_count": 30,
   "id": "399a7db6-de02-4341-acc5-d02cbfd6ec23",
   "metadata": {},
   "outputs": [
    {
     "data": {
      "text/plain": [
       "Acronym\n",
       "report          0\n",
       "date_sampled    0\n",
       "sample_id       0\n",
       "lab             0\n",
       "Matrix          0\n",
       "Units           0\n",
       "NEtFOSAA        0\n",
       "PFBS            0\n",
       "PFDA            0\n",
       "PFDoA           0\n",
       "PFHpA           0\n",
       "PFHxA           0\n",
       "PFHxS           0\n",
       "PFNA            0\n",
       "PFOA            0\n",
       "PFOS            0\n",
       "PFTA            0\n",
       "PFTrDA          0\n",
       "PFUnA           0\n",
       "dtype: int64"
      ]
     },
     "execution_count": 30,
     "metadata": {},
     "output_type": "execute_result"
    }
   ],
   "source": [
    "other_df_wide.isna().sum()"
   ]
  },
  {
   "cell_type": "code",
   "execution_count": 31,
   "id": "023d99a5-5f53-4ec7-8a7d-8f3827781f1c",
   "metadata": {},
   "outputs": [
    {
     "data": {
      "text/plain": [
       "(190, 19)"
      ]
     },
     "execution_count": 31,
     "metadata": {},
     "output_type": "execute_result"
    }
   ],
   "source": [
    "other_df_wide.shape"
   ]
  },
  {
   "cell_type": "code",
   "execution_count": 32,
   "id": "566748f5-8fe9-44f2-9742-95139c4af346",
   "metadata": {},
   "outputs": [],
   "source": [
    "other_df_wide.to_csv(f'{source_attribution_modeling_dataset_output_folder}/other_source.csv')"
   ]
  }
 ],
 "metadata": {
  "kernelspec": {
   "display_name": "Python 3",
   "language": "python",
   "name": "python3"
  },
  "language_info": {
   "codemirror_mode": {
    "name": "ipython",
    "version": 3
   },
   "file_extension": ".py",
   "mimetype": "text/x-python",
   "name": "python",
   "nbconvert_exporter": "python",
   "pygments_lexer": "ipython3",
   "version": "3.8.8"
  }
 },
 "nbformat": 4,
 "nbformat_minor": 5
}
