{
 "cells": [
  {
   "cell_type": "code",
   "execution_count": 23,
   "id": "6a3cdfa0-6d65-4102-aa28-b9ab812e33f1",
   "metadata": {},
   "outputs": [],
   "source": [
    "import pandas as pd\n",
    "import numpy as np\n",
    "import utils\n",
    "import matplotlib.pyplot as plt\n",
    "import seaborn as sns\n",
    "import geopandas as gpd\n",
    "import pickle as pk\n",
    "from sklearn.utils import resample\n",
    "from sklearn.linear_model import LinearRegression, PoissonRegressor\n",
    "from sklearn.metrics import mean_squared_error\n",
    "import statsmodels.api as sm\n",
    "from scipy import stats\n",
    "import numpy as np, scipy.stats as st\n",
    "from sklearn.decomposition import PCA\n",
    "import copy\n",
    "import warnings\n",
    "warnings.filterwarnings('ignore')"
   ]
  },
  {
   "cell_type": "markdown",
   "id": "e4645a1b-4611-4fd1-becf-36d7079a835f",
   "metadata": {},
   "source": [
    "## Import Data"
   ]
  },
  {
   "cell_type": "code",
   "execution_count": 24,
   "id": "e425a9c0-6142-4508-ab68-e8fea6594716",
   "metadata": {},
   "outputs": [],
   "source": [
    "receptor_df = pd.read_csv('../../../data/modeling_data/source_attribution/receptor_data.csv')"
   ]
  },
  {
   "cell_type": "code",
   "execution_count": 25,
   "id": "82d51014-d41e-4c4c-9a93-7ce08d2bd848",
   "metadata": {},
   "outputs": [],
   "source": [
    "orig_df = receptor_df.copy()"
   ]
  },
  {
   "cell_type": "code",
   "execution_count": 26,
   "id": "198d1166-9d99-4584-9321-ab81f2716412",
   "metadata": {},
   "outputs": [],
   "source": [
    "# Wastewater also contains extra compounds that are not a part of the PFAS18 collection (PFDS, PFPeA, PFTeDA, PFPeS, PFNS, PFHpS)\n",
    "# Remove these variables based on PFAS_18 compounds list\n",
    "\n",
    "pfas18 = pd.read_csv('../../../data/Extracted lab report data/PFAS_compounds.csv')[['Acronym','PFAS18']]\n",
    "pfas18 = pfas18[~(pfas18['PFAS18'].isna())]['Acronym']"
   ]
  },
  {
   "cell_type": "code",
   "execution_count": 27,
   "id": "76ca8781-755c-4d6c-bbf5-e4f2f58605d5",
   "metadata": {},
   "outputs": [],
   "source": [
    "pfas_vars = utils.get_pfas_vars(df = receptor_df,\n",
    "                                pfas18 = pfas18)"
   ]
  },
  {
   "cell_type": "markdown",
   "id": "fc493ba4-a4da-4f49-b2e2-230e9ad70e7e",
   "metadata": {},
   "source": [
    "## Explorator Data Analysis (EDA)\n",
    "* We can see what the general profile looks like of the receptor well data"
   ]
  },
  {
   "cell_type": "code",
   "execution_count": 28,
   "id": "2b031052-9cad-44da-b9d7-48cf527e9d11",
   "metadata": {
    "tags": []
   },
   "outputs": [],
   "source": [
    "# Normalize from 0 to 1 for display purposes (e.g., EDA) only. The actual data will be z-score normalized (standardized) before PCA and HC.\n",
    "receptor_df_eda = utils.normalize_over_partitions(df = receptor_df, \n",
    "                                              pfas_vars = pfas_vars,\n",
    "                                              units_col = 'Matrix',\n",
    "                                              scaler_fn = 'MinMax')"
   ]
  },
  {
   "cell_type": "code",
   "execution_count": 29,
   "id": "7b55c6d2-13c5-4966-8f23-901ddfb46dec",
   "metadata": {},
   "outputs": [
    {
     "data": {
      "image/png": "[encoded data removed]",
      "text/plain": [
       "<Figure size 1600x480 with 1 Axes>"
      ]
     },
     "metadata": {
      "needs_background": "light"
     },
     "output_type": "display_data"
    }
   ],
   "source": [
    "plt.figure(figsize=(20, 6), dpi=80)\n",
    "plt.title('receptor PFAS Profile')\n",
    "\n",
    "# pd.melt(receptor_df_eda[pfas_vars])\n",
    "sns.boxplot(x=\"variable\", y=\"value\", data=pd.melt(receptor_df_eda[pfas_vars]), showfliers = False)\n",
    "plt.xlabel('PFAS Type')\n",
    "plt.ylabel('Normalized Concentration')\n",
    "plt.show()"
   ]
  },
  {
   "cell_type": "markdown",
   "id": "0d19fb22-f27e-48cc-be2f-6627b27c76b6",
   "metadata": {},
   "source": [
    "# Attribution Model"
   ]
  },
  {
   "cell_type": "markdown",
   "id": "0fe6dc72-94ed-413d-807e-f24d22c74211",
   "metadata": {},
   "source": [
    "### Direct PCA Profile Method\n",
    "* Advantages of this approach are that we are directly using the profile that we developed from the source data. Rather than interpolating the receptor well principal components. Makes for a 'truer' profile."
   ]
  },
  {
   "cell_type": "markdown",
   "id": "66333498-ec45-425f-be5b-1df94daa14ba",
   "metadata": {},
   "source": [
    "1) Run PCA & HC on receptor well information \n",
    "\n",
    "2) For each source: \n",
    "\n",
    "    * Use source PCA model, and transform receptor well data \n",
    "\n",
    "    * Use number of PCs found in source modeling --> Keep that amount PCs in transformed data. \n",
    "\n",
    "3) Create Poisson Regression models to predict PFAS amounts for each compound \n",
    "\n",
    "    * Predictors: Principal components, other relevant characteristics (if wanted) \n",
    "\n",
    "    * Response: Each PFAS compound (PFOS, PFOA etc...) \n",
    "\n",
    "4) Measure attribution of each principal component (source) by using relative measures of predicted PFAS amounts. \n",
    "\n",
    "    * Ex: Let's say there are only two relevant components. PFAS due to PC1 beta = 35 ng/l (across the state). PFAS due to PC2 beta = 65 ng/l (across the state) --> PC1 attribution = 35%, PC2 attribution = 65% "
   ]
  },
  {
   "cell_type": "markdown",
   "id": "ccf4f65c-6a4f-4806-8173-187c3f5f0d47",
   "metadata": {},
   "source": [
    "### Transform using Profiles"
   ]
  },
  {
   "cell_type": "code",
   "execution_count": 30,
   "id": "11fc5256-02c5-4756-892d-cfb5d898c329",
   "metadata": {},
   "outputs": [],
   "source": [
    "num_pcs_dict = {'AFFF' : 3,\n",
    "           'airport' : 2,\n",
    "           'other' : 3,\n",
    "           'residential' : 3}\n",
    "\n",
    "other_PC_profiles_names = {'PC1' : 'Industrial Manufacturing Mix', \n",
    "                           'PC2' : 'Waste/Landfills', \n",
    "                           'PC3':'Other (Coatings/Inks and other)'}"
   ]
  },
  {
   "cell_type": "markdown",
   "id": "db07b1f9-0685-4a70-a48c-2179ce1ac686",
   "metadata": {},
   "source": [
    "Standardize receptor data"
   ]
  },
  {
   "cell_type": "code",
   "execution_count": 31,
   "id": "db637f04-1cb7-42e0-839d-cc368c02eadb",
   "metadata": {},
   "outputs": [],
   "source": [
    "receptor_df_pca = copy.deepcopy(receptor_df)\n",
    "receptor_df_pca = utils.normalize_over_partitions(df = receptor_df_pca, \n",
    "                                          pfas_vars = pfas_vars,\n",
    "                                          units_col = 'Matrix',\n",
    "                                          scaler_fn = 'Zscore')\n",
    "input_df = receptor_df_pca[pfas_vars].copy()"
   ]
  },
  {
   "cell_type": "markdown",
   "id": "7549b428-1f20-4e0e-abe0-2a694781c75c",
   "metadata": {},
   "source": [
    "AFFF"
   ]
  },
  {
   "cell_type": "code",
   "execution_count": 32,
   "id": "99f90418-d94a-4e47-ab58-8c7fd2b6c8dd",
   "metadata": {},
   "outputs": [],
   "source": [
    "# Create AFFF transformation based on number of principal components\n",
    "afff_df = pd.read_csv('../../../data/modeling_data/source_attribution/afff_source.csv')\n",
    "\n",
    "afff_APCS_df = utils.APCS_pipeline(source_df = afff_df,\n",
    "                                   receptor_df = receptor_df,\n",
    "                                   receptor_df_pca = input_df,\n",
    "                                   pfas_vars = pfas_vars,\n",
    "                                   source_name = 'AFFF',\n",
    "                                   units_col = 'Matrix',\n",
    "                                   num_pcs = num_pcs_dict)"
   ]
  },
  {
   "cell_type": "markdown",
   "id": "51e3a384-7bb0-4ded-a008-d50b627cd244",
   "metadata": {},
   "source": [
    "Airport"
   ]
  },
  {
   "cell_type": "code",
   "execution_count": 33,
   "id": "1962ff40-ee3f-4337-9ead-e55f948f6b1b",
   "metadata": {},
   "outputs": [],
   "source": [
    "# Create airport transformation based on number of principal components\n",
    "airport_df = pd.read_csv('../../../data/modeling_data/source_attribution/airport_source.csv')\n",
    "\n",
    "airport_APCS_df = utils.APCS_pipeline(source_df = airport_df,\n",
    "                                   receptor_df = receptor_df,\n",
    "                                   receptor_df_pca = input_df,\n",
    "                                   pfas_vars = pfas_vars,\n",
    "                                   source_name = 'airport',\n",
    "                                   units_col = 'Units',\n",
    "                                   num_pcs = num_pcs_dict)"
   ]
  },
  {
   "cell_type": "markdown",
   "id": "063d328a-48fa-48d7-944f-17127337c7f4",
   "metadata": {},
   "source": [
    "Other"
   ]
  },
  {
   "cell_type": "code",
   "execution_count": 34,
   "id": "3fa49da0-f1c5-4fc2-9257-193b89819f8b",
   "metadata": {},
   "outputs": [],
   "source": [
    "# Create other transformation based on number of principal components\n",
    "other_df = pd.read_csv('../../../data/modeling_data/source_attribution/other_source.csv')\n",
    "\n",
    "other_APCS_df = utils.APCS_pipeline(source_df = other_df,\n",
    "                                   receptor_df = receptor_df,\n",
    "                                   receptor_df_pca = input_df,\n",
    "                                   pfas_vars = pfas_vars,\n",
    "                                   source_name = 'other',\n",
    "                                   units_col = 'Units',\n",
    "                                   num_pcs = num_pcs_dict)"
   ]
  },
  {
   "cell_type": "markdown",
   "id": "928d1528-7326-48cd-a8de-014a0c54d8dd",
   "metadata": {},
   "source": [
    "Residential"
   ]
  },
  {
   "cell_type": "code",
   "execution_count": 35,
   "id": "df4521b6-75ec-4209-8bd3-161dbda002f4",
   "metadata": {},
   "outputs": [],
   "source": [
    "# Create residential transformation based on number of principal components\n",
    "residential_df = pd.read_csv('../../../data/modeling_data/source_attribution/residential_source.csv')\n",
    "\n",
    "residential_APCS_df = utils.APCS_pipeline(source_df = residential_df,\n",
    "                                   receptor_df = receptor_df,\n",
    "                                   receptor_df_pca = input_df,\n",
    "                                   pfas_vars = pfas_vars,\n",
    "                                   source_name = 'residential',\n",
    "                                   units_col = 'Units',\n",
    "                                   num_pcs = num_pcs_dict)"
   ]
  },
  {
   "cell_type": "markdown",
   "id": "ddcd29d1-90a7-49ba-aa74-bf92f5706217",
   "metadata": {},
   "source": [
    "Create modeling dataset"
   ]
  },
  {
   "cell_type": "code",
   "execution_count": 36,
   "id": "594424e0-06dd-4d20-9ae4-2861dd71c9b7",
   "metadata": {},
   "outputs": [],
   "source": [
    "sources = num_pcs_dict.keys()\n",
    "concat_df = pd.concat([afff_APCS_df, airport_APCS_df, residential_APCS_df, other_APCS_df], axis = 1)\n",
    "predictor_list = concat_df.columns\n",
    "concat_df[pfas_vars] = receptor_df[pfas_vars]"
   ]
  },
  {
   "cell_type": "markdown",
   "id": "afb05984-fae7-4159-aa3e-d7e0627439e5",
   "metadata": {},
   "source": [
    "### Attribution Modeling"
   ]
  },
  {
   "cell_type": "markdown",
   "id": "ac3656f8-b82b-4d7d-bee4-121f3d3f879a",
   "metadata": {},
   "source": [
    "Check for highly correlated variables"
   ]
  },
  {
   "cell_type": "code",
   "execution_count": 37,
   "id": "c5d4a99c-fddd-4076-a528-21eb586990ca",
   "metadata": {},
   "outputs": [
    {
     "name": "stdout",
     "output_type": "stream",
     "text": [
      "Top Absolute Correlations\n"
     ]
    },
    {
     "data": {
      "text/html": [
       "<div>\n",
       "<style scoped>\n",
       "    .dataframe tbody tr th:only-of-type {\n",
       "        vertical-align: middle;\n",
       "    }\n",
       "\n",
       "    .dataframe tbody tr th {\n",
       "        vertical-align: top;\n",
       "    }\n",
       "\n",
       "    .dataframe thead th {\n",
       "        text-align: right;\n",
       "    }\n",
       "</style>\n",
       "<table border=\"1\" class=\"dataframe\">\n",
       "  <thead>\n",
       "    <tr style=\"text-align: right;\">\n",
       "      <th></th>\n",
       "      <th>level_0</th>\n",
       "      <th>level_1</th>\n",
       "      <th>0</th>\n",
       "    </tr>\n",
       "  </thead>\n",
       "  <tbody>\n",
       "    <tr>\n",
       "      <th>0</th>\n",
       "      <td>AFFF_1</td>\n",
       "      <td>other_1</td>\n",
       "      <td>0.970388</td>\n",
       "    </tr>\n",
       "    <tr>\n",
       "      <th>1</th>\n",
       "      <td>airport_0</td>\n",
       "      <td>residential_0</td>\n",
       "      <td>0.907751</td>\n",
       "    </tr>\n",
       "  </tbody>\n",
       "</table>\n",
       "</div>"
      ],
      "text/plain": [
       "     level_0        level_1         0\n",
       "0     AFFF_1        other_1  0.970388\n",
       "1  airport_0  residential_0  0.907751"
      ]
     },
     "execution_count": 37,
     "metadata": {},
     "output_type": "execute_result"
    }
   ],
   "source": [
    "print('Top Absolute Correlations')\n",
    "utils.get_top_abs_correlations(concat_df[predictor_list],\n",
    "                        corr_cutoff = 0.9)"
   ]
  },
  {
   "cell_type": "markdown",
   "id": "7eae67e9-5184-4edd-9387-5fcb176ad81d",
   "metadata": {},
   "source": [
    "Since airport_0 is most highly correlated with airport_0 -- if removed from model, then airport_0 will share contribution with residential_0. Since, airport_0 is not too highly correlated with AFFF_0 - no additional change beyond this is needed"
   ]
  },
  {
   "cell_type": "code",
   "execution_count": 38,
   "id": "506976e1-78da-45ad-a1ef-78f6fc733ce3",
   "metadata": {},
   "outputs": [],
   "source": [
    "# Manual entry\n",
    "removed_vars = {'AFFF_1' : ['other_1'],\n",
    "                'residential_0' : ['airport_0']}"
   ]
  },
  {
   "cell_type": "code",
   "execution_count": 39,
   "id": "cd9401a3-c35c-423c-b349-e0765bb6f2ba",
   "metadata": {},
   "outputs": [],
   "source": [
    "for var, remove_list in removed_vars.items():\n",
    "    concat_df.drop(columns = remove_list, inplace = True)\n",
    "    \n",
    "predictor_list = concat_df.columns"
   ]
  },
  {
   "cell_type": "markdown",
   "id": "766873d9-9766-472b-9450-dcfabd37d9f6",
   "metadata": {},
   "source": [
    "Fit model"
   ]
  },
  {
   "cell_type": "code",
   "execution_count": 40,
   "id": "0958a174-11df-4d94-b922-638fbb03466f",
   "metadata": {
    "tags": []
   },
   "outputs": [],
   "source": [
    "# bootstrap 10 times to get confidence interval\n",
    "n_iterations = 50\n",
    "model2_info = utils.fit_model(concat_df, predictor_list, pfas_vars, n_iterations)"
   ]
  },
  {
   "cell_type": "markdown",
   "id": "65a6202b-5688-4831-aa82-f8abf97fddb6",
   "metadata": {},
   "source": [
    "Calculate confidence intervals"
   ]
  },
  {
   "cell_type": "code",
   "execution_count": 41,
   "id": "4cdc6a25-a271-4c92-89b8-98a5411eb322",
   "metadata": {},
   "outputs": [
    {
     "name": "stdout",
     "output_type": "stream",
     "text": [
      "AFFF attribution 95% CI: [ 50.11 , 50.79 ] %\n",
      "airport attribution 95% CI: [ 2.78 , 2.97 ] %\n",
      "Industrial Manufacturing Mix attribution 95% CI: [ 0.84 , 1.11 ] %\n",
      "Waste/Landfills attribution 95% CI: [ 35.9 , 36.1 ] %\n",
      "Other (Coatings/Inks and other) attribution 95% CI: [ 0.48 , 0.56 ] %\n",
      "residential attribution 95% CI: [ 8.94 , 9.42 ] %\n"
     ]
    }
   ],
   "source": [
    "source_names, means, yerror = utils.calc_contribution_confidence_intervals(concat_df, model2_info, pfas_vars, sources, n_iterations, removed_vars, num_pcs_dict, other_PC_profiles_names)"
   ]
  },
  {
   "cell_type": "code",
   "execution_count": 42,
   "id": "0c282547-5a9d-42e4-afa4-d95c84a9ab04",
   "metadata": {
    "tags": []
   },
   "outputs": [
    {
     "data": {
      "text/plain": [
       "([<matplotlib.axis.XTick at 0x12c71d47370>,\n",
       "  <matplotlib.axis.XTick at 0x12c71d475b0>,\n",
       "  <matplotlib.axis.XTick at 0x12c71d22fa0>,\n",
       "  <matplotlib.axis.XTick at 0x12c6cd3bc10>,\n",
       "  <matplotlib.axis.XTick at 0x12c6cdaf190>,\n",
       "  <matplotlib.axis.XTick at 0x12c6cdaf6a0>],\n",
       " [Text(0, 0, 'AFFF'),\n",
       "  Text(1, 0, 'airport'),\n",
       "  Text(2, 0, 'Industrial Manufacturing Mix'),\n",
       "  Text(3, 0, 'Waste/Landfills'),\n",
       "  Text(4, 0, 'Other (Coatings/Inks and other)'),\n",
       "  Text(5, 0, 'residential')])"
      ]
     },
     "execution_count": 42,
     "metadata": {},
     "output_type": "execute_result"
    },
    {
     "data": {
      "image/png": "[encoded data removed]",
      "text/plain": [
       "<Figure size 1200x800 with 1 Axes>"
      ]
     },
     "metadata": {
      "needs_background": "light"
     },
     "output_type": "display_data"
    }
   ],
   "source": [
    "x = source_names\n",
    "y = means\n",
    "\n",
    "plt.figure(figsize=(15, 10), dpi=80)\n",
    "plt.title('Confidence Intervals for Source Attribution', fontsize = 20)\n",
    "\n",
    "plt.xlabel('Source Type', fontsize = 14)\n",
    "plt.ylabel('Attribution (%)', fontsize = 14)\n",
    "\n",
    "plt.errorbar(range(len(x)),y,yerr = yerror, fmt = 'o', ecolor = 'black', capsize = 5, ms = 5)\n",
    "plt.xticks(range(len(x)), x,fontsize = 12)"
   ]
  },
  {
   "cell_type": "code",
   "execution_count": 43,
   "id": "608a9022-8c4e-482a-ae04-78658b0cbe5b",
   "metadata": {},
   "outputs": [
    {
     "data": {
      "text/plain": [
       "{'PFBS': (72.55, 3.75),\n",
       " 'PFDA': (84.03, 2.18),\n",
       " 'PFDoA': (55.21, 1.27),\n",
       " 'PFHpA': (86.17, 1.51),\n",
       " 'PFHxA': (82.29, 1.8),\n",
       " 'PFHxS': (80.5, 2.82),\n",
       " 'PFNA': (85.93, 1.8),\n",
       " 'PFOA': (87.81, 1.04),\n",
       " 'PFOS': (80.62, 1.97),\n",
       " 'PFTA': (51.68, 1.53),\n",
       " 'PFTrDA': (69.44, 11.12),\n",
       " 'PFUnA': (53.58, 1.12)}"
      ]
     },
     "execution_count": 43,
     "metadata": {},
     "output_type": "execute_result"
    }
   ],
   "source": [
    "# (Average variance explained by model, standard deviation)\n",
    "utils.calculate_average_model_score(model2_info, n_iterations, sources, pfas_vars)"
   ]
  }
 ],
 "metadata": {
  "kernelspec": {
   "display_name": "Python 3",
   "language": "python",
   "name": "python3"
  },
  "language_info": {
   "codemirror_mode": {
    "name": "ipython",
    "version": 3
   },
   "file_extension": ".py",
   "mimetype": "text/x-python",
   "name": "python",
   "nbconvert_exporter": "python",
   "pygments_lexer": "ipython3",
   "version": "3.8.8"
  }
 },
 "nbformat": 4,
 "nbformat_minor": 5
}
