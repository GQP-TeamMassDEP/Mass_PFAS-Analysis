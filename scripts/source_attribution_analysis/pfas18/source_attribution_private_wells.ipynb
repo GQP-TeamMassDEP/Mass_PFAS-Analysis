{
 "cells": [
  {
   "cell_type": "code",
   "execution_count": 1,
   "id": "6a3cdfa0-6d65-4102-aa28-b9ab812e33f1",
   "metadata": {},
   "outputs": [],
   "source": [
    "import pandas as pd\n",
    "import numpy as np\n",
    "import utils\n",
    "import matplotlib.pyplot as plt\n",
    "import seaborn as sns\n",
    "import geopandas as gpd\n",
    "import pickle as pk\n",
    "from sklearn.utils import resample\n",
    "from sklearn.linear_model import LinearRegression, PoissonRegressor\n",
    "from sklearn.metrics import mean_squared_error\n",
    "import statsmodels.api as sm\n",
    "from scipy import stats\n",
    "import numpy as np, scipy.stats as st\n",
    "from sklearn.decomposition import PCA\n",
    "import copy\n",
    "import warnings\n",
    "warnings.filterwarnings('ignore')"
   ]
  },
  {
   "cell_type": "markdown",
   "id": "d074276c-64f1-4e1f-862d-31c2cc87c7f6",
   "metadata": {},
   "source": [
    "## Do this same analysis (Method 2) on the UMass Private Well Dataset"
   ]
  },
  {
   "cell_type": "code",
   "execution_count": 2,
   "id": "54633db4-c54d-41e6-ac0d-02ac9c2ef8de",
   "metadata": {},
   "outputs": [],
   "source": [
    "receptor_df = pd.read_csv('../../../data/modeling_data/private_well_holdout.csv')"
   ]
  },
  {
   "cell_type": "code",
   "execution_count": 3,
   "id": "712d4aaf-2abe-426a-b325-ae138cab3fe6",
   "metadata": {},
   "outputs": [],
   "source": [
    "orig_df = receptor_df.copy()"
   ]
  },
  {
   "cell_type": "code",
   "execution_count": 4,
   "id": "5ef32452-1b94-48c8-8f6c-8c1d66709a9f",
   "metadata": {},
   "outputs": [],
   "source": [
    "# Wastewater also contains extra compounds that are not a part of the PFAS18 collection (PFDS, PFPeA, PFTeDA, PFPeS, PFNS, PFHpS)\n",
    "# Remove these variables based on PFAS_18 compounds list\n",
    "\n",
    "pfas18 = pd.read_csv('../../../data/Extracted lab report data/PFAS_compounds.csv')[['Acronym','PFAS18']]\n",
    "pfas18 = pfas18[~(pfas18['PFAS18'].isna())]['Acronym']"
   ]
  },
  {
   "cell_type": "code",
   "execution_count": 5,
   "id": "075a7829-b14b-471b-9a87-ac5f23a977f1",
   "metadata": {},
   "outputs": [],
   "source": [
    "pfas_vars = utils.get_pfas_vars(df = receptor_df,\n",
    "                                pfas18 = pfas18)"
   ]
  },
  {
   "cell_type": "markdown",
   "id": "79a401dd-b022-410a-ada9-dd334a5179b1",
   "metadata": {},
   "source": [
    "Normalize from 0 to 1 for display purposes (e.g., EDA) only. The actual data will be z-score normalized\n",
    "(standardized) before PCA and HC."
   ]
  },
  {
   "cell_type": "code",
   "execution_count": 6,
   "id": "966835aa-de33-486e-aaae-e61f4f92e574",
   "metadata": {
    "tags": []
   },
   "outputs": [],
   "source": [
    "# receptor_df = receptor_df_final.copy()\n",
    "receptor_df_eda = utils.normalize_over_partitions(df = receptor_df, \n",
    "                                              pfas_vars = pfas_vars,\n",
    "                                              units_col = 'Matrix',\n",
    "                                              scaler_fn = 'MinMax')"
   ]
  },
  {
   "cell_type": "code",
   "execution_count": 7,
   "id": "b510a891-2225-4226-9597-109c5863315e",
   "metadata": {},
   "outputs": [
    {
     "data": {
      "text/plain": [
       "Index(['Unnamed: 0', 'GEOID10', 'sample_id', 'Matrix', 'Units', 'NEtFOSAA',\n",
       "       'NMeFOSAA', 'PFBS', 'PFDA', 'PFHpA', 'PFHxA', 'PFHxS', 'PFNA', 'PFOA',\n",
       "       'PFOS', 'lab'],\n",
       "      dtype='object')"
      ]
     },
     "execution_count": 7,
     "metadata": {},
     "output_type": "execute_result"
    }
   ],
   "source": [
    "receptor_df_eda.columns"
   ]
  },
  {
   "cell_type": "markdown",
   "id": "5c045fa6-d4bd-44aa-97e7-3bd358a61b76",
   "metadata": {},
   "source": [
    "## Visualize Profile"
   ]
  },
  {
   "cell_type": "code",
   "execution_count": 8,
   "id": "c8ddaead-297b-489d-ae6a-8d5060cb698c",
   "metadata": {},
   "outputs": [
    {
     "data": {
      "image/png": "[encoded data removed]",
      "text/plain": [
       "<Figure size 1600x480 with 1 Axes>"
      ]
     },
     "metadata": {
      "needs_background": "light"
     },
     "output_type": "display_data"
    }
   ],
   "source": [
    "# Should this be in molecular weight order?? - Easier to compare across different sources/samples\n",
    "\n",
    "plt.figure(figsize=(20, 6), dpi=80)\n",
    "plt.title('receptor PFAS Profile')\n",
    "\n",
    "# pd.melt(receptor_df_eda[pfas_vars])\n",
    "sns.boxplot(x=\"variable\", y=\"value\", data=pd.melt(receptor_df_eda[pfas_vars]), showfliers = False)\n",
    "plt.xlabel('PFAS Type')\n",
    "plt.ylabel('Normalized Concentration')\n",
    "plt.show()"
   ]
  },
  {
   "cell_type": "markdown",
   "id": "5ccb37d3-ba8a-45ca-9f9b-11d82d9e0f30",
   "metadata": {},
   "source": [
    "### Transform using Profiles"
   ]
  },
  {
   "cell_type": "code",
   "execution_count": 9,
   "id": "21808fa1-b64a-47f5-8cc6-762cb82372a0",
   "metadata": {},
   "outputs": [],
   "source": [
    "num_pcs_dict = {'AFFF' : 3,\n",
    "           'airport' : 2,\n",
    "           'other' : 3,\n",
    "           'residential' : 3}\n",
    "\n",
    "other_PC_profiles_names = {'PC1' : 'Industrial Manufacturing Mix', \n",
    "                           'PC2' : 'Waste/Landfills', \n",
    "                           'PC3':'Other (Coatings/Inks and other)'}"
   ]
  },
  {
   "cell_type": "markdown",
   "id": "65672de4-9ec7-4eef-84a1-b6ac674257c2",
   "metadata": {},
   "source": [
    "Standardize receptor data"
   ]
  },
  {
   "cell_type": "code",
   "execution_count": 10,
   "id": "73cd03bf-370e-49a7-9d95-2d220037a373",
   "metadata": {},
   "outputs": [],
   "source": [
    "receptor_df_pca = copy.deepcopy(receptor_df)\n",
    "receptor_df_pca = utils.normalize_over_partitions(df = receptor_df_pca, \n",
    "                                          pfas_vars = pfas_vars,\n",
    "                                          units_col = 'Matrix',\n",
    "                                          scaler_fn = 'Zscore')\n",
    "input_df = receptor_df_pca[pfas_vars].copy()"
   ]
  },
  {
   "cell_type": "code",
   "execution_count": 11,
   "id": "b84642a6-e4b6-4b48-acd6-0d20b44d8217",
   "metadata": {},
   "outputs": [
    {
     "data": {
      "text/html": [
       "<div>\n",
       "<style scoped>\n",
       "    .dataframe tbody tr th:only-of-type {\n",
       "        vertical-align: middle;\n",
       "    }\n",
       "\n",
       "    .dataframe tbody tr th {\n",
       "        vertical-align: top;\n",
       "    }\n",
       "\n",
       "    .dataframe thead th {\n",
       "        text-align: right;\n",
       "    }\n",
       "</style>\n",
       "<table border=\"1\" class=\"dataframe\">\n",
       "  <thead>\n",
       "    <tr style=\"text-align: right;\">\n",
       "      <th></th>\n",
       "      <th>NEtFOSAA</th>\n",
       "      <th>NMeFOSAA</th>\n",
       "      <th>PFBS</th>\n",
       "      <th>PFDA</th>\n",
       "      <th>PFHpA</th>\n",
       "      <th>PFHxA</th>\n",
       "      <th>PFHxS</th>\n",
       "      <th>PFNA</th>\n",
       "      <th>PFOA</th>\n",
       "      <th>PFOS</th>\n",
       "    </tr>\n",
       "  </thead>\n",
       "  <tbody>\n",
       "    <tr>\n",
       "      <th>count</th>\n",
       "      <td>6.240000e+02</td>\n",
       "      <td>6.240000e+02</td>\n",
       "      <td>6.240000e+02</td>\n",
       "      <td>6.240000e+02</td>\n",
       "      <td>6.240000e+02</td>\n",
       "      <td>6.240000e+02</td>\n",
       "      <td>6.240000e+02</td>\n",
       "      <td>6.240000e+02</td>\n",
       "      <td>6.240000e+02</td>\n",
       "      <td>6.240000e+02</td>\n",
       "    </tr>\n",
       "    <tr>\n",
       "      <th>mean</th>\n",
       "      <td>6.710711e-16</td>\n",
       "      <td>3.462330e-16</td>\n",
       "      <td>-1.810340e-17</td>\n",
       "      <td>4.843882e-16</td>\n",
       "      <td>7.348111e-17</td>\n",
       "      <td>1.584826e-16</td>\n",
       "      <td>-9.145106e-17</td>\n",
       "      <td>-3.006854e-17</td>\n",
       "      <td>1.465619e-16</td>\n",
       "      <td>-2.510456e-16</td>\n",
       "    </tr>\n",
       "    <tr>\n",
       "      <th>std</th>\n",
       "      <td>1.000802e+00</td>\n",
       "      <td>1.000802e+00</td>\n",
       "      <td>1.000802e+00</td>\n",
       "      <td>1.000802e+00</td>\n",
       "      <td>1.000802e+00</td>\n",
       "      <td>1.000802e+00</td>\n",
       "      <td>1.000802e+00</td>\n",
       "      <td>1.000802e+00</td>\n",
       "      <td>1.000802e+00</td>\n",
       "      <td>1.000802e+00</td>\n",
       "    </tr>\n",
       "    <tr>\n",
       "      <th>min</th>\n",
       "      <td>-1.229121e-01</td>\n",
       "      <td>-1.250725e-01</td>\n",
       "      <td>-3.587514e-01</td>\n",
       "      <td>-1.116618e-01</td>\n",
       "      <td>-4.125404e-01</td>\n",
       "      <td>-6.174043e-01</td>\n",
       "      <td>-5.758809e-01</td>\n",
       "      <td>-2.439117e-01</td>\n",
       "      <td>-5.309317e-01</td>\n",
       "      <td>-6.259599e-01</td>\n",
       "    </tr>\n",
       "    <tr>\n",
       "      <th>25%</th>\n",
       "      <td>-1.229121e-01</td>\n",
       "      <td>-1.250725e-01</td>\n",
       "      <td>-3.587514e-01</td>\n",
       "      <td>-1.116618e-01</td>\n",
       "      <td>-4.125404e-01</td>\n",
       "      <td>-6.174043e-01</td>\n",
       "      <td>-5.758809e-01</td>\n",
       "      <td>-2.439117e-01</td>\n",
       "      <td>-4.670983e-01</td>\n",
       "      <td>-6.259599e-01</td>\n",
       "    </tr>\n",
       "    <tr>\n",
       "      <th>50%</th>\n",
       "      <td>-1.229121e-01</td>\n",
       "      <td>-1.250725e-01</td>\n",
       "      <td>-2.388157e-01</td>\n",
       "      <td>-1.116618e-01</td>\n",
       "      <td>-2.676851e-01</td>\n",
       "      <td>-3.387294e-01</td>\n",
       "      <td>-2.877398e-01</td>\n",
       "      <td>-2.439117e-01</td>\n",
       "      <td>-3.070648e-01</td>\n",
       "      <td>-3.502712e-01</td>\n",
       "    </tr>\n",
       "    <tr>\n",
       "      <th>75%</th>\n",
       "      <td>-1.229121e-01</td>\n",
       "      <td>-1.250725e-01</td>\n",
       "      <td>-3.664022e-02</td>\n",
       "      <td>-1.116618e-01</td>\n",
       "      <td>5.008089e-02</td>\n",
       "      <td>1.600234e-01</td>\n",
       "      <td>1.404974e-01</td>\n",
       "      <td>-2.439117e-01</td>\n",
       "      <td>1.042760e-01</td>\n",
       "      <td>1.464524e-01</td>\n",
       "    </tr>\n",
       "    <tr>\n",
       "      <th>max</th>\n",
       "      <td>1.437774e+01</td>\n",
       "      <td>1.177261e+01</td>\n",
       "      <td>1.292868e+01</td>\n",
       "      <td>2.077231e+01</td>\n",
       "      <td>1.059376e+01</td>\n",
       "      <td>9.301039e+00</td>\n",
       "      <td>8.617475e+00</td>\n",
       "      <td>1.185946e+01</td>\n",
       "      <td>1.215235e+01</td>\n",
       "      <td>7.792295e+00</td>\n",
       "    </tr>\n",
       "  </tbody>\n",
       "</table>\n",
       "</div>"
      ],
      "text/plain": [
       "           NEtFOSAA      NMeFOSAA          PFBS          PFDA         PFHpA  \\\n",
       "count  6.240000e+02  6.240000e+02  6.240000e+02  6.240000e+02  6.240000e+02   \n",
       "mean   6.710711e-16  3.462330e-16 -1.810340e-17  4.843882e-16  7.348111e-17   \n",
       "std    1.000802e+00  1.000802e+00  1.000802e+00  1.000802e+00  1.000802e+00   \n",
       "min   -1.229121e-01 -1.250725e-01 -3.587514e-01 -1.116618e-01 -4.125404e-01   \n",
       "25%   -1.229121e-01 -1.250725e-01 -3.587514e-01 -1.116618e-01 -4.125404e-01   \n",
       "50%   -1.229121e-01 -1.250725e-01 -2.388157e-01 -1.116618e-01 -2.676851e-01   \n",
       "75%   -1.229121e-01 -1.250725e-01 -3.664022e-02 -1.116618e-01  5.008089e-02   \n",
       "max    1.437774e+01  1.177261e+01  1.292868e+01  2.077231e+01  1.059376e+01   \n",
       "\n",
       "              PFHxA         PFHxS          PFNA          PFOA          PFOS  \n",
       "count  6.240000e+02  6.240000e+02  6.240000e+02  6.240000e+02  6.240000e+02  \n",
       "mean   1.584826e-16 -9.145106e-17 -3.006854e-17  1.465619e-16 -2.510456e-16  \n",
       "std    1.000802e+00  1.000802e+00  1.000802e+00  1.000802e+00  1.000802e+00  \n",
       "min   -6.174043e-01 -5.758809e-01 -2.439117e-01 -5.309317e-01 -6.259599e-01  \n",
       "25%   -6.174043e-01 -5.758809e-01 -2.439117e-01 -4.670983e-01 -6.259599e-01  \n",
       "50%   -3.387294e-01 -2.877398e-01 -2.439117e-01 -3.070648e-01 -3.502712e-01  \n",
       "75%    1.600234e-01  1.404974e-01 -2.439117e-01  1.042760e-01  1.464524e-01  \n",
       "max    9.301039e+00  8.617475e+00  1.185946e+01  1.215235e+01  7.792295e+00  "
      ]
     },
     "execution_count": 11,
     "metadata": {},
     "output_type": "execute_result"
    }
   ],
   "source": [
    "input_df.describe()"
   ]
  },
  {
   "cell_type": "markdown",
   "id": "539acc4b-a9eb-4ed9-81d2-d122907571c1",
   "metadata": {},
   "source": [
    "AFFF"
   ]
  },
  {
   "cell_type": "code",
   "execution_count": 12,
   "id": "bcab2955-033c-40eb-843a-b8e3d7246591",
   "metadata": {},
   "outputs": [],
   "source": [
    "# Create AFFF transformation based on number of principal components\n",
    "afff_df = pd.read_csv('../../../data/modeling_data/source_attribution/afff_source.csv')\n",
    "\n",
    "afff_APCS_df = utils.APCS_pipeline(source_df = afff_df,\n",
    "                                   receptor_df = receptor_df,\n",
    "                                   receptor_df_pca = input_df,\n",
    "                                   pfas_vars = pfas_vars,\n",
    "                                   source_name = 'AFFF',\n",
    "                                   units_col = 'Matrix',\n",
    "                                   num_pcs = num_pcs_dict)"
   ]
  },
  {
   "cell_type": "markdown",
   "id": "a44b8b09-27dd-4163-9304-ddf5bb35ac8f",
   "metadata": {},
   "source": [
    "Airport"
   ]
  },
  {
   "cell_type": "code",
   "execution_count": 13,
   "id": "885278be-e7d5-4bb5-bd44-4f17e5450e6c",
   "metadata": {},
   "outputs": [],
   "source": [
    "# Create airport transformation based on number of principal components\n",
    "airport_df = pd.read_csv('../../../data/modeling_data/source_attribution/airport_source.csv')\n",
    "\n",
    "airport_APCS_df = utils.APCS_pipeline(source_df = airport_df,\n",
    "                                   receptor_df = receptor_df,\n",
    "                                   receptor_df_pca = input_df,\n",
    "                                   pfas_vars = pfas_vars,\n",
    "                                   source_name = 'airport',\n",
    "                                   units_col = 'Units',\n",
    "                                   num_pcs = num_pcs_dict)"
   ]
  },
  {
   "cell_type": "markdown",
   "id": "2f0ab425-e990-4078-ad5a-2b1daf71243d",
   "metadata": {},
   "source": [
    "Other"
   ]
  },
  {
   "cell_type": "code",
   "execution_count": 14,
   "id": "2122493c-4641-4e16-a2ce-1cc70b50fe08",
   "metadata": {},
   "outputs": [],
   "source": [
    "# Create other transformation based on number of principal components\n",
    "other_df = pd.read_csv('../../../data/modeling_data/source_attribution/other_source.csv')\n",
    "\n",
    "other_APCS_df = utils.APCS_pipeline(source_df = other_df,\n",
    "                                   receptor_df = receptor_df,\n",
    "                                   receptor_df_pca = input_df,\n",
    "                                   pfas_vars = pfas_vars,\n",
    "                                   source_name = 'other',\n",
    "                                   units_col = 'Units',\n",
    "                                   num_pcs = num_pcs_dict)"
   ]
  },
  {
   "cell_type": "markdown",
   "id": "3492d10e-e624-4faa-9027-1f57b01b78a7",
   "metadata": {},
   "source": [
    "Residential"
   ]
  },
  {
   "cell_type": "code",
   "execution_count": 15,
   "id": "4a66b51c-3bb6-4cff-a151-ef9f521fb49b",
   "metadata": {},
   "outputs": [],
   "source": [
    "# Create residential transformation based on number of principal components\n",
    "residential_df = pd.read_csv('../../../data/modeling_data/source_attribution/residential_source.csv')\n",
    "\n",
    "residential_APCS_df = utils.APCS_pipeline(source_df = residential_df,\n",
    "                                   receptor_df = receptor_df,\n",
    "                                   receptor_df_pca = input_df,\n",
    "                                   pfas_vars = pfas_vars,\n",
    "                                   source_name = 'residential',\n",
    "                                   units_col = 'Units',\n",
    "                                   num_pcs = num_pcs_dict)"
   ]
  },
  {
   "cell_type": "markdown",
   "id": "66fe05dd-e368-49ed-8a16-9a16866895b2",
   "metadata": {},
   "source": [
    "Create modeling dataset"
   ]
  },
  {
   "cell_type": "code",
   "execution_count": 41,
   "id": "848883b5-67c8-4ba7-ace8-179c93970f93",
   "metadata": {},
   "outputs": [],
   "source": [
    "sources = num_pcs_dict.keys()\n",
    "concat_df = pd.concat([afff_APCS_df, airport_APCS_df, residential_APCS_df, other_APCS_df], axis = 1)\n",
    "predictor_list = concat_df.columns\n",
    "concat_df[pfas_vars] = receptor_df[pfas_vars]"
   ]
  },
  {
   "cell_type": "markdown",
   "id": "c16ee840-e9a5-4b5a-8719-e8a2d83322ce",
   "metadata": {},
   "source": [
    "Due to models that do not fit well - remove NMeFOSAA"
   ]
  },
  {
   "cell_type": "code",
   "execution_count": 42,
   "id": "81de9216-7089-4619-8945-89f0a0c0c840",
   "metadata": {},
   "outputs": [],
   "source": [
    "concat_df.drop(columns = 'NMeFOSAA', inplace = True)\n",
    "pfas_vars.remove('NMeFOSAA')"
   ]
  },
  {
   "cell_type": "markdown",
   "id": "f7abe165-9eba-4095-89eb-543287519ace",
   "metadata": {},
   "source": [
    "### Attribution Modeling"
   ]
  },
  {
   "cell_type": "markdown",
   "id": "47cd6a2d-acca-4106-803c-3a475764084e",
   "metadata": {},
   "source": [
    "Check for highly correlated variables"
   ]
  },
  {
   "cell_type": "code",
   "execution_count": 43,
   "id": "e0fea381-569a-4f04-85ed-09d7188db027",
   "metadata": {},
   "outputs": [
    {
     "name": "stdout",
     "output_type": "stream",
     "text": [
      "Top Absolute Correlations\n"
     ]
    },
    {
     "data": {
      "text/html": [
       "<div>\n",
       "<style scoped>\n",
       "    .dataframe tbody tr th:only-of-type {\n",
       "        vertical-align: middle;\n",
       "    }\n",
       "\n",
       "    .dataframe tbody tr th {\n",
       "        vertical-align: top;\n",
       "    }\n",
       "\n",
       "    .dataframe thead th {\n",
       "        text-align: right;\n",
       "    }\n",
       "</style>\n",
       "<table border=\"1\" class=\"dataframe\">\n",
       "  <thead>\n",
       "    <tr style=\"text-align: right;\">\n",
       "      <th></th>\n",
       "      <th>level_0</th>\n",
       "      <th>level_1</th>\n",
       "      <th>0</th>\n",
       "    </tr>\n",
       "  </thead>\n",
       "  <tbody>\n",
       "    <tr>\n",
       "      <th>0</th>\n",
       "      <td>airport_0</td>\n",
       "      <td>other_0</td>\n",
       "      <td>0.988282</td>\n",
       "    </tr>\n",
       "    <tr>\n",
       "      <th>1</th>\n",
       "      <td>residential_0</td>\n",
       "      <td>other_0</td>\n",
       "      <td>0.925990</td>\n",
       "    </tr>\n",
       "    <tr>\n",
       "      <th>2</th>\n",
       "      <td>airport_1</td>\n",
       "      <td>other_1</td>\n",
       "      <td>0.893367</td>\n",
       "    </tr>\n",
       "    <tr>\n",
       "      <th>3</th>\n",
       "      <td>airport_0</td>\n",
       "      <td>residential_0</td>\n",
       "      <td>0.885531</td>\n",
       "    </tr>\n",
       "  </tbody>\n",
       "</table>\n",
       "</div>"
      ],
      "text/plain": [
       "         level_0        level_1         0\n",
       "0      airport_0        other_0  0.988282\n",
       "1  residential_0        other_0  0.925990\n",
       "2      airport_1        other_1  0.893367\n",
       "3      airport_0  residential_0  0.885531"
      ]
     },
     "execution_count": 43,
     "metadata": {},
     "output_type": "execute_result"
    }
   ],
   "source": [
    "print('Top Absolute Correlations')\n",
    "utils.get_top_abs_correlations(concat_df[predictor_list],\n",
    "                        corr_cutoff = 0.85)"
   ]
  },
  {
   "cell_type": "markdown",
   "id": "6314f052-ed22-4dc7-974c-f0e104be7482",
   "metadata": {},
   "source": [
    "Since airport_0 is most highly correlated with airport_0 -- if removed from model, then airport_0 will share contribution with residential_0. Since, airport_0 is not too highly correlated with AFFF_0 - no additional change beyond this is needed"
   ]
  },
  {
   "cell_type": "code",
   "execution_count": 44,
   "id": "db9d7552-4f93-49c0-bef2-bb8b91a68705",
   "metadata": {},
   "outputs": [],
   "source": [
    "# Manual entry\n",
    "removed_vars = {'other_0' : ['airport_0', 'residential_0']}"
   ]
  },
  {
   "cell_type": "code",
   "execution_count": 45,
   "id": "f546a8cd-329e-4e0b-aa65-af37bd703d45",
   "metadata": {},
   "outputs": [],
   "source": [
    "for var, remove_list in removed_vars.items():\n",
    "    concat_df.drop(columns = remove_list, inplace = True)\n",
    "    \n",
    "predictor_list = concat_df.columns"
   ]
  },
  {
   "cell_type": "markdown",
   "id": "1d0e4f1a-a500-4545-b8d6-8df125a5a3dc",
   "metadata": {},
   "source": [
    "Fit model"
   ]
  },
  {
   "cell_type": "code",
   "execution_count": 46,
   "id": "8ad7cbb1-b475-4bbd-a9b8-30b20297a302",
   "metadata": {
    "tags": []
   },
   "outputs": [],
   "source": [
    "# bootstrap 10 times to get confidence interval\n",
    "n_iterations = 50\n",
    "model2_info = utils.fit_model(concat_df, predictor_list, pfas_vars, n_iterations)"
   ]
  },
  {
   "cell_type": "markdown",
   "id": "7db65833-98c2-461f-aa5f-20e488cd4df9",
   "metadata": {},
   "source": [
    "Calculate confidence intervals"
   ]
  },
  {
   "cell_type": "code",
   "execution_count": 59,
   "id": "9d82051b-e7b9-4efe-ab93-572f71b0de37",
   "metadata": {},
   "outputs": [
    {
     "name": "stdout",
     "output_type": "stream",
     "text": [
      "AFFF attribution 95% CI: [ 29.83 , 35.18 ] %\n",
      "airport attribution 95% CI: [ 12.87 , 14.92 ] %\n",
      "Industrial Manufacturing Mix attribution 95% CI: [ 2.39 , 3.05 ] %\n",
      "Waste/Landfills attribution 95% CI: [ 12.37 , 14.2 ] %\n",
      "Other (Coatings/Inks and other) attribution 95% CI: [ 13.61 , 21.11 ] %\n",
      "residential attribution 95% CI: [ 18.82 , 21.65 ] %\n"
     ]
    }
   ],
   "source": [
    "source_names, means, yerror = utils.calc_contribution_confidence_intervals(concat_df, model2_info, pfas_vars, sources, n_iterations, removed_vars, num_pcs_dict, other_PC_profiles_names)"
   ]
  },
  {
   "cell_type": "code",
   "execution_count": 61,
   "id": "751f4f53-24cb-498b-aca3-9f8e28b09dba",
   "metadata": {},
   "outputs": [
    {
     "data": {
      "text/plain": [
       "[2.679220000000001,\n",
       " 1.0234000000000023,\n",
       " 0.32943999999999996,\n",
       " 0.914240000000003,\n",
       " 3.7486800000000002,\n",
       " 1.4149399999999979]"
      ]
     },
     "execution_count": 61,
     "metadata": {},
     "output_type": "execute_result"
    }
   ],
   "source": [
    "yerror"
   ]
  },
  {
   "cell_type": "code",
   "execution_count": 57,
   "id": "6f00bab4-ed3d-43f3-b458-f2699aa4bef1",
   "metadata": {},
   "outputs": [
    {
     "data": {
      "text/plain": [
       "[32.50922,\n",
       " 13.893400000000002,\n",
       " 2.71944,\n",
       " 13.284240000000002,\n",
       " 17.35868,\n",
       " 20.234939999999998]"
      ]
     },
     "execution_count": 57,
     "metadata": {},
     "output_type": "execute_result"
    }
   ],
   "source": [
    "y"
   ]
  },
  {
   "cell_type": "code",
   "execution_count": 51,
   "id": "8fbfe524-2ddc-4cfc-8989-543f3a75bf7a",
   "metadata": {
    "tags": []
   },
   "outputs": [
    {
     "data": {
      "text/plain": [
       "(array([ 0.,  5., 10., 15., 20., 25., 30., 35., 40.]),\n",
       " [Text(0, 0, ''),\n",
       "  Text(0, 0, ''),\n",
       "  Text(0, 0, ''),\n",
       "  Text(0, 0, ''),\n",
       "  Text(0, 0, ''),\n",
       "  Text(0, 0, ''),\n",
       "  Text(0, 0, ''),\n",
       "  Text(0, 0, ''),\n",
       "  Text(0, 0, '')])"
      ]
     },
     "execution_count": 51,
     "metadata": {},
     "output_type": "execute_result"
    },
    {
     "data": {
      "image/png": "[encoded data removed]",
      "text/plain": [
       "<Figure size 1360x1440 with 1 Axes>"
      ]
     },
     "metadata": {
      "needs_background": "light"
     },
     "output_type": "display_data"
    }
   ],
   "source": [
    "x = source_names\n",
    "y = means\n",
    "\n",
    "plt.figure(figsize=(17, 18), dpi=80)\n",
    "plt.title('Confidence Intervals for Source Attribution - PFAS18', fontsize = 30)\n",
    "\n",
    "plt.xlabel('Source Type', fontsize = 24)\n",
    "plt.ylabel('Attribution (%)', fontsize = 24)\n",
    "\n",
    "plt.errorbar(range(len(x)),y,yerr = yerror, fmt = 'o', ecolor = 'black', capsize = 5, ms = 5, elinewidth = 3)\n",
    "plt.xticks(range(len(x)), x,fontsize = 14)\n",
    "plt.yticks(fontsize = 20)"
   ]
  },
  {
   "cell_type": "code",
   "execution_count": 54,
   "id": "b69535ac-f743-4111-b832-1f1568b744e1",
   "metadata": {},
   "outputs": [
    {
     "data": {
      "text/plain": [
       "{'NEtFOSAA': (53.98, 17.74),\n",
       " 'PFBS': (73.28, 4.62),\n",
       " 'PFDA': (66.38, 21.66),\n",
       " 'PFHpA': (74.69, 2.98),\n",
       " 'PFHxA': (70.31, 2.44),\n",
       " 'PFHxS': (78.12, 2.22),\n",
       " 'PFNA': (79.06, 4.07),\n",
       " 'PFOA': (74.56, 3.49),\n",
       " 'PFOS': (70.84, 1.94)}"
      ]
     },
     "execution_count": 54,
     "metadata": {},
     "output_type": "execute_result"
    }
   ],
   "source": [
    "# (Average variance explained by model, standard deviation)\n",
    "avg_score = utils.calculate_average_model_score(model2_info, n_iterations, sources, pfas_vars)\n",
    "avg_score"
   ]
  },
  {
   "cell_type": "code",
   "execution_count": 55,
   "id": "3a536674-76f9-4b79-bcab-43b493f28494",
   "metadata": {},
   "outputs": [],
   "source": [
    "# get weighted average score of all PFAS\n",
    "_sum = 0\n",
    "for pfas in pfas_vars: \n",
    "    _sum += sum(concat_df[pfas])\n",
    "\n",
    "weights = {}\n",
    "for pfas in pfas_vars:\n",
    "    weights[pfas] = sum(concat_df[pfas]) / _sum\n",
    "    \n",
    "_avg_score = 0\n",
    "for pfas in pfas_vars:\n",
    "    _avg_score += avg_score[pfas][0] * weights[pfas]"
   ]
  },
  {
   "cell_type": "code",
   "execution_count": 56,
   "id": "caf727d0-a183-46e6-9de5-3fed5b67f1de",
   "metadata": {},
   "outputs": [
    {
     "data": {
      "text/plain": [
       "72.97459119617119"
      ]
     },
     "execution_count": 56,
     "metadata": {},
     "output_type": "execute_result"
    }
   ],
   "source": [
    "_avg_score"
   ]
  },
  {
   "cell_type": "markdown",
   "id": "ef9f764e-cd6c-4e7c-9e97-9ec91a8d2bc3",
   "metadata": {},
   "source": [
    "****"
   ]
  },
  {
   "cell_type": "code",
   "execution_count": 50,
   "id": "9c2e8fd3-d685-423a-9aad-7d247ea2c0d2",
   "metadata": {},
   "outputs": [
    {
     "name": "stdout",
     "output_type": "stream",
     "text": [
      "NEtFOSAA 0.6086030307472384\n",
      "PFBS 0.8419282492508888\n",
      "PFDA 0.8493243499631655\n",
      "PFHpA 0.7750858829362627\n",
      "PFHxA 0.7507454756270489\n",
      "PFHxS 0.8170506615830828\n",
      "PFNA 0.8494190005655551\n",
      "PFOA 0.716384781646658\n",
      "PFOS 0.6931812079249253\n"
     ]
    }
   ],
   "source": [
    "for pfas in pfas_vars[:]:\n",
    "\n",
    "    rs = resample(concat_df, n_samples = concat_df.shape[0], random_state = 42).copy()\n",
    "    X = rs[predictor_list]\n",
    "    y = rs[pfas].copy()\n",
    "\n",
    "    lm = PoissonRegressor().fit(X, y)\n",
    "    lm.intercept_\n",
    "    lm.coef_\n",
    "    print(pfas, lm.score(X, y))\n",
    "    mean_squared_error(y, lm.predict(X))"
   ]
  },
  {
   "cell_type": "code",
   "execution_count": 74,
   "id": "f4059a4f-fdf3-4d9a-9016-de68ff1a9339",
   "metadata": {},
   "outputs": [],
   "source": [
    "X.reset_index(drop = True, inplace = True)"
   ]
  },
  {
   "cell_type": "code",
   "execution_count": 75,
   "id": "225502fa-e4cc-446d-8025-bb2adcaeaaf6",
   "metadata": {},
   "outputs": [],
   "source": [
    "y.reset_index(drop = True, inplace = True)"
   ]
  },
  {
   "cell_type": "code",
   "execution_count": 76,
   "id": "28d1a3ac-a81c-4a66-b7ab-4b0dccafe051",
   "metadata": {},
   "outputs": [],
   "source": [
    "y_pred = lm.predict(X)"
   ]
  },
  {
   "cell_type": "code",
   "execution_count": 77,
   "id": "ed42ff40-605d-49af-9290-be5bed63ca5f",
   "metadata": {},
   "outputs": [
    {
     "data": {
      "text/plain": [
       "count    627.000000\n",
       "mean       2.464306\n",
       "std        3.602116\n",
       "min        0.226500\n",
       "25%        0.226500\n",
       "50%        1.200000\n",
       "75%        2.860000\n",
       "max       29.800000\n",
       "Name: PFOS, dtype: float64"
      ]
     },
     "execution_count": 77,
     "metadata": {},
     "output_type": "execute_result"
    }
   ],
   "source": [
    "y.describe()"
   ]
  },
  {
   "cell_type": "code",
   "execution_count": 67,
   "id": "b422c565-54e5-48b5-95ab-a067b6f8fcc4",
   "metadata": {},
   "outputs": [],
   "source": [
    "plot_df = pd.DataFrame([y, y_pred]).T.rename(columns = {'PFHpA' : 'Original',\n",
    "                                              'Unnamed 0' : 'Predicted'})"
   ]
  },
  {
   "cell_type": "code",
   "execution_count": 74,
   "id": "d060a053-c6aa-45ae-8d48-1748482427ab",
   "metadata": {},
   "outputs": [],
   "source": [
    "plot_df.sort_values('Original', inplace=True)"
   ]
  },
  {
   "cell_type": "code",
   "execution_count": 78,
   "id": "8d62b620-5875-44f0-9697-5347c01d3605",
   "metadata": {},
   "outputs": [],
   "source": [
    "plot_df = plot_df.reset_index(drop = True)plot_df = plot_df.reset_index(drop = True)"
   ]
  },
  {
   "cell_type": "code",
   "execution_count": 98,
   "id": "761ca8a7-c081-459c-9761-d0790873e3bb",
   "metadata": {},
   "outputs": [
    {
     "data": {
      "text/plain": [
       "<matplotlib.legend.Legend at 0x27b8ee98c40>"
      ]
     },
     "execution_count": 98,
     "metadata": {},
     "output_type": "execute_result"
    },
    {
     "data": {
      "image/png": "[encoded data removed]",
      "text/plain": [
       "<Figure size 720x576 with 1 Axes>"
      ]
     },
     "metadata": {
      "needs_background": "light"
     },
     "output_type": "display_data"
    }
   ],
   "source": [
    "fig, ax = plt.subplots(figsize=(10,8))\n",
    "plt.title('Attribution Model', fontsize = 20)\n",
    "ax.set_xlabel(\"Samples\", fontsize = 16)                                \n",
    "ax.set_ylabel(\"PFAS Amount\", fontsize = 16)\n",
    "plt.scatter(plot_df.index, plot_df.Original,color='blue',alpha = 0.5, label=\"Original Data\")\n",
    "plt.scatter(plot_df.index, plot_df.Predicted,color='green',alpha = 0.5,label=\"Predicted\")\n",
    "plt.tick_params(\n",
    "    axis='x',          # changes apply to the x-axis\n",
    "    which='both',      # both major and minor ticks are affected\n",
    "    bottom=False,      # ticks along the bottom edge are off\n",
    "    top=False,         # ticks along the top edge are off\n",
    "    labelbottom=False)\n",
    "plt.legend()"
   ]
  },
  {
   "cell_type": "code",
   "execution_count": 88,
   "id": "dae19823-4fb1-419c-889d-58e63d915f3c",
   "metadata": {},
   "outputs": [
    {
     "data": {
      "text/plain": [
       "(array([559.,  36.,   9.,   4.,   5.,   1.,   0.,   0.,   4.,   0.,   0.,\n",
       "          0.,   0.,   0.,   0.,   0.,   0.,   0.,   5.,   0.,   0.,   0.,\n",
       "          0.,   0.,   0.,   0.,   0.,   0.,   0.,   0.,   0.,   0.,   2.,\n",
       "          0.,   0.,   0.,   0.,   0.,   0.,   0.,   0.,   0.,   0.,   0.,\n",
       "          0.,   0.,   1.,   0.,   0.,   1.]),\n",
       " array([ 0.63995694,  2.12279853,  3.60564012,  5.08848171,  6.5713233 ,\n",
       "         8.05416489,  9.53700648, 11.01984807, 12.50268966, 13.98553125,\n",
       "        15.46837284, 16.95121443, 18.43405602, 19.91689761, 21.3997392 ,\n",
       "        22.8825808 , 24.36542239, 25.84826398, 27.33110557, 28.81394716,\n",
       "        30.29678875, 31.77963034, 33.26247193, 34.74531352, 36.22815511,\n",
       "        37.7109967 , 39.19383829, 40.67667988, 42.15952147, 43.64236306,\n",
       "        45.12520465, 46.60804624, 48.09088783, 49.57372942, 51.05657101,\n",
       "        52.5394126 , 54.02225419, 55.50509578, 56.98793737, 58.47077896,\n",
       "        59.95362055, 61.43646214, 62.91930373, 64.40214532, 65.88498691,\n",
       "        67.3678285 , 68.85067009, 70.33351168, 71.81635327, 73.29919486,\n",
       "        74.78203645]),\n",
       " <BarContainer object of 50 artists>)"
      ]
     },
     "execution_count": 88,
     "metadata": {},
     "output_type": "execute_result"
    },
    {
     "data": {
      "image/png": "[encoded data removed]",
      "text/plain": [
       "<Figure size 1440x576 with 1 Axes>"
      ]
     },
     "metadata": {
      "needs_background": "light"
     },
     "output_type": "display_data"
    }
   ],
   "source": [
    "fig, ax = plt.subplots(figsize=(20,8))\n",
    "plt.hist(plot_df.Original, bins = 50, alpha = 0.5, label=\"Ground Truth\" )\n",
    "plt.hist(plot_df.Predicted, bins = 50, alpha = 0.5, label=\"Predicted\" )"
   ]
  }
 ],
 "metadata": {
  "kernelspec": {
   "display_name": "Python 3",
   "language": "python",
   "name": "python3"
  },
  "language_info": {
   "codemirror_mode": {
    "name": "ipython",
    "version": 3
   },
   "file_extension": ".py",
   "mimetype": "text/x-python",
   "name": "python",
   "nbconvert_exporter": "python",
   "pygments_lexer": "ipython3",
   "version": "3.8.8"
  }
 },
 "nbformat": 4,
 "nbformat_minor": 5
}
