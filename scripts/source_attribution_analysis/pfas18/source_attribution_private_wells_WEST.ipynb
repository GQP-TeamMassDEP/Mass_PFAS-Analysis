{
 "cells": [
  {
   "cell_type": "code",
   "execution_count": 1,
   "id": "6a3cdfa0-6d65-4102-aa28-b9ab812e33f1",
   "metadata": {},
   "outputs": [],
   "source": [
    "import pandas as pd\n",
    "import numpy as np\n",
    "import utils\n",
    "import matplotlib.pyplot as plt\n",
    "import seaborn as sns\n",
    "import geopandas as gpd\n",
    "import pickle as pk\n",
    "from sklearn.utils import resample\n",
    "from sklearn.linear_model import LinearRegression, PoissonRegressor\n",
    "from sklearn.metrics import mean_squared_error\n",
    "import statsmodels.api as sm\n",
    "from scipy import stats\n",
    "import numpy as np, scipy.stats as st\n",
    "from sklearn.decomposition import PCA\n",
    "import copy\n",
    "import warnings\n",
    "warnings.filterwarnings('ignore')"
   ]
  },
  {
   "cell_type": "markdown",
   "id": "d074276c-64f1-4e1f-862d-31c2cc87c7f6",
   "metadata": {},
   "source": [
    "## Do this same analysis (Method 2) on the UMass Private Well Dataset"
   ]
  },
  {
   "cell_type": "code",
   "execution_count": 2,
   "id": "54633db4-c54d-41e6-ac0d-02ac9c2ef8de",
   "metadata": {},
   "outputs": [],
   "source": [
    "receptor_df = gpd.read_file('../../../data/modeling_data/private_well_holdout.geojson')\n",
    "receptor_df['GEOID10'] = receptor_df['GEOID10'].astype(str).str.zfill(12)\n",
    "receptor_df['centroid'] = receptor_df['geometry'].centroid\n",
    "receptor_gdf = gpd.GeoDataFrame(\n",
    "    receptor_df,\n",
    "    geometry=gpd.points_from_xy(receptor_df.centroid.x, receptor_df.centroid.y),\n",
    "    crs={\"init\":\"EPSG:4326\"})"
   ]
  },
  {
   "cell_type": "code",
   "execution_count": 3,
   "id": "3b9a0b3b-098f-4717-844e-854f06c1a3cb",
   "metadata": {},
   "outputs": [],
   "source": [
    "regions = gpd.read_file('../../../data/regdep.geojson', drive = 'GeoJSON')\n",
    "regions = regions.to_crs('EPSG:4326')"
   ]
  },
  {
   "cell_type": "code",
   "execution_count": 4,
   "id": "98de76d1-5ccf-46e3-a141-89e9d8460ff4",
   "metadata": {},
   "outputs": [],
   "source": [
    "receptor_df = gpd.sjoin(receptor_gdf, regions[['geometry', 'REGION']], op='within') "
   ]
  },
  {
   "cell_type": "code",
   "execution_count": 5,
   "id": "f13be861-f6e9-4ccc-b941-7a9aa846bb54",
   "metadata": {},
   "outputs": [
    {
     "data": {
      "text/plain": [
       "REGION\n",
       "CEN      27\n",
       "NE      190\n",
       "SE      242\n",
       "WEST    164\n",
       "dtype: int64"
      ]
     },
     "execution_count": 5,
     "metadata": {},
     "output_type": "execute_result"
    }
   ],
   "source": [
    "receptor_df.groupby('REGION').size()"
   ]
  },
  {
   "cell_type": "code",
   "execution_count": 6,
   "id": "aa309564-0f9d-4b72-bbed-d6cc6cf9dcf6",
   "metadata": {},
   "outputs": [],
   "source": [
    "receptor_df = receptor_df[receptor_df['REGION'] == 'WEST'].reset_index()"
   ]
  },
  {
   "cell_type": "code",
   "execution_count": 7,
   "id": "712d4aaf-2abe-426a-b325-ae138cab3fe6",
   "metadata": {},
   "outputs": [],
   "source": [
    "orig_df = receptor_df.copy()"
   ]
  },
  {
   "cell_type": "code",
   "execution_count": 8,
   "id": "c6b5161f-0a9e-4063-8dae-cc47995c649b",
   "metadata": {},
   "outputs": [],
   "source": [
    "# Wastewater also contains extra compounds that are not a part of the PFAS18 collection (PFDS, PFPeA, PFTeDA, PFPeS, PFNS, PFHpS)\n",
    "# Remove these variables based on PFAS_18 compounds list\n",
    "\n",
    "pfas18 = pd.read_csv('../../../data/Extracted lab report data/PFAS_compounds.csv')[['Acronym','PFAS18']]\n",
    "pfas18 = pfas18[~(pfas18['PFAS18'].isna())]['Acronym']"
   ]
  },
  {
   "cell_type": "code",
   "execution_count": 9,
   "id": "58af0eb0-c056-4a0c-a435-bab9ccbcef90",
   "metadata": {},
   "outputs": [],
   "source": [
    "pfas_vars = utils.get_pfas_vars(df = receptor_df,\n",
    "                                pfas18 = pfas18)"
   ]
  },
  {
   "cell_type": "markdown",
   "id": "79a401dd-b022-410a-ada9-dd334a5179b1",
   "metadata": {},
   "source": [
    "Normalize from 0 to 1 for display purposes (e.g., EDA) only. The actual data will be z-score normalized\n",
    "(standardized) before PCA and HC."
   ]
  },
  {
   "cell_type": "code",
   "execution_count": 10,
   "id": "966835aa-de33-486e-aaae-e61f4f92e574",
   "metadata": {
    "tags": []
   },
   "outputs": [],
   "source": [
    "# receptor_df = receptor_df_final.copy()\n",
    "receptor_df_eda = utils.normalize_over_partitions(df = receptor_df, \n",
    "                                              pfas_vars = pfas_vars,\n",
    "                                              units_col = 'Matrix',\n",
    "                                              scaler_fn = 'MinMax')"
   ]
  },
  {
   "cell_type": "markdown",
   "id": "5c045fa6-d4bd-44aa-97e7-3bd358a61b76",
   "metadata": {},
   "source": [
    "## Visualize Profile"
   ]
  },
  {
   "cell_type": "code",
   "execution_count": 11,
   "id": "c8ddaead-297b-489d-ae6a-8d5060cb698c",
   "metadata": {},
   "outputs": [
    {
     "data": {
      "image/png": "[encoded data removed]",
      "text/plain": [
       "<Figure size 1600x480 with 1 Axes>"
      ]
     },
     "metadata": {
      "needs_background": "light"
     },
     "output_type": "display_data"
    }
   ],
   "source": [
    "# Should this be in molecular weight order?? - Easier to compare across different sources/samples\n",
    "\n",
    "plt.figure(figsize=(20, 6), dpi=80)\n",
    "plt.title('receptor PFAS Profile')\n",
    "\n",
    "# pd.melt(receptor_df_eda[pfas_vars])\n",
    "sns.boxplot(x=\"variable\", y=\"value\", data=pd.melt(receptor_df_eda[pfas_vars]), showfliers = False)\n",
    "plt.xlabel('PFAS Type')\n",
    "plt.ylabel('Normalized Concentration')\n",
    "plt.show()"
   ]
  },
  {
   "cell_type": "markdown",
   "id": "5ccb37d3-ba8a-45ca-9f9b-11d82d9e0f30",
   "metadata": {},
   "source": [
    "### Transform using Profiles"
   ]
  },
  {
   "cell_type": "code",
   "execution_count": 12,
   "id": "21808fa1-b64a-47f5-8cc6-762cb82372a0",
   "metadata": {},
   "outputs": [],
   "source": [
    "num_pcs_dict = {'AFFF' : 3,\n",
    "           'airport' : 2,\n",
    "           'other' : 3,\n",
    "           'residential' : 3}\n",
    "\n",
    "other_PC_profiles_names = {'PC1' : 'Industrial Manufacturing Mix', \n",
    "                           'PC2' : 'Waste/Landfills', \n",
    "                           'PC3':'Other (Coatings/Inks and other)'}"
   ]
  },
  {
   "cell_type": "markdown",
   "id": "65672de4-9ec7-4eef-84a1-b6ac674257c2",
   "metadata": {},
   "source": [
    "Standardize receptor data"
   ]
  },
  {
   "cell_type": "code",
   "execution_count": 13,
   "id": "73cd03bf-370e-49a7-9d95-2d220037a373",
   "metadata": {},
   "outputs": [],
   "source": [
    "receptor_df_pca = copy.deepcopy(receptor_df)\n",
    "receptor_df_pca = utils.normalize_over_partitions(df = receptor_df_pca, \n",
    "                                          pfas_vars = pfas_vars,\n",
    "                                          units_col = 'Matrix',\n",
    "                                          scaler_fn = 'Zscore')\n",
    "input_df = receptor_df_pca[pfas_vars].copy()"
   ]
  },
  {
   "cell_type": "markdown",
   "id": "539acc4b-a9eb-4ed9-81d2-d122907571c1",
   "metadata": {},
   "source": [
    "AFFF"
   ]
  },
  {
   "cell_type": "code",
   "execution_count": 14,
   "id": "bcab2955-033c-40eb-843a-b8e3d7246591",
   "metadata": {},
   "outputs": [],
   "source": [
    "# Create AFFF transformation based on number of principal components\n",
    "afff_df = pd.read_csv('../../../data/modeling_data/source_attribution/afff_source.csv')\n",
    "\n",
    "afff_APCS_df = utils.APCS_pipeline(source_df = afff_df,\n",
    "                                   receptor_df = receptor_df,\n",
    "                                   receptor_df_pca = input_df,\n",
    "                                   pfas_vars = pfas_vars,\n",
    "                                   source_name = 'AFFF',\n",
    "                                   units_col = 'Matrix',\n",
    "                                   num_pcs = num_pcs_dict)"
   ]
  },
  {
   "cell_type": "markdown",
   "id": "a44b8b09-27dd-4163-9304-ddf5bb35ac8f",
   "metadata": {},
   "source": [
    "Airport"
   ]
  },
  {
   "cell_type": "code",
   "execution_count": 15,
   "id": "885278be-e7d5-4bb5-bd44-4f17e5450e6c",
   "metadata": {},
   "outputs": [],
   "source": [
    "# Create airport transformation based on number of principal components\n",
    "airport_df = pd.read_csv('../../../data/modeling_data/source_attribution/airport_source.csv')\n",
    "\n",
    "airport_APCS_df = utils.APCS_pipeline(source_df = airport_df,\n",
    "                                   receptor_df = receptor_df,\n",
    "                                   receptor_df_pca = input_df,\n",
    "                                   pfas_vars = pfas_vars,\n",
    "                                   source_name = 'airport',\n",
    "                                   units_col = 'Units',\n",
    "                                   num_pcs = num_pcs_dict)"
   ]
  },
  {
   "cell_type": "markdown",
   "id": "2f0ab425-e990-4078-ad5a-2b1daf71243d",
   "metadata": {},
   "source": [
    "Other"
   ]
  },
  {
   "cell_type": "code",
   "execution_count": 16,
   "id": "2122493c-4641-4e16-a2ce-1cc70b50fe08",
   "metadata": {},
   "outputs": [],
   "source": [
    "# Create other transformation based on number of principal components\n",
    "other_df = pd.read_csv('../../../data/modeling_data/source_attribution/other_source.csv')\n",
    "\n",
    "other_APCS_df = utils.APCS_pipeline(source_df = other_df,\n",
    "                                   receptor_df = receptor_df,\n",
    "                                   receptor_df_pca = input_df,\n",
    "                                   pfas_vars = pfas_vars,\n",
    "                                   source_name = 'other',\n",
    "                                   units_col = 'Units',\n",
    "                                   num_pcs = num_pcs_dict)"
   ]
  },
  {
   "cell_type": "markdown",
   "id": "3492d10e-e624-4faa-9027-1f57b01b78a7",
   "metadata": {},
   "source": [
    "Residential"
   ]
  },
  {
   "cell_type": "code",
   "execution_count": 17,
   "id": "4a66b51c-3bb6-4cff-a151-ef9f521fb49b",
   "metadata": {},
   "outputs": [],
   "source": [
    "# Create residential transformation based on number of principal components\n",
    "residential_df = pd.read_csv('../../../data/modeling_data/source_attribution/residential_source.csv')\n",
    "\n",
    "residential_APCS_df = utils.APCS_pipeline(source_df = residential_df,\n",
    "                                   receptor_df = receptor_df,\n",
    "                                   receptor_df_pca = input_df,\n",
    "                                   pfas_vars = pfas_vars,\n",
    "                                   source_name = 'residential',\n",
    "                                   units_col = 'Units',\n",
    "                                   num_pcs = num_pcs_dict)"
   ]
  },
  {
   "cell_type": "markdown",
   "id": "66fe05dd-e368-49ed-8a16-9a16866895b2",
   "metadata": {},
   "source": [
    "Create modeling dataset"
   ]
  },
  {
   "cell_type": "code",
   "execution_count": 18,
   "id": "848883b5-67c8-4ba7-ace8-179c93970f93",
   "metadata": {},
   "outputs": [],
   "source": [
    "sources = num_pcs_dict.keys()\n",
    "concat_df = pd.concat([afff_APCS_df, airport_APCS_df, residential_APCS_df, other_APCS_df], axis = 1)\n",
    "predictor_list = concat_df.columns\n",
    "concat_df[pfas_vars] = receptor_df[pfas_vars]"
   ]
  },
  {
   "cell_type": "markdown",
   "id": "9a81e609-b27f-4e4e-8ec5-72251daa2b2d",
   "metadata": {},
   "source": [
    "Due to models that do not fit well - remove NMeFOSAA"
   ]
  },
  {
   "cell_type": "code",
   "execution_count": 19,
   "id": "e332f725-5026-426c-8326-1b4f3791df91",
   "metadata": {},
   "outputs": [],
   "source": [
    "concat_df.drop(columns = 'NMeFOSAA', inplace = True)\n",
    "pfas_vars.remove('NMeFOSAA')"
   ]
  },
  {
   "cell_type": "markdown",
   "id": "f7abe165-9eba-4095-89eb-543287519ace",
   "metadata": {},
   "source": [
    "### Attribution Modeling"
   ]
  },
  {
   "cell_type": "markdown",
   "id": "47cd6a2d-acca-4106-803c-3a475764084e",
   "metadata": {},
   "source": [
    "Check for highly correlated variables"
   ]
  },
  {
   "cell_type": "code",
   "execution_count": 20,
   "id": "e0fea381-569a-4f04-85ed-09d7188db027",
   "metadata": {},
   "outputs": [
    {
     "name": "stdout",
     "output_type": "stream",
     "text": [
      "Top Absolute Correlations\n"
     ]
    },
    {
     "data": {
      "text/html": [
       "<div>\n",
       "<style scoped>\n",
       "    .dataframe tbody tr th:only-of-type {\n",
       "        vertical-align: middle;\n",
       "    }\n",
       "\n",
       "    .dataframe tbody tr th {\n",
       "        vertical-align: top;\n",
       "    }\n",
       "\n",
       "    .dataframe thead th {\n",
       "        text-align: right;\n",
       "    }\n",
       "</style>\n",
       "<table border=\"1\" class=\"dataframe\">\n",
       "  <thead>\n",
       "    <tr style=\"text-align: right;\">\n",
       "      <th></th>\n",
       "      <th>level_0</th>\n",
       "      <th>level_1</th>\n",
       "      <th>0</th>\n",
       "    </tr>\n",
       "  </thead>\n",
       "  <tbody>\n",
       "    <tr>\n",
       "      <th>0</th>\n",
       "      <td>airport_0</td>\n",
       "      <td>other_0</td>\n",
       "      <td>0.990100</td>\n",
       "    </tr>\n",
       "    <tr>\n",
       "      <th>1</th>\n",
       "      <td>residential_0</td>\n",
       "      <td>other_0</td>\n",
       "      <td>0.945180</td>\n",
       "    </tr>\n",
       "    <tr>\n",
       "      <th>2</th>\n",
       "      <td>airport_0</td>\n",
       "      <td>residential_0</td>\n",
       "      <td>0.910415</td>\n",
       "    </tr>\n",
       "    <tr>\n",
       "      <th>3</th>\n",
       "      <td>airport_1</td>\n",
       "      <td>other_1</td>\n",
       "      <td>0.888893</td>\n",
       "    </tr>\n",
       "  </tbody>\n",
       "</table>\n",
       "</div>"
      ],
      "text/plain": [
       "         level_0        level_1         0\n",
       "0      airport_0        other_0  0.990100\n",
       "1  residential_0        other_0  0.945180\n",
       "2      airport_0  residential_0  0.910415\n",
       "3      airport_1        other_1  0.888893"
      ]
     },
     "execution_count": 20,
     "metadata": {},
     "output_type": "execute_result"
    }
   ],
   "source": [
    "print('Top Absolute Correlations')\n",
    "utils.get_top_abs_correlations(concat_df[predictor_list],\n",
    "                        corr_cutoff = 0.85)"
   ]
  },
  {
   "cell_type": "markdown",
   "id": "6314f052-ed22-4dc7-974c-f0e104be7482",
   "metadata": {},
   "source": [
    "Since airport_0 is most highly correlated with airport_0 -- if removed from model, then airport_0 will share contribution with residential_0. Since, airport_0 is not too highly correlated with AFFF_0 - no additional change beyond this is needed"
   ]
  },
  {
   "cell_type": "code",
   "execution_count": 21,
   "id": "db9d7552-4f93-49c0-bef2-bb8b91a68705",
   "metadata": {},
   "outputs": [],
   "source": [
    "# Manual entry\n",
    "removed_vars = {'other_0' : ['airport_0', 'residential_0']}"
   ]
  },
  {
   "cell_type": "code",
   "execution_count": 22,
   "id": "f546a8cd-329e-4e0b-aa65-af37bd703d45",
   "metadata": {},
   "outputs": [],
   "source": [
    "for var, remove_list in removed_vars.items():\n",
    "    concat_df.drop(columns = remove_list, inplace = True)\n",
    "    \n",
    "predictor_list = concat_df.columns"
   ]
  },
  {
   "cell_type": "markdown",
   "id": "1d0e4f1a-a500-4545-b8d6-8df125a5a3dc",
   "metadata": {},
   "source": [
    "Fit model"
   ]
  },
  {
   "cell_type": "code",
   "execution_count": 23,
   "id": "8ad7cbb1-b475-4bbd-a9b8-30b20297a302",
   "metadata": {
    "tags": []
   },
   "outputs": [],
   "source": [
    "# bootstrap 10 times to get confidence interval\n",
    "n_iterations = 50\n",
    "model2_info = utils.fit_model(concat_df, predictor_list, pfas_vars, n_iterations)"
   ]
  },
  {
   "cell_type": "markdown",
   "id": "7db65833-98c2-461f-aa5f-20e488cd4df9",
   "metadata": {},
   "source": [
    "Calculate confidence intervals"
   ]
  },
  {
   "cell_type": "code",
   "execution_count": 24,
   "id": "42375ab1-d754-4fde-a714-9dbeb940f271",
   "metadata": {},
   "outputs": [
    {
     "ename": "UnboundLocalError",
     "evalue": "local variable 'source_names' referenced before assignment",
     "output_type": "error",
     "traceback": [
      "\u001b[1;31m---------------------------------------------------------------------------\u001b[0m",
      "\u001b[1;31mUnboundLocalError\u001b[0m                         Traceback (most recent call last)",
      "\u001b[1;32m<ipython-input-24-b36b373fb442>\u001b[0m in \u001b[0;36m<module>\u001b[1;34m\u001b[0m\n\u001b[1;32m----> 1\u001b[1;33m \u001b[0msource_names\u001b[0m\u001b[1;33m,\u001b[0m \u001b[0mmeans\u001b[0m\u001b[1;33m,\u001b[0m \u001b[0myerror\u001b[0m \u001b[1;33m=\u001b[0m \u001b[0mutils\u001b[0m\u001b[1;33m.\u001b[0m\u001b[0mcalc_contribution_confidence_intervals\u001b[0m\u001b[1;33m(\u001b[0m\u001b[0mconcat_df\u001b[0m\u001b[1;33m,\u001b[0m \u001b[0mmodel2_info\u001b[0m\u001b[1;33m,\u001b[0m \u001b[0mpfas_vars\u001b[0m\u001b[1;33m,\u001b[0m \u001b[0msources\u001b[0m\u001b[1;33m,\u001b[0m \u001b[0mn_iterations\u001b[0m\u001b[1;33m,\u001b[0m \u001b[0mremoved_vars\u001b[0m\u001b[1;33m,\u001b[0m \u001b[0mnum_pcs_dict\u001b[0m\u001b[1;33m,\u001b[0m \u001b[0mother_PC_profiles_names\u001b[0m\u001b[1;33m)\u001b[0m\u001b[1;33m\u001b[0m\u001b[1;33m\u001b[0m\u001b[0m\n\u001b[0m",
      "\u001b[1;32m~\\OneDrive\\Desktop\\repos\\PFAS-Analysis\\scripts\\source_attribution_analysis\\pfas18\\utils.py\u001b[0m in \u001b[0;36mcalc_contribution_confidence_intervals\u001b[1;34m(concat_df, model2_info, pfas_vars, sources, n_iterations, removed_vars, num_pcs_dict, other_PC_profiles_names)\u001b[0m\n\u001b[0;32m    395\u001b[0m     \u001b[0mci\u001b[0m \u001b[1;33m=\u001b[0m \u001b[1;33m[\u001b[0m\u001b[1;33m]\u001b[0m\u001b[1;33m\u001b[0m\u001b[1;33m\u001b[0m\u001b[0m\n\u001b[0;32m    396\u001b[0m     \u001b[0myerror\u001b[0m \u001b[1;33m=\u001b[0m \u001b[1;33m[\u001b[0m\u001b[1;33m]\u001b[0m\u001b[1;33m\u001b[0m\u001b[1;33m\u001b[0m\u001b[0m\n\u001b[1;32m--> 397\u001b[1;33m     \u001b[1;32mfor\u001b[0m \u001b[0msource\u001b[0m \u001b[1;32min\u001b[0m \u001b[0menumerate\u001b[0m\u001b[1;33m(\u001b[0m\u001b[0msource_names\u001b[0m\u001b[1;33m)\u001b[0m\u001b[1;33m:\u001b[0m\u001b[1;33m\u001b[0m\u001b[1;33m\u001b[0m\u001b[0m\n\u001b[0m\u001b[0;32m    398\u001b[0m         \u001b[0ma\u001b[0m \u001b[1;33m=\u001b[0m \u001b[0mpd\u001b[0m\u001b[1;33m.\u001b[0m\u001b[0mDataFrame\u001b[0m\u001b[1;33m(\u001b[0m\u001b[0mattribution_dict\u001b[0m\u001b[1;33m)\u001b[0m\u001b[1;33m.\u001b[0m\u001b[0mloc\u001b[0m\u001b[1;33m[\u001b[0m\u001b[0msource\u001b[0m\u001b[1;33m[\u001b[0m\u001b[1;36m0\u001b[0m\u001b[1;33m]\u001b[0m\u001b[1;33m,\u001b[0m\u001b[1;33m:\u001b[0m\u001b[1;33m]\u001b[0m\u001b[1;33m\u001b[0m\u001b[1;33m\u001b[0m\u001b[0m\n\u001b[0;32m    399\u001b[0m         \u001b[0mintervals\u001b[0m \u001b[1;33m=\u001b[0m \u001b[0mst\u001b[0m\u001b[1;33m.\u001b[0m\u001b[0mt\u001b[0m\u001b[1;33m.\u001b[0m\u001b[0minterval\u001b[0m\u001b[1;33m(\u001b[0m\u001b[1;36m0.95\u001b[0m\u001b[1;33m,\u001b[0m \u001b[0mlen\u001b[0m\u001b[1;33m(\u001b[0m\u001b[0ma\u001b[0m\u001b[1;33m)\u001b[0m\u001b[1;33m-\u001b[0m\u001b[1;36m1\u001b[0m\u001b[1;33m,\u001b[0m \u001b[0mloc\u001b[0m\u001b[1;33m=\u001b[0m\u001b[0mnp\u001b[0m\u001b[1;33m.\u001b[0m\u001b[0mmean\u001b[0m\u001b[1;33m(\u001b[0m\u001b[0ma\u001b[0m\u001b[1;33m)\u001b[0m\u001b[1;33m,\u001b[0m \u001b[0mscale\u001b[0m\u001b[1;33m=\u001b[0m\u001b[0mst\u001b[0m\u001b[1;33m.\u001b[0m\u001b[0msem\u001b[0m\u001b[1;33m(\u001b[0m\u001b[0ma\u001b[0m\u001b[1;33m)\u001b[0m\u001b[1;33m)\u001b[0m\u001b[1;33m\u001b[0m\u001b[1;33m\u001b[0m\u001b[0m\n",
      "\u001b[1;31mUnboundLocalError\u001b[0m: local variable 'source_names' referenced before assignment"
     ]
    }
   ],
   "source": [
    "source_names, means, yerror = utils.calc_contribution_confidence_intervals(concat_df, model2_info, pfas_vars, sources, n_iterations, removed_vars, num_pcs_dict, other_PC_profiles_names)"
   ]
  },
  {
   "cell_type": "code",
   "execution_count": null,
   "id": "8fbfe524-2ddc-4cfc-8989-543f3a75bf7a",
   "metadata": {
    "tags": []
   },
   "outputs": [],
   "source": [
    "x = source_names\n",
    "y = means\n",
    "\n",
    "plt.figure(figsize=(15, 10), dpi=80)\n",
    "plt.title('WEST - Confidence Intervals for Source Attribution', fontsize = 20)\n",
    "\n",
    "plt.xlabel('Source Type', fontsize = 14)\n",
    "plt.ylabel('Attribution (%)', fontsize = 14)\n",
    "\n",
    "plt.errorbar(range(len(x)),y,yerr = yerror, fmt = 'o', ecolor = 'black', capsize = 5, ms = 5)\n",
    "plt.xticks(range(len(x)), x,fontsize = 12)"
   ]
  },
  {
   "cell_type": "code",
   "execution_count": null,
   "id": "b69535ac-f743-4111-b832-1f1568b744e1",
   "metadata": {},
   "outputs": [],
   "source": [
    "# (Average variance explained by model, standard deviation)\n",
    "utils.calculate_average_model_score(model2_info, n_iterations, sources, pfas_vars)"
   ]
  },
  {
   "cell_type": "code",
   "execution_count": 26,
   "id": "47dc5e8c-bd54-45b1-a95a-2a9e07fdedee",
   "metadata": {},
   "outputs": [
    {
     "name": "stdout",
     "output_type": "stream",
     "text": [
      "NEtFOSAA nan\n",
      "PFBS -2.220446049250313e-16\n",
      "PFDA 8.881784197001252e-16\n",
      "PFHpA 0.0\n",
      "PFHxA 0.0\n",
      "PFHxS 1.1102230246251565e-16\n",
      "PFNA -2.220446049250313e-16\n",
      "PFOA 0.0\n",
      "PFOS 0.0\n"
     ]
    }
   ],
   "source": [
    "for pfas in pfas_vars[:]:\n",
    "\n",
    "    rs = resample(concat_df, n_samples = concat_df.shape[0], random_state = 42).copy()\n",
    "    X = rs[predictor_list]\n",
    "    y = rs[pfas].copy()\n",
    "\n",
    "    lm = PoissonRegressor().fit(X, y)\n",
    "    lm.intercept_\n",
    "    lm.coef_\n",
    "    print(pfas, lm.score(X, y))\n",
    "    mean_squared_error(y, lm.predict(X))"
   ]
  },
  {
   "cell_type": "code",
   "execution_count": null,
   "id": "591885c6-8d79-4e80-b867-7c6b5acd90ef",
   "metadata": {},
   "outputs": [],
   "source": []
  }
 ],
 "metadata": {
  "kernelspec": {
   "display_name": "Python 3",
   "language": "python",
   "name": "python3"
  },
  "language_info": {
   "codemirror_mode": {
    "name": "ipython",
    "version": 3
   },
   "file_extension": ".py",
   "mimetype": "text/x-python",
   "name": "python",
   "nbconvert_exporter": "python",
   "pygments_lexer": "ipython3",
   "version": "3.8.8"
  }
 },
 "nbformat": 4,
 "nbformat_minor": 5
}
